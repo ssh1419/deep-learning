{
  "nbformat": 4,
  "nbformat_minor": 0,
  "metadata": {
    "coursera": {
      "course_slug": "neural-networks-deep-learning",
      "graded_item_id": "XaIWT",
      "launcher_item_id": "zAgPl"
    },
    "kernelspec": {
      "display_name": "Python 3",
      "language": "python",
      "name": "python3"
    },
    "language_info": {
      "codemirror_mode": {
        "name": "ipython",
        "version": 3
      },
      "file_extension": ".py",
      "mimetype": "text/x-python",
      "name": "python",
      "nbconvert_exporter": "python",
      "pygments_lexer": "ipython3",
      "version": "3.7.6"
    },
    "colab": {
      "name": "LinReg_Neural_Network_v1.ipynb",
      "provenance": [],
      "collapsed_sections": []
    }
  },
  "cells": [
    {
      "cell_type": "markdown",
      "metadata": {
        "id": "3IqG8CnTEnNq",
        "colab_type": "text"
      },
      "source": [
        "SeokHwan SONG, #701520820"
      ]
    },
    {
      "cell_type": "markdown",
      "metadata": {
        "id": "BJkPZkS2tpUR",
        "colab_type": "text"
      },
      "source": [
        "# Two-layer Linear Regression Neural Network\n",
        "\n",
        "Welcome to your first programming assignment for EE526! You will build a binary classifier to recognize dogs. This assignment will step you through how to do this with a network that implements iterative logistic regression.\n",
        "\n",
        "This project is based on a project from Coursera Deep Learning Basics by Andrew Ng.\n",
        "\n",
        "**Instructions:**\n",
        "EE 526 Assignment 1: Two-layer Linear Regression Neural Network\n",
        "\n",
        "*Before you start*, please download a copy of this file and the two data files for testing and training into your google drive in the same folder as the notebook. Please put your name and ISU ID in following format at the top of the file.\n",
        ": Firstname LASTNAME, #00000000 // e.g.) Julie DICKERSON, #12345678\n"
      ]
    },
    {
      "cell_type": "markdown",
      "metadata": {
        "id": "zh4vmPzPtpUT",
        "colab_type": "text"
      },
      "source": [
        "# Assignment Objectives\n",
        "\n",
        "- Build the general architecture of a learning algorithm, including:\n",
        "    - Initializing parameters\n",
        "    - Building sigmoid functions\n",
        "    - Calculating the cost function and its gradient\n",
        "    - Using an optimization algorithm (gradient descent) \n",
        "\n",
        "- Link the functions into a main model function that can run the training process in a single function call.\n",
        "\n",
        "**Note:** this structure will be similar to the structures used in deep learning frameworks such as PyTorch and TensorFlow. So getting used to thinking this way will help you advance to more advanced projects later."
      ]
    },
    {
      "cell_type": "markdown",
      "metadata": {
        "id": "IE7n87fWtpUV",
        "colab_type": "text"
      },
      "source": [
        "## 1 - Packages used in this code ##\n",
        "\n",
        "First, let's run the cell below to import all the packages that you will need during this assignment. \n",
        "- [numpy](www.numpy.org) is the fundamental package for scientific computing with Python.\n",
        "- [pickle](http://www.h5py.org) is a common package to interact with a dataset that is stored as a pickle file.\n",
        "- [matplotlib](http://matplotlib.org) is a famous library to plot graphs in Python."
      ]
    },
    {
      "cell_type": "code",
      "metadata": {
        "id": "07i0LVwXtpUW",
        "colab_type": "code",
        "colab": {}
      },
      "source": [
        "import numpy as np\n",
        "import matplotlib.pyplot as plt\n",
        "import pickle\n",
        "\n",
        "%matplotlib inline"
      ],
      "execution_count": 1,
      "outputs": []
    },
    {
      "cell_type": "markdown",
      "metadata": {
        "id": "FO-cY6i6tpUf",
        "colab_type": "text"
      },
      "source": [
        "## 2 - Overview and Pre-processing of the Image data set ##\n",
        "\n",
        "**Problem Statement**: The data set comes from the CIFAR-10 image collection. The [CIFAR-10](https://www.cs.toronto.edu/~kriz/cifar.html) and CIFAR-100 are labeled subsets of the 80 million tiny images dataset. They were collected by Alex Krizhevsky, Vinod Nair, and Geoffrey Hinton.\n",
        "\n",
        "You will use a dataset (\"data_dog_nondog.pickle\") containing:\n",
        "    - a training set of m_train images labeled as dog (y=1) or non-dog (y=0)\n",
        "    - a test set of m_test images labeled as dog or non-dog\n",
        "    - each image is of shape (num_px, num_px, 3) where 3 is for the 3 channels (RGB). Thus, each image is square (height = num_px) and (width = num_px). To represent color images, the red, green and blue channels (RGB) must be specified for each pixel, so each pixel value is actually a vector of three numbers ranging from 0 to 255.\n",
        "\n",
        "You will build a simple image-recognition algorithm that can correctly classify the images. \n"
      ]
    },
    {
      "cell_type": "code",
      "metadata": {
        "id": "gjdDE08Gpdg8",
        "colab_type": "code",
        "colab": {
          "base_uri": "https://localhost:8080/",
          "height": 122
        },
        "outputId": "e5f8ec62-8403-46e2-d6e0-bc42fa27ad9c"
      },
      "source": [
        "from google.colab import drive\n",
        "drive.mount('/content/drive')"
      ],
      "execution_count": 3,
      "outputs": [
        {
          "output_type": "stream",
          "text": [
            "Go to this URL in a browser: https://accounts.google.com/o/oauth2/auth?client_id=947318989803-6bn6qk8qdgf4n4g3pfee6491hc0brc4i.apps.googleusercontent.com&redirect_uri=urn%3aietf%3awg%3aoauth%3a2.0%3aoob&scope=email%20https%3a%2f%2fwww.googleapis.com%2fauth%2fdocs.test%20https%3a%2f%2fwww.googleapis.com%2fauth%2fdrive%20https%3a%2f%2fwww.googleapis.com%2fauth%2fdrive.photos.readonly%20https%3a%2f%2fwww.googleapis.com%2fauth%2fpeopleapi.readonly&response_type=code\n",
            "\n",
            "Enter your authorization code:\n",
            "··········\n",
            "Mounted at /content/drive\n"
          ],
          "name": "stdout"
        }
      ]
    },
    {
      "cell_type": "markdown",
      "metadata": {
        "id": "eFU96F99P-nW",
        "colab_type": "text"
      },
      "source": [
        "**Step 1: Read in the data files**\n",
        "\n",
        "*Step 1A: Mount your google drive to link to the data file*\n",
        "This process is illustrated in a short video on the assignment page. Basically, you will mount your Google drive (choose the iastate one). It will come back with a URL that will give you an authorization code."
      ]
    },
    {
      "cell_type": "code",
      "metadata": {
        "id": "_oCbDmzfQGoq",
        "colab_type": "code",
        "colab": {
          "base_uri": "https://localhost:8080/",
          "height": 34
        },
        "outputId": "88a5999b-6f54-4c2c-f1a9-c66c28a0f3c0"
      },
      "source": [
        "from google.colab import drive\n",
        "drive.mount('/content/gdrive')"
      ],
      "execution_count": 4,
      "outputs": [
        {
          "output_type": "stream",
          "text": [
            "Mounted at /content/gdrive\n"
          ],
          "name": "stdout"
        }
      ]
    },
    {
      "cell_type": "markdown",
      "metadata": {
        "id": "WEKuGS1DQdht",
        "colab_type": "text"
      },
      "source": [
        "Step 1B: Load dataset You will have to be sure to put in the correct path for your files after the /content/gdrive/My Drive/.\n",
        "\n",
        "Read the file. The data set is prepared as a python dictionary."
      ]
    },
    {
      "cell_type": "markdown",
      "metadata": {
        "id": "nlopRIQSPhXT",
        "colab_type": "text"
      },
      "source": [
        "Do reshape and plot for check. Remember, each line in *x_train* correspond to a RGB picture, you need to reshape them correctly so that you can plot it as a picture we want. For more details, refer [cifar10](http://www.cs.toronto.edu/~kriz/cifar.html) to check how authors organized data."
      ]
    },
    {
      "cell_type": "code",
      "metadata": {
        "id": "Gaf50MY8QlHb",
        "colab_type": "code",
        "colab": {
          "base_uri": "https://localhost:8080/",
          "height": 34
        },
        "outputId": "d9f7b106-c8ed-4b1a-808e-fd7ca151b514"
      },
      "source": [
        "with open('/content/gdrive/My Drive/Colab Notebooks/EE526HW1/data_dog_nondog.pickle', 'rb') as handle:\n",
        "    data_dict = pickle.load(handle)\n",
        "\n",
        "print(data_dict.keys())"
      ],
      "execution_count": 5,
      "outputs": [
        {
          "output_type": "stream",
          "text": [
            "dict_keys(['x_train', 'y_train', 'x_test', 'y_test'])\n"
          ],
          "name": "stdout"
        }
      ]
    },
    {
      "cell_type": "code",
      "metadata": {
        "id": "2SepocDbQzaw",
        "colab_type": "code",
        "colab": {
          "base_uri": "https://localhost:8080/",
          "height": 102
        },
        "outputId": "960c0c2a-1a0f-4cb4-af74-c560485ed83b"
      },
      "source": [
        "print(data_dict.keys())\n",
        "x_train = data_dict['x_train']\n",
        "y_train = data_dict['y_train']\n",
        "x_test = data_dict['x_test']\n",
        "y_test = data_dict['y_test']\n",
        "print(x_train.shape)\n",
        "print(y_train.shape)\n",
        "print(x_test.shape)\n",
        "print(y_test.shape)"
      ],
      "execution_count": 6,
      "outputs": [
        {
          "output_type": "stream",
          "text": [
            "dict_keys(['x_train', 'y_train', 'x_test', 'y_test'])\n",
            "(2000, 3072)\n",
            "(2000,)\n",
            "(200, 3072)\n",
            "(200,)\n"
          ],
          "name": "stdout"
        }
      ]
    },
    {
      "cell_type": "markdown",
      "metadata": {
        "id": "9Ls9B0lTQ7h7",
        "colab_type": "text"
      },
      "source": [
        "The images have already been preprocessed into a vector. After preprocessing, we will end up with train_set_x and test_set_x where each column is an input data vector.\n",
        "Each line of your train_set_x_orig and test_set_x_orig is an array representing an image. You can visualize an example by running the following code. Change the *index_dog* value and re-run the cell to see other images. For more details, refer cifar10 to check how authors organized data."
      ]
    },
    {
      "cell_type": "code",
      "metadata": {
        "id": "ye4pH-0QKACD",
        "colab_type": "code",
        "colab": {
          "base_uri": "https://localhost:8080/",
          "height": 283
        },
        "outputId": "65eb3b0b-7425-4e83-a116-c85778ba83cb"
      },
      "source": [
        "x_train_show = x_train.reshape((x_train.shape[0],3,32,32)).transpose(0,2,3,1)\n",
        "x_test_show = x_test.reshape((x_test.shape[0],3,32,32)).transpose(0,2,3,1)\n",
        "index_dog = 9\n",
        "plt.imshow(x_test_show[index_dog,:,:,:])"
      ],
      "execution_count": 7,
      "outputs": [
        {
          "output_type": "execute_result",
          "data": {
            "text/plain": [
              "<matplotlib.image.AxesImage at 0x7f923cb91390>"
            ]
          },
          "metadata": {
            "tags": []
          },
          "execution_count": 7
        },
        {
          "output_type": "display_data",
          "data": {
            "image/png": "[encoded data removed]",
            "text/plain": [
              "<Figure size 432x288 with 1 Axes>"
            ]
          },
          "metadata": {
            "tags": [],
            "needs_background": "light"
          }
        }
      ]
    },
    {
      "cell_type": "code",
      "metadata": {
        "id": "jLot5WfptpUg",
        "colab_type": "code",
        "colab": {
          "base_uri": "https://localhost:8080/",
          "height": 283
        },
        "outputId": "3cee9d65-913c-4d6d-81e7-ec39d3805f1f"
      },
      "source": [
        "index_notdog = 1009\n",
        "plt.imshow(x_train_show[index_notdog,:,:,:])"
      ],
      "execution_count": 8,
      "outputs": [
        {
          "output_type": "execute_result",
          "data": {
            "text/plain": [
              "<matplotlib.image.AxesImage at 0x7f923cae6cf8>"
            ]
          },
          "metadata": {
            "tags": []
          },
          "execution_count": 8
        },
        {
          "output_type": "display_data",
          "data": {
            "image/png": "[encoded data removed]",
            "text/plain": [
              "<Figure size 432x288 with 1 Axes>"
            ]
          },
          "metadata": {
            "tags": [],
            "needs_background": "light"
          }
        }
      ]
    },
    {
      "cell_type": "code",
      "metadata": {
        "id": "BKdaX-JZRmBS",
        "colab_type": "code",
        "colab": {}
      },
      "source": [
        "# Transpose the data so that each column is an image (dog/non-dog)\n",
        "x_train = x_train.T\n",
        "y_train = y_train.T\n",
        "x_test = x_test.T\n",
        "y_test = y_test.T"
      ],
      "execution_count": 9,
      "outputs": []
    },
    {
      "cell_type": "markdown",
      "metadata": {
        "id": "3fieWtdotpUq",
        "colab_type": "text"
      },
      "source": [
        "Many software bugs in deep learning come from having matrix/vector dimensions that don't fit. If you can keep your matrix/vector dimensions straight you will go a long way toward eliminating many bugs. \n",
        "\n",
        "**Exercise:** Find the values for:\n",
        "    - m_train (number of training examples)\n",
        "    - m_test (number of test examples)\n",
        "    - num_nx (size of the input vector)\n"
      ]
    },
    {
      "cell_type": "code",
      "metadata": {
        "scrolled": true,
        "id": "9XgjAW6_tpUq",
        "colab_type": "code",
        "colab": {
          "base_uri": "https://localhost:8080/",
          "height": 68
        },
        "outputId": "b530e89e-00aa-497b-beff-24693f5cb6d1"
      },
      "source": [
        "### START CODE HERE ### \n",
        "m_train = x_train.shape[1]\n",
        "m_test = x_test.shape[1]\n",
        "num_nx = x_test.shape[0]\n",
        "### END CODE HERE ###\n",
        "\n",
        "print (\"Number of training examples: m_train = \" + str(m_train))\n",
        "print (\"Number of testing examples: m_test = \" + str(m_test))\n",
        "print (\"Height/Width of each image: num_px = \" + str(num_nx))"
      ],
      "execution_count": 10,
      "outputs": [
        {
          "output_type": "stream",
          "text": [
            "Number of training examples: m_train = 2000\n",
            "Number of testing examples: m_test = 200\n",
            "Height/Width of each image: num_px = 3072\n"
          ],
          "name": "stdout"
        }
      ]
    },
    {
      "cell_type": "code",
      "metadata": {
        "id": "EHZLQ6wJav7L",
        "colab_type": "code",
        "colab": {}
      },
      "source": [
        ""
      ],
      "execution_count": 10,
      "outputs": []
    },
    {
      "cell_type": "markdown",
      "metadata": {
        "id": "Bl5CpafltpUt",
        "colab_type": "text"
      },
      "source": [
        "**Expected Output for m_train, m_test and num_px**: \n",
        "<table style=\"width:15%\">\n",
        "  <tr>\n",
        "    <td>**m_train**</td>\n",
        "    <td> 2000 </td> \n",
        "  </tr>\n",
        "  \n",
        "  <tr>\n",
        "    <td>**m_test**</td>\n",
        "    <td> 200 </td> \n",
        "  </tr>\n",
        "  \n",
        "  <tr>\n",
        "    <td>**num_nx**</td>\n",
        "    <td> 3072 </td> \n",
        "  </tr>\n",
        "  \n",
        "</table>\n"
      ]
    },
    {
      "cell_type": "markdown",
      "metadata": {
        "id": "m-wyE7VJtpUx",
        "colab_type": "text"
      },
      "source": [
        "###Standardize the data\n",
        "\n",
        "One common preprocessing step in machine learning is to center and standardize your dataset, meaning that you substract the mean of the whole numpy array from each example, and then divide each example by the standard deviation of the whole numpy array. This normalization helps to scale all the data into the same range. \n",
        "\n",
        "For picture datasets, it is simpler and more convenient and works almost as well to just divide every row of the dataset by 255 (the maximum value of a pixel channel).\n",
        "\n",
        "During the training of your model, you're going to multiply weights and add biases to some initial inputs in order to observe neuron activations. Then you backpropogate with the gradients to train the model. But, it is extremely important for each feature to have a similar range such that our gradients don't explode.\n",
        "\n",
        "Let's standardize our dataset."
      ]
    },
    {
      "cell_type": "code",
      "metadata": {
        "id": "0tWxDVRNtpUy",
        "colab_type": "code",
        "colab": {}
      },
      "source": [
        "train_set_x = x_train/255.\n",
        "test_set_x = x_test/255."
      ],
      "execution_count": 11,
      "outputs": []
    },
    {
      "cell_type": "markdown",
      "metadata": {
        "id": "TTchw2DFtpU0",
        "colab_type": "text"
      },
      "source": [
        "<font color='blue'>\n",
        "**What you need to remember:**\n",
        "\n",
        "Common steps for pre-processing a new dataset are:\n",
        "- Figure out the dimensions and shapes of the problem (m_train, m_test, num_px, ...)\n",
        "- Reshape the datasets such that each example is now a vector of size (num_px \\* num_px \\* 3, 1)\n",
        "- \"Standardize\" the data"
      ]
    },
    {
      "cell_type": "markdown",
      "metadata": {
        "id": "vGAHK_svtpU1",
        "colab_type": "text"
      },
      "source": [
        "## 3 - General Architecture of the learning algorithm ##\n",
        "\n",
        "It's time to design a simple network to distinguish dog images from non-dog images.\n",
        "\n",
        "You will build a two layer linear regression neural network with backpropagation training as derived in class.\n",
        "\n",
        "\n",
        "**Mathematical expression of the algorithm**:\n",
        "\n",
        "For one example $x^{(i)}$:\n",
        "$$z^{(i)} = W^T x^{(i)} + b \\tag{1}$$\n",
        "$$\\hat{y}^{(i)} = a^{(i)} = sigmoid(z^{(i)})\\tag{2}$$ \n",
        "$$ \\mathcal{L}(a^{(i)}, y^{(i)}) =  - y^{(i)}  \\log(a^{(i)}) - (1-y^{(i)} )  \\log(1-a^{(i)})\\tag{3}$$\n",
        "\n",
        "The cost is then computed by summing over all training examples:\n",
        "$$ J = \\frac{1}{m} \\sum_{i=1}^m \\mathcal{L}(a^{(i)}, y^{(i)})\\tag{6}$$\n",
        "\n",
        "**Key steps**:\n",
        "In this exercise, you will carry out the following steps: \n",
        "\n",
        "    - Initialize the parameters of the model\n",
        "    - Learn the parameters for the model by minimizing the cost  \n",
        "    - Use the learned parameters to make predictions (on the test set)\n",
        "    - Analyse the results and conclude"
      ]
    },
    {
      "cell_type": "markdown",
      "metadata": {
        "id": "WU6dsq-YtpU1",
        "colab_type": "text"
      },
      "source": [
        "## 4 - Building the parts of our algorithm ## \n",
        "\n",
        "The main steps for building a Neural Network are:\n",
        "1. Define the model structure (such as number of input features) \n",
        "2. Initialize the model's parameters\n",
        "3. Loop:\n",
        "    - Calculate current loss (forward propagation)\n",
        "    - Calculate current gradient (backward propagation)\n",
        "    - Update parameters (gradient descent)\n",
        "\n",
        "You often build 1-3 separately and integrate them into one function we call `model()`.\n",
        "\n",
        "### 4.1 - Helper functions\n",
        "\n",
        "**Exercise**: Implement the `sigmoid()`. As you've seen in lecture, you need to compute $sigmoid( w^T x + b) = \\frac{1}{1 + e^{-(w^T x + b)}}$ to make predictions. Use np.exp() to compute the exponential."
      ]
    },
    {
      "cell_type": "code",
      "metadata": {
        "id": "2G_bAp9OtpU2",
        "colab_type": "code",
        "colab": {}
      },
      "source": [
        "# GRADED FUNCTION: sigmoid\n",
        "\n",
        "def sigmoid(z):\n",
        "    \"\"\"\n",
        "    Compute the sigmoid of z\n",
        "\n",
        "    Arguments:\n",
        "    z -- A scalar or numpy array of any size.\n",
        "\n",
        "    Return:\n",
        "    s -- sigmoid(z)\n",
        "    \"\"\"\n",
        "\n",
        "    ### START CODE HERE ### \n",
        "    s = 1/( 1 + np.exp( -z))\n",
        "\n",
        "    ### END CODE HERE ###\n",
        "    \n",
        "    return s"
      ],
      "execution_count": 12,
      "outputs": []
    },
    {
      "cell_type": "code",
      "metadata": {
        "scrolled": true,
        "id": "Io3mSLwwtpU3",
        "colab_type": "code",
        "colab": {
          "base_uri": "https://localhost:8080/",
          "height": 34
        },
        "outputId": "ad1a3eff-43bc-4626-eab4-330bd8430729"
      },
      "source": [
        "# verify that your function works properly by putting in different size\n",
        "# arrays and values. An example is given below.\n",
        "print (\"sigmoid([0, 2]) = \" + str(sigmoid(np.array([0,2]))))"
      ],
      "execution_count": 13,
      "outputs": [
        {
          "output_type": "stream",
          "text": [
            "sigmoid([0, 2]) = [0.5        0.88079708]\n"
          ],
          "name": "stdout"
        }
      ]
    },
    {
      "cell_type": "markdown",
      "metadata": {
        "id": "b3imoB9ntpU5",
        "colab_type": "text"
      },
      "source": [
        "**Expected Output**: \n",
        "\n",
        "<table>\n",
        "  <tr>\n",
        "    <td>**sigmoid([0, 2])**</td>\n",
        "    <td> [ 0.5         0.88079708]</td> \n",
        "  </tr>\n",
        "</table>"
      ]
    },
    {
      "cell_type": "markdown",
      "metadata": {
        "id": "9B6dIPAXtpU6",
        "colab_type": "text"
      },
      "source": [
        "### 4.2 - Initializing parameters\n",
        "\n",
        "**Exercise:** Implement parameter initialization in the cell below. You have to initialize w as a vector of zeros. If you don't know what numpy function to use, look up np.random.randn() in the Numpy library's documentation at [numpy.org](https://numpy.org)"
      ]
    },
    {
      "cell_type": "code",
      "metadata": {
        "id": "YlkNytn7tpU6",
        "colab_type": "code",
        "colab": {}
      },
      "source": [
        "# GRADED FUNCTION: initialize_with_rand\n",
        "\n",
        "def initialize_with_rand(dim):\n",
        "    \"\"\"\n",
        "    This function creates a vector of small normally distributed random numbers of shape (dim, 1) for w and initializes b to 0.\n",
        "    \n",
        "    Argument:\n",
        "    dim -- size of the w vector we want (or number of parameters in this case)\n",
        "    \n",
        "    Returns:\n",
        "    w -- initialized vector of shape (dim, 1)\n",
        "    b -- initialized scalar to 0 (corresponds to the bias)\n",
        "    \"\"\"\n",
        "    np.random.seed(2) # we set up a seed so that your output matches ours although the initialization is random.\n",
        "\n",
        "    ### START CODE HERE ### \n",
        "    w = np.random.normal(0, 0.01, (dim, 1))\n",
        "    b = 0\n",
        "    ### END CODE HERE ###\n",
        "\n",
        "# the assert statements are used to verify that the components\n",
        "# are the expected size. This helps avoid errors in creating models.\n",
        "    assert(w.shape == (dim, 1))\n",
        "    assert(isinstance(b, float) or isinstance(b, int))\n",
        "    \n",
        "    return w, b"
      ],
      "execution_count": 14,
      "outputs": []
    },
    {
      "cell_type": "code",
      "metadata": {
        "id": "c_l-K_lAtpU8",
        "colab_type": "code",
        "colab": {
          "base_uri": "https://localhost:8080/",
          "height": 68
        },
        "outputId": "4cf11e89-1d49-480b-9662-df0e3576f292"
      },
      "source": [
        "dim = 2\n",
        "w, b = initialize_with_rand(dim)\n",
        "print (\"w = \" + str(w))\n",
        "print (\"b = \" + str(b))"
      ],
      "execution_count": 15,
      "outputs": [
        {
          "output_type": "stream",
          "text": [
            "w = [[-0.00416758]\n",
            " [-0.00056267]]\n",
            "b = 0\n"
          ],
          "name": "stdout"
        }
      ]
    },
    {
      "cell_type": "markdown",
      "metadata": {
        "id": "_5JOk7WPtpU-",
        "colab_type": "text"
      },
      "source": [
        "**Expected Output**: \n",
        "\n",
        "\n",
        "<table style=\"width:15%\">\n",
        "    <tr>\n",
        "        <td>  ** w **  </td>\n",
        "        <td> [[ -0.00416758]\n",
        " [ -0.00056267]] </td>\n",
        "    </tr>\n",
        "    <tr>\n",
        "        <td>  ** b **  </td>\n",
        "        <td> 0 </td>\n",
        "    </tr>\n",
        "</table>\n",
        "\n",
        "For image inputs, w will be of shape (num_px $\\times$ num_px $\\times$ 3, 1)."
      ]
    },
    {
      "cell_type": "markdown",
      "metadata": {
        "id": "6a2B8mnltpU-",
        "colab_type": "text"
      },
      "source": [
        "### 4.3 - Forward and Backward propagation\n",
        "\n",
        "Now that your parameters are initialized, you can do the \"forward\" and \"backward\" propagation steps for learning the parameters.\n",
        "\n",
        "**Exercise:** Implement a function `propagate()` that computes the cost function and its gradient.\n",
        "\n",
        "**Hints**:\n",
        "\n",
        "Forward Propagation:\n",
        "- You get X\n",
        "- You compute $A = \\sigma(w^T X + b) = (a^{(1)}, a^{(2)}, ..., a^{(m-1)}, a^{(m)})$\n",
        "- You calculate the cost function: $J = -\\frac{1}{m}\\sum_{i=1}^{m}y^{(i)}\\log(a^{(i)})+(1-y^{(i)})\\log(1-a^{(i)})$\n",
        "\n",
        "Here are the two vector formulas you will be using for back propagation: \n",
        "\n",
        "$$ \\frac{\\partial J}{\\partial w} = -\\frac{1}{m}X(Y-A)^T\\tag{7}$$\n",
        "$$ \\frac{\\partial J}{\\partial b} = -\\frac{1}{m} \\sum_{i=1}^m (y^{(i)}-a^{(i)})\\tag{8}$$"
      ]
    },
    {
      "cell_type": "code",
      "metadata": {
        "id": "lA6jKCEztpU-",
        "colab_type": "code",
        "colab": {}
      },
      "source": [
        "# GRADED FUNCTION: propagate\n",
        "\n",
        "def propagate(w, b, X, Y):\n",
        "    \"\"\"\n",
        "    Implement the cost function and its gradient for the propagation explained above\n",
        "\n",
        "    Arguments:\n",
        "    w -- weights, a numpy array of size (num_px * num_px * 3, 1)\n",
        "    b -- bias, a scalar\n",
        "    X -- data of size (num_px * num_px * 3, number of examples)\n",
        "    Y -- true \"label\" vector (containing 0 if non-cat, 1 if cat) of size (1, number of examples)\n",
        "\n",
        "    Return:\n",
        "    cost -- negative log-likelihood cost for logistic regression\n",
        "    dw -- gradient of the loss with respect to w, thus same shape as w\n",
        "    db -- gradient of the loss with respect to b, thus same shape as b\n",
        "    \n",
        "    Tips:\n",
        "    - Write your code step by step for the propagation. np.log(), np.dot()\n",
        "    \"\"\"\n",
        "    \n",
        "    \n",
        "    # FORWARD PROPAGATION (FROM X TO COST)\n",
        "    ### START CODE HERE ### \n",
        "    m = X.shape[1]\n",
        "    z = np.dot(w.T, X) + b\n",
        "    A =  sigmoid(z)                 # compute activation\n",
        "    cost = (-1/m)*np.sum(Y*(np.log(A)) + (1-Y)*(np.log(1-A)))          # compute cost\n",
        "    ### END CODE HERE ###\n",
        "    \n",
        "    # BACKWARD PROPAGATION (TO FIND GRAD)\n",
        "    ### START CODE HERE ### (≈ 2 lines of code)\n",
        "    dw = (-1/m)*np.dot(X, (Y-A).T)\n",
        "    db = (-1/m)*np.sum(Y-A)\n",
        "    ### END CODE HERE ###\n",
        "\n",
        "    # verify the shapes/dimensions of vectors\n",
        "    assert(dw.shape == w.shape)\n",
        "    assert(db.dtype == float)\n",
        "    cost = np.squeeze(cost)\n",
        "    assert(cost.shape == ())\n",
        "    \n",
        "    # store gradients in a python dictionary object\n",
        "    grads = {\"dw\": dw,\n",
        "             \"db\": db}\n",
        "    \n",
        "    return grads, cost"
      ],
      "execution_count": 16,
      "outputs": []
    },
    {
      "cell_type": "code",
      "metadata": {
        "id": "59Q_jrwftpVA",
        "colab_type": "code",
        "colab": {
          "base_uri": "https://localhost:8080/",
          "height": 85
        },
        "outputId": "c6b9ee38-88ef-4102-ee7f-f91bf2c820cc"
      },
      "source": [
        "w, b, X, Y = np.array([[1.],[2.]]), 2., np.array([[1.,2.,-1.],[3.,4.,-3.2]]), np.array([[1,0,1]])\n",
        "grads, cost = propagate(w, b, X, Y)\n",
        "print (\"dw = \" + str(grads[\"dw\"]))\n",
        "print (\"db = \" + str(grads[\"db\"]))\n",
        "print (\"cost = \" + str(cost))"
      ],
      "execution_count": 17,
      "outputs": [
        {
          "output_type": "stream",
          "text": [
            "dw = [[0.99845601]\n",
            " [2.39507239]]\n",
            "db = 0.001455578136784208\n",
            "cost = 5.801545319394553\n"
          ],
          "name": "stdout"
        }
      ]
    },
    {
      "cell_type": "markdown",
      "metadata": {
        "id": "iN0ZOQ29tpVC",
        "colab_type": "text"
      },
      "source": [
        "**Expected Output**:\n",
        "\n",
        "<table style=\"width:50%\">\n",
        "    <tr>\n",
        "        <td>  ** dw **  </td>\n",
        "      <td> [[ 0.99845601]\n",
        "     [ 2.39507239]]</td>\n",
        "    </tr>\n",
        "    <tr>\n",
        "        <td>  ** db **  </td>\n",
        "        <td> 0.00145557813678 </td>\n",
        "    </tr>\n",
        "    <tr>\n",
        "        <td>  ** cost **  </td>\n",
        "        <td> 5.801545319394553 </td>\n",
        "    </tr>\n",
        "\n",
        "</table>"
      ]
    },
    {
      "cell_type": "markdown",
      "metadata": {
        "id": "DExKtJzitpVD",
        "colab_type": "text"
      },
      "source": [
        "### 4.4 - Optimization\n",
        "- You have initialized your parameters.\n",
        "- You are also able to compute a cost function and its gradient.\n",
        "- Now, you want to update the parameters using gradient descent.\n",
        "\n",
        "**Exercise:** Write down the optimization function. The goal is to learn $w$ and $b$ by minimizing the loss function $L$. For a parameter $\\theta$, the update rule is $ \\theta = \\theta - \\alpha \\text{ } d\\theta$, where $\\alpha$ is the learning rate."
      ]
    },
    {
      "cell_type": "code",
      "metadata": {
        "id": "W0QYjpzHtpVD",
        "colab_type": "code",
        "colab": {}
      },
      "source": [
        "# GRADED FUNCTION: optimize\n",
        "\n",
        "def optimize(w, b, X, Y, num_iterations, learning_rate, print_cost = False):\n",
        "    \"\"\"\n",
        "    This function optimizes w and b by running a gradient descent algorithm\n",
        "    \n",
        "    Arguments:\n",
        "    w -- weights, a numpy array of size (num_px * num_px * 3, 1)\n",
        "    b -- bias, a scalar\n",
        "    X -- data of shape (num_px * num_px * 3, number of examples)\n",
        "    Y -- true \"label\" vector (containing 0 if non-cat, 1 if cat), of shape (1, number of examples)\n",
        "    num_iterations -- number of iterations of the optimization loop\n",
        "    learning_rate -- learning rate of the gradient descent update rule\n",
        "    print_cost -- True to print the loss every 100 steps\n",
        "    \n",
        "    Returns:\n",
        "    params -- dictionary containing the weights w and bias b\n",
        "    grads -- dictionary containing the gradients of the weights and bias with respect to the cost function\n",
        "    costs -- list of all the costs computed during the optimization, this will be used to plot the learning curve.\n",
        "    \n",
        "    Tips:\n",
        "    You basically need to write down two steps and iterate through them:\n",
        "        1) Calculate the cost and the gradient for the current parameters. Use propagate().\n",
        "        2) Update the parameters using gradient descent rule for w and b.\n",
        "    \"\"\"\n",
        "    \n",
        "    costs = []\n",
        "    \n",
        "    for i in range(num_iterations):\n",
        "        \n",
        "        \n",
        "        # Cost and gradient calculation - use previous routines\n",
        "        ### START CODE HERE ### \n",
        "        grads, cost = propagate(w, b, X, Y)\n",
        "        ### END CODE HERE ###\n",
        "        \n",
        "        # Retrieve derivatives from grads dictionary object\n",
        "        dw = grads[\"dw\"]\n",
        "        db = grads[\"db\"]\n",
        "        \n",
        "        # update rule for w and b\n",
        "        ### START CODE HERE ###\n",
        "        w = w - learning_rate * dw\n",
        "        b =  b - learning_rate *db\n",
        "        ### END CODE HERE ###\n",
        "        \n",
        "        # Record the costs every one hundred iterations\n",
        "        if i % 100 == 0:\n",
        "            costs.append(cost)\n",
        "        \n",
        "        # Print the cost every 100 training iterations\n",
        "        if print_cost and i % 100 == 0:\n",
        "            print (\"Cost after iteration %i: %f\" %(i, cost))\n",
        "    \n",
        "    params = {\"w\": w,\n",
        "              \"b\": b}\n",
        "    \n",
        "    grads = {\"dw\": dw,\n",
        "             \"db\": db}\n",
        "    \n",
        "    return params, grads, costs"
      ],
      "execution_count": 18,
      "outputs": []
    },
    {
      "cell_type": "code",
      "metadata": {
        "id": "U3f32mDdtpVF",
        "colab_type": "code",
        "colab": {
          "base_uri": "https://localhost:8080/",
          "height": 119
        },
        "outputId": "9d524ea7-117e-467d-be83-08d81aa25a66"
      },
      "source": [
        "params, grads, costs = optimize(w, b, X, Y, num_iterations= 100, learning_rate = 0.009, print_cost = False)\n",
        "\n",
        "print (\"w = \" + str(params[\"w\"]))\n",
        "print (\"b = \" + str(params[\"b\"]))\n",
        "print (\"dw = \" + str(grads[\"dw\"]))\n",
        "print (\"db = \" + str(grads[\"db\"]))"
      ],
      "execution_count": 19,
      "outputs": [
        {
          "output_type": "stream",
          "text": [
            "w = [[0.19033591]\n",
            " [0.12259159]]\n",
            "b = 1.9253598300845747\n",
            "dw = [[0.67752042]\n",
            " [1.41625495]]\n",
            "db = 0.21919450454067657\n"
          ],
          "name": "stdout"
        }
      ]
    },
    {
      "cell_type": "markdown",
      "metadata": {
        "id": "0tZVLGi6tpVG",
        "colab_type": "text"
      },
      "source": [
        "**Expected Output**: \n",
        "\n",
        " **w** =[[ 0.19033591]\n",
        " [ 0.12259159]] \n",
        " \n",
        " **b** = 1.92535983008 \n",
        " \n",
        " **dw** [[ 0.67752042]\n",
        " [ 1.41625495]] \n",
        " \n",
        "  **db**  0.219194504541 "
      ]
    },
    {
      "cell_type": "markdown",
      "metadata": {
        "id": "CcneIATqtpVH",
        "colab_type": "text"
      },
      "source": [
        "**Exercise:** The previous function will output the learned w and b for the test set. We are able to use w and b to predict the labels for a dataset X. Implement the `predict()` function. There are two steps to computing predictions:\n",
        "\n",
        "1. Calculate $\\hat{Y} = A = \\sigma(w^T X + b)$\n",
        "\n",
        "2. Convert the entries of a into 0 (if activation <= 0.5) or 1 (if activation > 0.5), stores the predictions in a vector `Y_prediction`. If you wish, you can use an `if`/`else` statement in a `for` loop (though there is also a way to vectorize this). "
      ]
    },
    {
      "cell_type": "code",
      "metadata": {
        "id": "29gqqC-LtpVH",
        "colab_type": "code",
        "colab": {}
      },
      "source": [
        "# GRADED FUNCTION: predict\n",
        "\n",
        "def predict(w, b, X):\n",
        "    '''0\n",
        "    Predict whether the label is 0 or 1 using learned logistic regression parameters (w, b)\n",
        "    \n",
        "    Arguments:\n",
        "    w -- weights, a numpy array of size (num_px * num_px * 3, 1)\n",
        "    b -- bias, a scalar\n",
        "    X -- data of size (num_px * num_px * 3, number of examples)\n",
        "    \n",
        "    Returns:\n",
        "    Y_prediction -- a numpy array (vector) containing all predictions (0/1) for the examples in X\n",
        "    '''\n",
        "    \n",
        "    m = X.shape[1]\n",
        "    Y_prediction = np.zeros((1,m))\n",
        "    w = w.reshape(X.shape[0], 1)\n",
        "    \n",
        "    # Compute vector \"A\" predicting the probabilities of a dog being present in the picture\n",
        "    ### START CODE HERE ###\n",
        "    A = sigmoid(np.dot(w.T, X) + b)\n",
        "    ### END CODE HERE ###\n",
        "    # set the prediction to zeros\n",
        "    Y_prediction = np.zeros_like(A)\n",
        "    \n",
        "    for i in range(A.shape[1]):\n",
        "        # Convert probabilities A[0,i] to actual predictions p[0,i]\n",
        "        ### START CODE HERE TO COMPUTE Y_prediction ### \n",
        "        if A[0, i] <= 0.5:\n",
        "          Y_prediction[0, i] = 0\n",
        "        else:\n",
        "          Y_prediction[0, i] = 1\n",
        "        \n",
        "        ### END CODE HERE ###\n",
        "    \n",
        "    assert(Y_prediction.shape == (1, m))\n",
        "   # print (Y_pred1,Y_prediction)\n",
        "    \n",
        "    return Y_prediction"
      ],
      "execution_count": 20,
      "outputs": []
    },
    {
      "cell_type": "code",
      "metadata": {
        "id": "Fx8I6cCgtpVJ",
        "colab_type": "code",
        "colab": {
          "base_uri": "https://localhost:8080/",
          "height": 34
        },
        "outputId": "c86dc097-4fa2-4d90-f445-42e820789804"
      },
      "source": [
        "w = np.array([[0.1124579],[0.23106775]])\n",
        "b = -0.3\n",
        "X = np.array([[1.,-1.1,-3.2],[1.2,2.,0.1]])\n",
        "print (\"predictions = \" + str(predict(w, b, X)))\n"
      ],
      "execution_count": 21,
      "outputs": [
        {
          "output_type": "stream",
          "text": [
            "predictions = [[1. 1. 0.]]\n"
          ],
          "name": "stdout"
        }
      ]
    },
    {
      "cell_type": "markdown",
      "metadata": {
        "id": "6WFdlIxTtpVL",
        "colab_type": "text"
      },
      "source": [
        "**Expected Output**: \n",
        "\n",
        "<table style=\"width:30%\">\n",
        "    <tr>\n",
        "         <td>\n",
        "             **predictions**\n",
        "         </td>\n",
        "          <td>\n",
        "            [[ 1.  1.  0.]]\n",
        "         </td>  \n",
        "   </tr>\n",
        "\n",
        "</table>\n"
      ]
    },
    {
      "cell_type": "markdown",
      "metadata": {
        "id": "FwM0W2SStpVL",
        "colab_type": "text"
      },
      "source": [
        "<font color='blue'>\n",
        "**What to remember:**\n",
        "You've implemented several functions that:\n",
        "- Initialize (w,b)\n",
        "- Optimize the loss iteratively to learn parameters (w,b):\n",
        "    - computing the cost and its gradient \n",
        "    - updating the parameters using gradient descent\n",
        "- Use the learned (w,b) to predict the labels for a given set of examples"
      ]
    },
    {
      "cell_type": "markdown",
      "metadata": {
        "id": "Eh0EtB6mtpVL",
        "colab_type": "text"
      },
      "source": [
        "## 5 - Merge all functions into a model ##\n",
        "\n",
        "You will now see how the overall model is structured by putting together all the building blocks (functions implemented in the previous parts) together, in the right order.\n",
        "\n",
        "**Exercise:** Implement the model function. Use the following notation:\n",
        "    - Y_prediction_test for your predictions on the test set\n",
        "    - Y_prediction_train for your predictions on the train set\n",
        "    - w, costs, grads for the outputs of optimize()"
      ]
    },
    {
      "cell_type": "code",
      "metadata": {
        "id": "6CKwiHeRtpVM",
        "colab_type": "code",
        "colab": {}
      },
      "source": [
        "# GRADED FUNCTION: model\n",
        "\n",
        "def model(X_train, Y_train, X_test, Y_test, num_iterations = 2000, learning_rate = 0.5, print_cost = False):\n",
        "    \"\"\"\n",
        "    Builds the logistic regression model by calling the function you've implemented previously\n",
        "    \n",
        "    Arguments:\n",
        "    X_train -- training set represented by a numpy array of shape (num_px * num_px * 3, m_train)\n",
        "    Y_train -- training labels represented by a numpy array (vector) of shape (1, m_train)\n",
        "    X_test -- test set represented by a numpy array of shape (num_px * num_px * 3, m_test)\n",
        "    Y_test -- test labels represented by a numpy array (vector) of shape (1, m_test)\n",
        "    num_iterations -- hyperparameter representing the number of iterations to optimize the parameters\n",
        "    learning_rate -- hyperparameter representing the learning rate used in the update rule of optimize()\n",
        "    print_cost -- Set to true to print the cost every 100 iterations\n",
        "    \n",
        "    Returns:\n",
        "    d -- dictionary containing information about the model.\n",
        "    \"\"\"\n",
        "    \n",
        "    ### START CODE HERE ###\n",
        "    \n",
        "    # initialize parameters with small random numbers \n",
        "    w, b = initialize_with_rand(X_train.shape[0])\n",
        "    \n",
        "\n",
        "    # Gradient descent \n",
        "    params, grads, costs = optimize(w, b, X_train, Y_train, num_iterations, learning_rate, print_cost = print_cost)\n",
        "  \n",
        "    # Retrieve parameters w and b from dictionary \"parameters\"\n",
        "    w = params[\"w\"]\n",
        "    b = params[\"b\"]\n",
        "    \n",
        "    # Predict test/train set examples (≈ 2 lines of code)\n",
        "    Y_prediction_test = predict(w, b, X_test)\n",
        "    Y_prediction_train = predict(w, b, X_train)\n",
        "\n",
        "    ### END CODE HERE ###\n",
        "\n",
        "    # Print train/test Errors\n",
        "    print(\"train accuracy: {} %\".format(100 - np.mean(np.abs(Y_prediction_train - Y_train)) * 100))\n",
        "    print(\"test accuracy: {} %\".format(100 - np.mean(np.abs(Y_prediction_test - Y_test)) * 100))\n",
        "\n",
        "    \n",
        "    d = {\"costs\": costs,\n",
        "         \"Y_prediction_test\": Y_prediction_test, \n",
        "         \"Y_prediction_train\" : Y_prediction_train, \n",
        "         \"w\" : w, \n",
        "         \"b\" : b,\n",
        "         \"learning_rate\" : learning_rate,\n",
        "         \"num_iterations\": num_iterations}\n",
        "    \n",
        "    return d"
      ],
      "execution_count": 22,
      "outputs": []
    },
    {
      "cell_type": "markdown",
      "metadata": {
        "id": "p6PBvzfttpVN",
        "colab_type": "text"
      },
      "source": [
        "Run the following cell to train your model."
      ]
    },
    {
      "cell_type": "code",
      "metadata": {
        "id": "FXx-KRXOtpVO",
        "colab_type": "code",
        "colab": {
          "base_uri": "https://localhost:8080/",
          "height": 391
        },
        "outputId": "cc650f84-bf2d-472d-933c-39924f712834"
      },
      "source": [
        "d = model(train_set_x, y_train, test_set_x, y_test, num_iterations = 2000, learning_rate = 0.005, print_cost = True)"
      ],
      "execution_count": 23,
      "outputs": [
        {
          "output_type": "stream",
          "text": [
            "Cost after iteration 0: 0.702826\n",
            "Cost after iteration 100: 0.601270\n",
            "Cost after iteration 200: 0.587266\n",
            "Cost after iteration 300: 0.578992\n",
            "Cost after iteration 400: 0.573148\n",
            "Cost after iteration 500: 0.568631\n",
            "Cost after iteration 600: 0.564940\n",
            "Cost after iteration 700: 0.561811\n",
            "Cost after iteration 800: 0.559088\n",
            "Cost after iteration 900: 0.556669\n",
            "Cost after iteration 1000: 0.554488\n",
            "Cost after iteration 1100: 0.552497\n",
            "Cost after iteration 1200: 0.550659\n",
            "Cost after iteration 1300: 0.548949\n",
            "Cost after iteration 1400: 0.547346\n",
            "Cost after iteration 1500: 0.545834\n",
            "Cost after iteration 1600: 0.544401\n",
            "Cost after iteration 1700: 0.543036\n",
            "Cost after iteration 1800: 0.541731\n",
            "Cost after iteration 1900: 0.540480\n",
            "train accuracy: 71.85 %\n",
            "test accuracy: 68.5 %\n"
          ],
          "name": "stdout"
        }
      ]
    },
    {
      "cell_type": "markdown",
      "metadata": {
        "id": "lxQl7WTUtpVP",
        "colab_type": "text"
      },
      "source": [
        "**Expected Output**: \n",
        "\n",
        "**Train Accuracy**= 71.85 % \n",
        " \n",
        " **Test Accuracy** \n",
        "  68.5 % "
      ]
    },
    {
      "cell_type": "code",
      "metadata": {
        "id": "cBRH6lKYc6Qw",
        "colab_type": "code",
        "colab": {}
      },
      "source": [
        ""
      ],
      "execution_count": 23,
      "outputs": []
    },
    {
      "cell_type": "markdown",
      "metadata": {
        "id": "kMawf7vktpVQ",
        "colab_type": "text"
      },
      "source": [
        "**Comment**: Training accuracy is close to 72%. This is a good sanity check: your model is working but it may not have enough capacity to fit the training data. Test accuracy is 68%. It is actually not bad for this simple model, given the small dataset we used and that logistic regression is a linear classifier. But no worries, you'll build an even better classifier next week!\n",
        "\n",
        "In other good news, you see that the model is not overfitting the training data as the accuracies are very similar. Later in this class you will learn how to reduce overfitting by using regularization. Using the code below (and changing the `index` variable) you can look at predictions on pictures of the test set."
      ]
    },
    {
      "cell_type": "code",
      "metadata": {
        "id": "T_LZO3yOtpVQ",
        "colab_type": "code",
        "colab": {
          "base_uri": "https://localhost:8080/",
          "height": 1000
        },
        "outputId": "d322f13c-c28e-44e5-8155-ac51bd2a66b6"
      },
      "source": [
        "# Example of a picture that was wrongly classified.\n",
        "# find test image that was wrongly classified and display\n",
        "err_images = (d['Y_prediction_test'] - y_test)\n",
        "index = 2\n",
        "for i in range(err_images.shape[1]):\n",
        "        if err_images[0,i] > 0.5:\n",
        "            index_nodog = i\n",
        "            print('not dog', index_nodog)\n",
        "            \n",
        "        if err_images[0,i] < 0:\n",
        "            index_dog = i\n",
        "            print('dog', index_dog)\n",
        "            \n",
        "# prints out lists where a dog was not called a dog and where something that was not a dog was called a dog\n",
        "\n",
        "index_dog = 140\n",
        "plt.imshow(x_test_show[index_dog,:,:,:])"
      ],
      "execution_count": 24,
      "outputs": [
        {
          "output_type": "stream",
          "text": [
            "dog 2\n",
            "dog 4\n",
            "dog 7\n",
            "dog 10\n",
            "dog 14\n",
            "dog 16\n",
            "dog 17\n",
            "dog 18\n",
            "dog 23\n",
            "dog 24\n",
            "dog 25\n",
            "dog 26\n",
            "dog 39\n",
            "dog 40\n",
            "dog 46\n",
            "dog 51\n",
            "dog 52\n",
            "dog 58\n",
            "dog 60\n",
            "dog 64\n",
            "dog 65\n",
            "dog 67\n",
            "dog 68\n",
            "dog 69\n",
            "dog 73\n",
            "dog 74\n",
            "dog 78\n",
            "dog 84\n",
            "dog 87\n",
            "dog 89\n",
            "dog 90\n",
            "dog 92\n",
            "dog 93\n",
            "dog 97\n",
            "not dog 102\n",
            "not dog 109\n",
            "not dog 110\n",
            "not dog 112\n",
            "not dog 116\n",
            "not dog 117\n",
            "not dog 124\n",
            "not dog 125\n",
            "not dog 130\n",
            "not dog 134\n",
            "not dog 135\n",
            "not dog 136\n",
            "not dog 137\n",
            "not dog 138\n",
            "not dog 140\n",
            "not dog 141\n",
            "not dog 142\n",
            "not dog 143\n",
            "not dog 147\n",
            "not dog 148\n",
            "not dog 152\n",
            "not dog 153\n",
            "not dog 157\n",
            "not dog 160\n",
            "not dog 161\n",
            "not dog 162\n",
            "not dog 163\n",
            "not dog 171\n",
            "not dog 173\n"
          ],
          "name": "stdout"
        },
        {
          "output_type": "execute_result",
          "data": {
            "text/plain": [
              "<matplotlib.image.AxesImage at 0x7f923a5d65c0>"
            ]
          },
          "metadata": {
            "tags": []
          },
          "execution_count": 24
        },
        {
          "output_type": "display_data",
          "data": {
            "image/png": "[encoded data removed]",
            "text/plain": [
              "<Figure size 432x288 with 1 Axes>"
            ]
          },
          "metadata": {
            "tags": [],
            "needs_background": "light"
          }
        }
      ]
    },
    {
      "cell_type": "markdown",
      "metadata": {
        "id": "Kkz17BbGtpVR",
        "colab_type": "text"
      },
      "source": [
        "Let's also plot the cost function and the gradients. This plot shows how the system is learning over time. When we are doing batch learning over the entire training set, the curve should be smooth."
      ]
    },
    {
      "cell_type": "code",
      "metadata": {
        "id": "bZ4eFfJTtpVS",
        "colab_type": "code",
        "colab": {
          "base_uri": "https://localhost:8080/",
          "height": 295
        },
        "outputId": "2a9ed309-93e5-42e0-bc8b-7ccd5a3f4e22"
      },
      "source": [
        "# Plot learning curve (with costs)\n",
        "costs = np.squeeze(d['costs'])\n",
        "plt.plot(costs)\n",
        "plt.ylabel('cost')\n",
        "plt.xlabel('iterations (per hundreds)')\n",
        "plt.title(\"Learning rate =\" + str(d[\"learning_rate\"]))\n",
        "plt.show()"
      ],
      "execution_count": 25,
      "outputs": [
        {
          "output_type": "display_data",
          "data": {
            "image/png": "[encoded data removed]",
            "text/plain": [
              "<Figure size 432x288 with 1 Axes>"
            ]
          },
          "metadata": {
            "tags": [],
            "needs_background": "light"
          }
        }
      ]
    },
    {
      "cell_type": "markdown",
      "metadata": {
        "id": "IpDEJwOvtpVT",
        "colab_type": "text"
      },
      "source": [
        "**Interpretation**:\n",
        "You can see the cost decreasing. It shows that the parameters are being learned. However, you see that you could train the model even more on the training set. Try to increase the number of iterations in the cell above and rerun the cells. You might see that the training set accuracy goes up, but the test set accuracy goes down. This is called overfitting. "
      ]
    },
    {
      "cell_type": "markdown",
      "metadata": {
        "id": "23BItEYrtpVT",
        "colab_type": "text"
      },
      "source": [
        "## 6 - Further analysis (optional/ungraded exercise) ##\n",
        "\n",
        "Congratulations on building your first image classification model. Let's analyze it further, and examine possible choices for the learning rate $\\alpha$. "
      ]
    },
    {
      "cell_type": "markdown",
      "metadata": {
        "id": "2li3Gi8ptpVU",
        "colab_type": "text"
      },
      "source": [
        "#### Choice of learning rate ####\n",
        "\n",
        "**Reminder**:\n",
        "In order for Gradient Descent to work you must choose the learning rate wisely. The learning rate $\\alpha$  determines how rapidly we update the parameters. If the learning rate is too large we may \"overshoot\" the optimal value. Similarly, if it is too small we will need too many iterations to converge to the best values. That's why it is crucial to use a well-tuned learning rate.\n",
        "\n",
        "Let's compare the learning curve of our model with several choices of learning rates. Run the cell below. This should take about 1 minute. Feel free also to try different values than the three we have initialized the `learning_rates` variable to contain, and see what happens. "
      ]
    },
    {
      "cell_type": "code",
      "metadata": {
        "id": "_mDQBKpntpVU",
        "colab_type": "code",
        "colab": {
          "base_uri": "https://localhost:8080/",
          "height": 585
        },
        "outputId": "3564b502-53ef-46b5-8604-ee00cb732519"
      },
      "source": [
        "learning_rates = [0.01, 0.001, 0.0001]\n",
        "models = {}\n",
        "for i in learning_rates:\n",
        "    print (\"learning rate is: \" + str(i))\n",
        "    models[str(i)] = model(train_set_x, y_train, test_set_x, y_test, num_iterations = 1500, learning_rate = i, print_cost = False)\n",
        "    print ('\\n' + \"-------------------------------------------------------\" + '\\n')\n",
        "\n",
        "for i in learning_rates:\n",
        "    plt.plot(np.squeeze(models[str(i)][\"costs\"]), label= str(models[str(i)][\"learning_rate\"]))\n",
        "\n",
        "plt.ylabel('cost')\n",
        "plt.xlabel('iterations (hundreds)')\n",
        "\n",
        "legend = plt.legend(loc='upper center', shadow=True)\n",
        "frame = legend.get_frame()\n",
        "frame.set_facecolor('0.90')\n",
        "plt.show()"
      ],
      "execution_count": 26,
      "outputs": [
        {
          "output_type": "stream",
          "text": [
            "learning rate is: 0.01\n",
            "train accuracy: 72.6 %\n",
            "test accuracy: 68.5 %\n",
            "\n",
            "-------------------------------------------------------\n",
            "\n",
            "learning rate is: 0.001\n",
            "train accuracy: 68.55 %\n",
            "test accuracy: 64.5 %\n",
            "\n",
            "-------------------------------------------------------\n",
            "\n",
            "learning rate is: 0.0001\n",
            "train accuracy: 66.1 %\n",
            "test accuracy: 65.0 %\n",
            "\n",
            "-------------------------------------------------------\n",
            "\n"
          ],
          "name": "stdout"
        },
        {
          "output_type": "display_data",
          "data": {
            "image/png": "[encoded data removed]",
            "text/plain": [
              "<Figure size 432x288 with 1 Axes>"
            ]
          },
          "metadata": {
            "tags": [],
            "needs_background": "light"
          }
        }
      ]
    },
    {
      "cell_type": "markdown",
      "metadata": {
        "id": "1a84BjGRtpVV",
        "colab_type": "text"
      },
      "source": [
        "# Fill in the blanks below about what you have observed with different learning rates.\n",
        "**Interpretation**: \n",
        "- Different learning rates give different costs and thus different predictions results.\n",
        "- If the learning rate is too large (0.01), the cost goes to low and diverge to low cost from the result. But I cannot say that the large learning rate alwasy has low cost. \n",
        "- Does a smaller learning rate mean lower costs? why or why not?\n",
        "A lower cost does not mean lower costs. Because the result above shows that the smaller learning rate has the bigger cost.\n",
        "- What do you recommend doing to find the best learning rate?\n",
        "I would recommend to pick the learning rate which would minimize the cost function. But it can also cause overfitting, so you need to be careful with it."
      ]
    },
    {
      "cell_type": "markdown",
      "metadata": {
        "id": "4Kgo1kRWtpVV",
        "colab_type": "text"
      },
      "source": [
        "## 7 -Below this point, Try different parameters! such as learning rate and numer of iterations.  ##\n",
        "\n",
        "Congratulations on finishing this assignment. Try different parameters! such as learning rate and numer of iterations. To do that:\n",
        "\n",
        "    1. Change the learning rate and number of iterations.\n",
        "\n",
        "    2. Try setting the initial weights to zero.\n",
        "\n",
        "    3. Test other preprocessings (center the data, or divide each row by its standard deviation)\n"
      ]
    },
    {
      "cell_type": "code",
      "metadata": {
        "id": "5z5UzgHZIca8",
        "colab_type": "code",
        "colab": {
          "base_uri": "https://localhost:8080/",
          "height": 731
        },
        "outputId": "0d32f791-3385-43c2-84b0-11936f64aade"
      },
      "source": [
        "# Change number of Iterations.\n",
        "\n",
        "num_iterations_list = [100, 1000, 2000, 4000, 6000, 8000, 10000]\n",
        "for i in num_iterations_list:\n",
        "  print (\"num iterations is: \" + str(i))\n",
        "  d = model(train_set_x, y_train, test_set_x, y_test, num_iterations = i, learning_rate = 0.005, print_cost = False)\n",
        "  print ('\\n' + \"-------------------------------------------------------\" + '\\n')"
      ],
      "execution_count": 27,
      "outputs": [
        {
          "output_type": "stream",
          "text": [
            "num iterations is: 100\n",
            "train accuracy: 66.35 %\n",
            "test accuracy: 65.5 %\n",
            "\n",
            "-------------------------------------------------------\n",
            "\n",
            "num iterations is: 1000\n",
            "train accuracy: 70.1 %\n",
            "test accuracy: 67.5 %\n",
            "\n",
            "-------------------------------------------------------\n",
            "\n",
            "num iterations is: 2000\n",
            "train accuracy: 71.85 %\n",
            "test accuracy: 68.5 %\n",
            "\n",
            "-------------------------------------------------------\n",
            "\n",
            "num iterations is: 4000\n",
            "train accuracy: 73.35 %\n",
            "test accuracy: 68.5 %\n",
            "\n",
            "-------------------------------------------------------\n",
            "\n",
            "num iterations is: 6000\n",
            "train accuracy: 73.85 %\n",
            "test accuracy: 69.0 %\n",
            "\n",
            "-------------------------------------------------------\n",
            "\n",
            "num iterations is: 8000\n",
            "train accuracy: 74.95 %\n",
            "test accuracy: 71.0 %\n",
            "\n",
            "-------------------------------------------------------\n",
            "\n",
            "num iterations is: 10000\n",
            "train accuracy: 75.45 %\n",
            "test accuracy: 71.0 %\n",
            "\n",
            "-------------------------------------------------------\n",
            "\n"
          ],
          "name": "stdout"
        }
      ]
    },
    {
      "cell_type": "code",
      "metadata": {
        "id": "VQjqXjR53CbB",
        "colab_type": "code",
        "colab": {}
      },
      "source": [
        "# num iterations = 8000 is good"
      ],
      "execution_count": 28,
      "outputs": []
    },
    {
      "cell_type": "code",
      "metadata": {
        "id": "pGW1WxsOrkJ7",
        "colab_type": "code",
        "colab": {
          "base_uri": "https://localhost:8080/",
          "height": 891
        },
        "outputId": "f6f7614b-bd3c-4eae-fd2a-93362b479024"
      },
      "source": [
        "# Change the learning rate\n",
        "\n",
        "learning_rates = [0.01, 0.001, 0.003, 0.005, 0.007, 0.0001]\n",
        "models = {}\n",
        "for i in learning_rates:\n",
        "    print (\"learning rate is: \" + str(i))\n",
        "    models[str(i)] = model(train_set_x, y_train, test_set_x, y_test, num_iterations = 8000, learning_rate = i, print_cost = False)\n",
        "    print ('\\n' + \"-------------------------------------------------------\" + '\\n')\n",
        "\n",
        "for i in learning_rates:\n",
        "    plt.plot(np.squeeze(models[str(i)][\"costs\"]), label= str(models[str(i)][\"learning_rate\"]))\n",
        "\n",
        "plt.ylabel('cost')\n",
        "plt.xlabel('iterations (hundreds)')\n",
        "\n",
        "legend = plt.legend(loc='upper center', shadow=True)\n",
        "frame = legend.get_frame()\n",
        "frame.set_facecolor('0.90')\n",
        "plt.show()\n",
        "\n",
        "\n",
        "\n",
        "\n",
        "\n",
        "\n",
        "\n",
        "\n",
        "\n"
      ],
      "execution_count": 29,
      "outputs": [
        {
          "output_type": "stream",
          "text": [
            "learning rate is: 0.01\n",
            "train accuracy: 77.15 %\n",
            "test accuracy: 70.5 %\n",
            "\n",
            "-------------------------------------------------------\n",
            "\n",
            "learning rate is: 0.001\n",
            "train accuracy: 71.2 %\n",
            "test accuracy: 68.0 %\n",
            "\n",
            "-------------------------------------------------------\n",
            "\n",
            "learning rate is: 0.003\n",
            "train accuracy: 73.8 %\n",
            "test accuracy: 68.5 %\n",
            "\n",
            "-------------------------------------------------------\n",
            "\n",
            "learning rate is: 0.005\n",
            "train accuracy: 74.95 %\n",
            "test accuracy: 71.0 %\n",
            "\n",
            "-------------------------------------------------------\n",
            "\n",
            "learning rate is: 0.007\n",
            "train accuracy: 75.7 %\n",
            "test accuracy: 71.0 %\n",
            "\n",
            "-------------------------------------------------------\n",
            "\n",
            "learning rate is: 0.0001\n",
            "train accuracy: 67.19999999999999 %\n",
            "test accuracy: 66.5 %\n",
            "\n",
            "-------------------------------------------------------\n",
            "\n"
          ],
          "name": "stdout"
        },
        {
          "output_type": "display_data",
          "data": {
            "image/png": "[encoded data removed]",
            "text/plain": [
              "<Figure size 432x288 with 1 Axes>"
            ]
          },
          "metadata": {
            "tags": [],
            "needs_background": "light"
          }
        }
      ]
    },
    {
      "cell_type": "code",
      "metadata": {
        "id": "zzvrA2gS3Qmf",
        "colab_type": "code",
        "colab": {}
      },
      "source": [
        "# learning rate = 0.01 is good"
      ],
      "execution_count": 30,
      "outputs": []
    },
    {
      "cell_type": "code",
      "metadata": {
        "id": "duut3csIs_q1",
        "colab_type": "code",
        "colab": {}
      },
      "source": [
        "# Setting the initial weights to zero.\n",
        "# GRADED FUNCTION: initialize_with_zero\n",
        "\n",
        "def initialize_with_zero(dim):\n",
        "    \"\"\"\n",
        "    This function creates a vector of small normally distributed random numbers of shape (dim, 1) for w and initializes b to 0.\n",
        "    \n",
        "    Argument:\n",
        "    dim -- size of the w vector we want (or number of parameters in this case)\n",
        "    \n",
        "    Returns:\n",
        "    w -- initialized vector of shape (dim, 1)\n",
        "    b -- initialized scalar to 0 (corresponds to the bias)\n",
        "    \"\"\"\n",
        "    np.random.seed(2) # we set up a seed so that your output matches ours although the initialization is random.\n",
        "\n",
        "    ### START CODE HERE ### \n",
        "    w = np.zeros((dim, 1))\n",
        "    b = 0\n",
        "    ### END CODE HERE ###\n",
        "\n",
        "# the assert statements are used to verify that the components\n",
        "# are the expected size. This helps avoid errors in creating models.\n",
        "    assert(w.shape == (dim, 1))\n",
        "    assert(isinstance(b, float) or isinstance(b, int))\n",
        "    \n",
        "    return w, b"
      ],
      "execution_count": 35,
      "outputs": []
    },
    {
      "cell_type": "code",
      "metadata": {
        "id": "CgEzs4ZAslsP",
        "colab_type": "code",
        "colab": {}
      },
      "source": [
        "# GRADED FUNCTION: model\n",
        "\n",
        "def model_z(X_train, Y_train, X_test, Y_test, num_iterations = 2000, learning_rate = 0.5, print_cost = False):\n",
        "    \"\"\"\n",
        "    Builds the logistic regression model by calling the function you've implemented previously\n",
        "    \n",
        "    Arguments:\n",
        "    X_train -- training set represented by a numpy array of shape (num_px * num_px * 3, m_train)\n",
        "    Y_train -- training labels represented by a numpy array (vector) of shape (1, m_train)\n",
        "    X_test -- test set represented by a numpy array of shape (num_px * num_px * 3, m_test)\n",
        "    Y_test -- test labels represented by a numpy array (vector) of shape (1, m_test)\n",
        "    num_iterations -- hyperparameter representing the number of iterations to optimize the parameters\n",
        "    learning_rate -- hyperparameter representing the learning rate used in the update rule of optimize()\n",
        "    print_cost -- Set to true to print the cost every 100 iterations\n",
        "    \n",
        "    Returns:\n",
        "    d -- dictionary containing information about the model.\n",
        "    \"\"\"\n",
        "    \n",
        "    ### START CODE HERE ###\n",
        "    \n",
        "    # initialize parameters with zeros \n",
        "    w, b = initialize_with_zero(X_train.shape[0])\n",
        "    \n",
        "\n",
        "    # Gradient descent \n",
        "    params, grads, costs = optimize(w, b, X_train, Y_train, num_iterations, learning_rate, print_cost = print_cost)\n",
        "  \n",
        "    # Retrieve parameters w and b from dictionary \"parameters\"\n",
        "    w = params[\"w\"]\n",
        "    b = params[\"b\"]\n",
        "    \n",
        "    # Predict test/train set examples (≈ 2 lines of code)\n",
        "    Y_prediction_test = predict(w, b, X_test)\n",
        "    Y_prediction_train = predict(w, b, X_train)\n",
        "\n",
        "    ### END CODE HERE ###\n",
        "\n",
        "    # Print train/test Errors\n",
        "    print(\"train accuracy: {} %\".format(100 - np.mean(np.abs(Y_prediction_train - Y_train)) * 100))\n",
        "    print(\"test accuracy: {} %\".format(100 - np.mean(np.abs(Y_prediction_test - Y_test)) * 100))\n",
        "\n",
        "    \n",
        "    d = {\"costs\": costs,\n",
        "         \"Y_prediction_test\": Y_prediction_test, \n",
        "         \"Y_prediction_train\" : Y_prediction_train, \n",
        "         \"w\" : w, \n",
        "         \"b\" : b,\n",
        "         \"learning_rate\" : learning_rate,\n",
        "         \"num_iterations\": num_iterations}\n",
        "    \n",
        "    return d"
      ],
      "execution_count": 36,
      "outputs": []
    },
    {
      "cell_type": "code",
      "metadata": {
        "id": "a2ZED1omtbUX",
        "colab_type": "code",
        "colab": {
          "base_uri": "https://localhost:8080/",
          "height": 136
        },
        "outputId": "94e770ca-e03b-4c7c-9ab7-5265f2233efe"
      },
      "source": [
        "# Model with best num iteration and learning rate\n",
        "d = model_z(train_set_x, y_train, test_set_x, y_test, num_iterations = 8000, learning_rate = 0.01, print_cost = False)\n",
        "\n",
        "print ('\\n' + \"-------------------------------------------------------\" + '\\n')\n",
        "\n",
        "# Model with the original num iteration and learning rate\n",
        "d = model_z(train_set_x, y_train, test_set_x, y_test, num_iterations = 2000, learning_rate = 0.005, print_cost = False)"
      ],
      "execution_count": 37,
      "outputs": [
        {
          "output_type": "stream",
          "text": [
            "train accuracy: 77.15 %\n",
            "test accuracy: 71.0 %\n",
            "\n",
            "-------------------------------------------------------\n",
            "\n",
            "train accuracy: 71.75 %\n",
            "test accuracy: 68.0 %\n"
          ],
          "name": "stdout"
        }
      ]
    },
    {
      "cell_type": "code",
      "metadata": {
        "id": "MI5IPjkWecdb",
        "colab_type": "code",
        "colab": {}
      },
      "source": [
        "# Test other preprocessings (center the data, or divide each row by its standard deviation)\n",
        "\n",
        "train_set_x_1 = x_train/np.std(x_train, 1)[:, None]\n",
        "test_set_x_1 = x_test/np.std(x_test, 1)[:, None]"
      ],
      "execution_count": 38,
      "outputs": []
    },
    {
      "cell_type": "code",
      "metadata": {
        "id": "zeQOgUyZgecI",
        "colab_type": "code",
        "colab": {
          "base_uri": "https://localhost:8080/",
          "height": 136
        },
        "outputId": "ea084508-0c08-4d0b-bc0f-ea7b0f1d0348"
      },
      "source": [
        "# Model with the original num iteration and learning rate (because of the runtime warning I changed learning rate from 0.005 to 0.001)\n",
        "d = model(train_set_x_1, y_train, test_set_x_1, y_test, num_iterations = 2000, learning_rate = 0.001, print_cost = False)\n",
        "\n",
        "print ('\\n' + \"-------------------------------------------------------\" + '\\n')\n",
        "\n",
        "# Model with the best num iteration and learning rate (larg learning rate makes a problem so changed to 0.001)\n",
        "d = model_z(train_set_x_1, y_train, test_set_x_1, y_test, num_iterations = 8000, learning_rate = 0.001, print_cost = False)"
      ],
      "execution_count": 43,
      "outputs": [
        {
          "output_type": "stream",
          "text": [
            "train accuracy: 71.15 %\n",
            "test accuracy: 65.0 %\n",
            "\n",
            "-------------------------------------------------------\n",
            "\n",
            "train accuracy: 79.15 %\n",
            "test accuracy: 70.5 %\n"
          ],
          "name": "stdout"
        }
      ]
    },
    {
      "cell_type": "markdown",
      "metadata": {
        "id": "YxbqJxcitpVX",
        "colab_type": "text"
      },
      "source": [
        "<font color='blue'>\n",
        "**What to remember from this assignment:**\n",
        "1. Preprocessing the dataset is important.\n",
        "2. You implemented each function separately: initialize(), propagate(), optimize(). Then you built a model().\n",
        "3. Tuning the learning rate (which is an example of a \"hyperparameter\") can make a big difference to the algorithm. You will see more examples of this later in this course!"
      ]
    },
    {
      "cell_type": "markdown",
      "metadata": {
        "id": "69b6iJfCtpVY",
        "colab_type": "text"
      },
      "source": [
        "Bibliography:\n",
        "- http://www.wildml.com/2015/09/implementing-a-neural-network-from-scratch/\n",
        "- https://stats.stackexchange.com/questions/211436/why-do-we-normalize-images-by-subtracting-the-datasets-image-mean-and-not-the-c"
      ]
    }
  ]
}