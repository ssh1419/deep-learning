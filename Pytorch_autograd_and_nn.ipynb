{
  "nbformat": 4,
  "nbformat_minor": 0,
  "metadata": {
    "accelerator": "GPU",
    "colab": {
      "name": "Pytorch_autograd_and_nn (1).ipynb",
      "provenance": [],
      "collapsed_sections": [],
      "toc_visible": true
    },
    "kernelspec": {
      "display_name": "Python 3",
      "name": "python3"
    },
    "language_info": {
      "codemirror_mode": {
        "name": "ipython",
        "version": 3
      },
      "file_extension": ".py",
      "mimetype": "text/x-python",
      "name": "python",
      "nbconvert_exporter": "python",
      "pygments_lexer": "ipython3",
      "version": "3.7.1"
    },
    "toc": {
      "nav_menu": {},
      "number_sections": true,
      "sideBar": true,
      "skip_h1_title": false,
      "toc_cell": false,
      "toc_position": {},
      "toc_section_display": "block",
      "toc_window_display": false
    },
    "varInspector": {
      "cols": {
        "lenName": 16,
        "lenType": 16,
        "lenVar": 40
      },
      "kernels_config": {
        "python": {
          "delete_cmd_postfix": "",
          "delete_cmd_prefix": "del ",
          "library": "var_list.py",
          "varRefreshCmd": "print(var_dic_list())"
        },
        "r": {
          "delete_cmd_postfix": ") ",
          "delete_cmd_prefix": "rm(",
          "library": "var_list.r",
          "varRefreshCmd": "cat(var_dic_list()) "
        }
      },
      "types_to_exclude": [
        "module",
        "function",
        "builtin_function_or_method",
        "instance",
        "_Feature"
      ],
      "window_display": false
    },
    "widgets": {
      "application/vnd.jupyter.widget-state+json": {
        "dd5aaf62a1f2476bb30871e5407aa185": {
          "model_module": "@jupyter-widgets/controls",
          "model_name": "HBoxModel",
          "state": {
            "_view_name": "HBoxView",
            "_dom_classes": [],
            "_model_name": "HBoxModel",
            "_view_module": "@jupyter-widgets/controls",
            "_model_module_version": "1.5.0",
            "_view_count": null,
            "_view_module_version": "1.5.0",
            "box_style": "",
            "layout": "IPY_MODEL_f176efb514754dbda11c2c3798af9fee",
            "_model_module": "@jupyter-widgets/controls",
            "children": [
              "IPY_MODEL_41a5cb1de9fe4ee4b34abd978b6eca44",
              "IPY_MODEL_ae7a36de01304907b1f2e5d3133fc62e"
            ]
          }
        },
        "f176efb514754dbda11c2c3798af9fee": {
          "model_module": "@jupyter-widgets/base",
          "model_name": "LayoutModel",
          "state": {
            "_view_name": "LayoutView",
            "grid_template_rows": null,
            "right": null,
            "justify_content": null,
            "_view_module": "@jupyter-widgets/base",
            "overflow": null,
            "_model_module_version": "1.2.0",
            "_view_count": null,
            "flex_flow": null,
            "width": null,
            "min_width": null,
            "border": null,
            "align_items": null,
            "bottom": null,
            "_model_module": "@jupyter-widgets/base",
            "top": null,
            "grid_column": null,
            "overflow_y": null,
            "overflow_x": null,
            "grid_auto_flow": null,
            "grid_area": null,
            "grid_template_columns": null,
            "flex": null,
            "_model_name": "LayoutModel",
            "justify_items": null,
            "grid_row": null,
            "max_height": null,
            "align_content": null,
            "visibility": null,
            "align_self": null,
            "height": null,
            "min_height": null,
            "padding": null,
            "grid_auto_rows": null,
            "grid_gap": null,
            "max_width": null,
            "order": null,
            "_view_module_version": "1.2.0",
            "grid_template_areas": null,
            "object_position": null,
            "object_fit": null,
            "grid_auto_columns": null,
            "margin": null,
            "display": null,
            "left": null
          }
        },
        "41a5cb1de9fe4ee4b34abd978b6eca44": {
          "model_module": "@jupyter-widgets/controls",
          "model_name": "FloatProgressModel",
          "state": {
            "_view_name": "ProgressView",
            "style": "IPY_MODEL_8c6a95b332e54937aaead412cf19a517",
            "_dom_classes": [],
            "description": "",
            "_model_name": "FloatProgressModel",
            "bar_style": "info",
            "max": 1,
            "_view_module": "@jupyter-widgets/controls",
            "_model_module_version": "1.5.0",
            "value": 1,
            "_view_count": null,
            "_view_module_version": "1.5.0",
            "orientation": "horizontal",
            "min": 0,
            "description_tooltip": null,
            "_model_module": "@jupyter-widgets/controls",
            "layout": "IPY_MODEL_23df43d92a4844e98cad5c69cda52781"
          }
        },
        "ae7a36de01304907b1f2e5d3133fc62e": {
          "model_module": "@jupyter-widgets/controls",
          "model_name": "HTMLModel",
          "state": {
            "_view_name": "HTMLView",
            "style": "IPY_MODEL_7f962e96bd88470c815bb5aaf4e18480",
            "_dom_classes": [],
            "description": "",
            "_model_name": "HTMLModel",
            "placeholder": "​",
            "_view_module": "@jupyter-widgets/controls",
            "_model_module_version": "1.5.0",
            "value": " 170500096/? [00:20&lt;00:00, 52791211.77it/s]",
            "_view_count": null,
            "_view_module_version": "1.5.0",
            "description_tooltip": null,
            "_model_module": "@jupyter-widgets/controls",
            "layout": "IPY_MODEL_679721ec42f2498fab098d84b5c63354"
          }
        },
        "8c6a95b332e54937aaead412cf19a517": {
          "model_module": "@jupyter-widgets/controls",
          "model_name": "ProgressStyleModel",
          "state": {
            "_view_name": "StyleView",
            "_model_name": "ProgressStyleModel",
            "description_width": "initial",
            "_view_module": "@jupyter-widgets/base",
            "_model_module_version": "1.5.0",
            "_view_count": null,
            "_view_module_version": "1.2.0",
            "bar_color": null,
            "_model_module": "@jupyter-widgets/controls"
          }
        },
        "23df43d92a4844e98cad5c69cda52781": {
          "model_module": "@jupyter-widgets/base",
          "model_name": "LayoutModel",
          "state": {
            "_view_name": "LayoutView",
            "grid_template_rows": null,
            "right": null,
            "justify_content": null,
            "_view_module": "@jupyter-widgets/base",
            "overflow": null,
            "_model_module_version": "1.2.0",
            "_view_count": null,
            "flex_flow": null,
            "width": null,
            "min_width": null,
            "border": null,
            "align_items": null,
            "bottom": null,
            "_model_module": "@jupyter-widgets/base",
            "top": null,
            "grid_column": null,
            "overflow_y": null,
            "overflow_x": null,
            "grid_auto_flow": null,
            "grid_area": null,
            "grid_template_columns": null,
            "flex": null,
            "_model_name": "LayoutModel",
            "justify_items": null,
            "grid_row": null,
            "max_height": null,
            "align_content": null,
            "visibility": null,
            "align_self": null,
            "height": null,
            "min_height": null,
            "padding": null,
            "grid_auto_rows": null,
            "grid_gap": null,
            "max_width": null,
            "order": null,
            "_view_module_version": "1.2.0",
            "grid_template_areas": null,
            "object_position": null,
            "object_fit": null,
            "grid_auto_columns": null,
            "margin": null,
            "display": null,
            "left": null
          }
        },
        "7f962e96bd88470c815bb5aaf4e18480": {
          "model_module": "@jupyter-widgets/controls",
          "model_name": "DescriptionStyleModel",
          "state": {
            "_view_name": "StyleView",
            "_model_name": "DescriptionStyleModel",
            "description_width": "",
            "_view_module": "@jupyter-widgets/base",
            "_model_module_version": "1.5.0",
            "_view_count": null,
            "_view_module_version": "1.2.0",
            "_model_module": "@jupyter-widgets/controls"
          }
        },
        "679721ec42f2498fab098d84b5c63354": {
          "model_module": "@jupyter-widgets/base",
          "model_name": "LayoutModel",
          "state": {
            "_view_name": "LayoutView",
            "grid_template_rows": null,
            "right": null,
            "justify_content": null,
            "_view_module": "@jupyter-widgets/base",
            "overflow": null,
            "_model_module_version": "1.2.0",
            "_view_count": null,
            "flex_flow": null,
            "width": null,
            "min_width": null,
            "border": null,
            "align_items": null,
            "bottom": null,
            "_model_module": "@jupyter-widgets/base",
            "top": null,
            "grid_column": null,
            "overflow_y": null,
            "overflow_x": null,
            "grid_auto_flow": null,
            "grid_area": null,
            "grid_template_columns": null,
            "flex": null,
            "_model_name": "LayoutModel",
            "justify_items": null,
            "grid_row": null,
            "max_height": null,
            "align_content": null,
            "visibility": null,
            "align_self": null,
            "height": null,
            "min_height": null,
            "padding": null,
            "grid_auto_rows": null,
            "grid_gap": null,
            "max_width": null,
            "order": null,
            "_view_module_version": "1.2.0",
            "grid_template_areas": null,
            "object_position": null,
            "object_fit": null,
            "grid_auto_columns": null,
            "margin": null,
            "display": null,
            "left": null
          }
        }
      }
    }
  },
  "cells": [
    {
      "cell_type": "markdown",
      "metadata": {
        "id": "DDJwQPZcupab"
      },
      "source": [
        "# EE526 Assignment 3: Pytorch Autograd and NN\n",
        "\n",
        "Before we start, please put your name and ISUID in following format\n",
        "\n",
        ": SeokHwan SONG, #701520820   //   \n",
        "\n",
        "Assignment created by Dr. Justin Johnson of the University of Michigan"
      ]
    },
    {
      "cell_type": "markdown",
      "metadata": {
        "id": "aQW_w1Wzw72f",
        "tags": [
          "pdf-title"
        ]
      },
      "source": [
        "# torch.autograd and torch.nn\n",
        "\n",
        "So far, we used PyTorch to accelarate computation using GPU.\n",
        "PyTorch also provides several useful packages, which help to design deep neural networks efficiently.\n",
        "\n",
        "The `torch.autograd` package provides classes and functions implementing automatic differentiation of arbitrary scalar valued functions.\n",
        "\n",
        "This notebook assumes that you are using **PyTorch version 1.3**.\n",
        "In previous versions, 1.0, they separate a Tensor's datatype from its device, and use numpy-style factories for constructing Tensors rather than directly invoking Tensor constructors. Now, to obtain gradients for a tensor via autograd from arbitrary scalar valued functions, you can simply set `requires_grad=True`.\n",
        "\n",
        "The `torch.nn` package defines a set of Modules, which you can think of as a neural network layer that has produces output from input and may have some trainable weights.\n",
        "\n",
        "You can also find the detailed [API doc](http://pytorch.org/docs/stable/index.html) here. If you have other questions that are not addressed by the API docs, the [PyTorch forum](https://discuss.pytorch.org/) is a much better place to ask than StackOverflow.\n"
      ]
    },
    {
      "cell_type": "markdown",
      "metadata": {
        "id": "ED0jpoGyIL_B",
        "tags": [
          "pdf-ignore"
        ]
      },
      "source": [
        "# Table of Contents\n",
        "\n",
        "This assignment has 5 parts. You will learn PyTorch on **three different levels of abstraction**, which will help you understand it better.\n",
        "\n",
        "1. Part I, Preparation and Data: We will use CIFAR-10 dataset and input a set of utility functions.\n",
        "2. Part II, Barebones PyTorch: **Abstraction level 1**, we will work directly with the lowest-level PyTorch Tensors with autograd.\n",
        "3. Part III, PyTorch Module API: **Abstraction level 2**, we will use `nn.Module` to define an arbitrary neural network architecture. \n",
        "4. Part IV, PyTorch Sequential API: **Abstraction level 3**, we will use `nn.Sequential` to define a fully-connected and convolutional network very conveniently. \n",
        "5. Part V, Residual Network: Implement your own ResNet to get high accuracy classification on CIFAR-10.\n",
        "\n",
        "Here is a table of comparison:\n",
        "\n",
        "| API             | Flexibility | Convenience |\n",
        "|-----------------|-------------|-------------|\n",
        "| Barebone        | High        | Low         |\n",
        "| `nn.Module`     | High        | Medium      |\n",
        "| `nn.Sequential` | Low         | High        |"
      ]
    },
    {
      "cell_type": "markdown",
      "metadata": {
        "id": "7LCmGZ_3IL_V"
      },
      "source": [
        "# Part I. Preparation"
      ]
    },
    {
      "cell_type": "markdown",
      "metadata": {
        "id": "ubB_0e-UAOVK"
      },
      "source": [
        "## Install starter code\n",
        "Install the utility functions: [`coutils` package](https://github.com/deepvision-class/starter-code). Run this cell to download and install it.\n"
      ]
    },
    {
      "cell_type": "code",
      "metadata": {
        "id": "ASkY27ZtA7Is",
        "outputId": "80ac8bf2-9c75-4ae5-ce4d-efbcd53b78db",
        "colab": {
          "base_uri": "https://localhost:8080/",
          "height": 445
        }
      },
      "source": [
        "!pip install git+https://github.com/deepvision-class/starter-code"
      ],
      "execution_count": 1,
      "outputs": [
        {
          "output_type": "stream",
          "text": [
            "Collecting git+https://github.com/deepvision-class/starter-code\n",
            "  Cloning https://github.com/deepvision-class/starter-code to /tmp/pip-req-build-bejj3lou\n",
            "  Running command git clone -q https://github.com/deepvision-class/starter-code /tmp/pip-req-build-bejj3lou\n",
            "Requirement already satisfied: pydrive in /usr/local/lib/python3.6/dist-packages (from Colab-Utils==0.1.dev0) (1.3.1)\n",
            "Requirement already satisfied: oauth2client>=4.0.0 in /usr/local/lib/python3.6/dist-packages (from pydrive->Colab-Utils==0.1.dev0) (4.1.3)\n",
            "Requirement already satisfied: PyYAML>=3.0 in /usr/local/lib/python3.6/dist-packages (from pydrive->Colab-Utils==0.1.dev0) (3.13)\n",
            "Requirement already satisfied: google-api-python-client>=1.2 in /usr/local/lib/python3.6/dist-packages (from pydrive->Colab-Utils==0.1.dev0) (1.7.12)\n",
            "Requirement already satisfied: six>=1.6.1 in /usr/local/lib/python3.6/dist-packages (from oauth2client>=4.0.0->pydrive->Colab-Utils==0.1.dev0) (1.15.0)\n",
            "Requirement already satisfied: pyasn1-modules>=0.0.5 in /usr/local/lib/python3.6/dist-packages (from oauth2client>=4.0.0->pydrive->Colab-Utils==0.1.dev0) (0.2.8)\n",
            "Requirement already satisfied: pyasn1>=0.1.7 in /usr/local/lib/python3.6/dist-packages (from oauth2client>=4.0.0->pydrive->Colab-Utils==0.1.dev0) (0.4.8)\n",
            "Requirement already satisfied: httplib2>=0.9.1 in /usr/local/lib/python3.6/dist-packages (from oauth2client>=4.0.0->pydrive->Colab-Utils==0.1.dev0) (0.17.4)\n",
            "Requirement already satisfied: rsa>=3.1.4 in /usr/local/lib/python3.6/dist-packages (from oauth2client>=4.0.0->pydrive->Colab-Utils==0.1.dev0) (4.6)\n",
            "Requirement already satisfied: uritemplate<4dev,>=3.0.0 in /usr/local/lib/python3.6/dist-packages (from google-api-python-client>=1.2->pydrive->Colab-Utils==0.1.dev0) (3.0.1)\n",
            "Requirement already satisfied: google-auth-httplib2>=0.0.3 in /usr/local/lib/python3.6/dist-packages (from google-api-python-client>=1.2->pydrive->Colab-Utils==0.1.dev0) (0.0.4)\n",
            "Requirement already satisfied: google-auth>=1.4.1 in /usr/local/lib/python3.6/dist-packages (from google-api-python-client>=1.2->pydrive->Colab-Utils==0.1.dev0) (1.17.2)\n",
            "Requirement already satisfied: setuptools>=40.3.0 in /usr/local/lib/python3.6/dist-packages (from google-auth>=1.4.1->google-api-python-client>=1.2->pydrive->Colab-Utils==0.1.dev0) (50.3.0)\n",
            "Requirement already satisfied: cachetools<5.0,>=2.0.0 in /usr/local/lib/python3.6/dist-packages (from google-auth>=1.4.1->google-api-python-client>=1.2->pydrive->Colab-Utils==0.1.dev0) (4.1.1)\n",
            "Building wheels for collected packages: Colab-Utils\n",
            "  Building wheel for Colab-Utils (setup.py) ... \u001b[?25l\u001b[?25hdone\n",
            "  Created wheel for Colab-Utils: filename=Colab_Utils-0.1.dev0-cp36-none-any.whl size=10324 sha256=0cfc8965d2629646b6880ba44b151d2383f41eec5e59dd2e0b344e5f2f01ebcd\n",
            "  Stored in directory: /tmp/pip-ephem-wheel-cache-sc5x6p7k/wheels/63/d1/27/a208931527abb98d326d00209f46c80c9d745851d6a1defd10\n",
            "Successfully built Colab-Utils\n",
            "Installing collected packages: Colab-Utils\n",
            "Successfully installed Colab-Utils-0.1.dev0\n"
          ],
          "name": "stdout"
        }
      ]
    },
    {
      "cell_type": "markdown",
      "metadata": {
        "id": "MzqbYcKdz6ew"
      },
      "source": [
        "## Setup code\n",
        "Run some setup code for this notebook."
      ]
    },
    {
      "cell_type": "code",
      "metadata": {
        "id": "Q8o3FxatIL_X",
        "tags": [
          "pdf-ignore"
        ]
      },
      "source": [
        "import coutils\n",
        "from coutils import fix_random_seed\n",
        "\n",
        "from collections import OrderedDict\n",
        "import torch\n",
        "import torch.nn as nn\n",
        "import torch.nn.functional as F\n",
        "import torch.optim as optim\n",
        "from torch.utils.data import DataLoader\n",
        "from torch.utils.data import sampler\n",
        "\n",
        "import torchvision.datasets\n",
        "import torchvision.transforms as transforms\n",
        "\n",
        "# for plotting\n",
        "import matplotlib.pyplot as plt\n",
        "%matplotlib inline\n",
        "plt.rcParams['figure.figsize'] = (10.0, 8.0) # set default size of plots\n",
        "plt.rcParams['image.interpolation'] = 'nearest'\n",
        "plt.rcParams['image.cmap'] = 'gray'"
      ],
      "execution_count": 2,
      "outputs": []
    },
    {
      "cell_type": "markdown",
      "metadata": {
        "id": "MX_9-e_5-AYR"
      },
      "source": [
        "##Read in Data Set, CIFAR-10"
      ]
    },
    {
      "cell_type": "code",
      "metadata": {
        "id": "-XB6NUX0IL_f",
        "tags": [
          "pdf-ignore"
        ],
        "outputId": "849b7df6-5597-4edc-ba83-08b8577fc142",
        "colab": {
          "base_uri": "https://localhost:8080/",
          "height": 117,
          "referenced_widgets": [
            "dd5aaf62a1f2476bb30871e5407aa185",
            "f176efb514754dbda11c2c3798af9fee",
            "41a5cb1de9fe4ee4b34abd978b6eca44",
            "ae7a36de01304907b1f2e5d3133fc62e",
            "8c6a95b332e54937aaead412cf19a517",
            "23df43d92a4844e98cad5c69cda52781",
            "7f962e96bd88470c815bb5aaf4e18480",
            "679721ec42f2498fab098d84b5c63354"
          ]
        }
      },
      "source": [
        "NUM_TRAIN = 49000\n",
        "\n",
        "# Next step is used to normalize the data by specifying a mean and standard \n",
        "# deviation for each of the three channels. This will convert the data from [0,1] to [-1,1]\n",
        "transform = transforms.Compose([\n",
        "                transforms.ToTensor(),\n",
        "                transforms.Normalize((0.5, 0.5, 0.5), (0.5, 0.5, 0.5))])\n",
        "\n",
        "# We set up a Dataset object for each split (train / val / test); Datasets load\n",
        "# training examples one at a time, so we wrap each Dataset in a DataLoader which\n",
        "# iterates through the Dataset and forms minibatches. We divide the CIFAR-10\n",
        "# training set into train and val sets by passing a Sampler object to the\n",
        "# DataLoader telling how it should sample from the underlying Dataset.\n",
        "cifar10_train = torchvision.datasets.CIFAR10(root='./data', train=True,\n",
        "                                        download=True, transform=transform)\n",
        "loader_train = DataLoader(cifar10_train, batch_size=64, \n",
        "                          sampler=sampler.SubsetRandomSampler(range(NUM_TRAIN)))\n",
        "\n",
        "cifar10_val = torchvision.datasets.CIFAR10('./data', train=True, download=True,\n",
        "                           transform=transform)\n",
        "loader_val = DataLoader(cifar10_val, batch_size=64, \n",
        "                        sampler=sampler.SubsetRandomSampler(range(NUM_TRAIN, 50000)))\n",
        "\n",
        "cifar10_test = torchvision.datasets.CIFAR10(root='./data', train=False,\n",
        "                                       download=True, transform=transform)\n",
        "\n",
        "loader_test = DataLoader(cifar10_test, batch_size=64,\n",
        "                                         shuffle=False, num_workers=2)\n",
        "\n",
        "classes = ('plane', 'car', 'bird', 'cat',\n",
        "           'deer', 'dog', 'frog', 'horse', 'ship', 'truck')"
      ],
      "execution_count": 3,
      "outputs": [
        {
          "output_type": "stream",
          "text": [
            "Downloading https://www.cs.toronto.edu/~kriz/cifar-10-python.tar.gz to ./data/cifar-10-python.tar.gz\n"
          ],
          "name": "stdout"
        },
        {
          "output_type": "display_data",
          "data": {
            "application/vnd.jupyter.widget-view+json": {
              "model_id": "dd5aaf62a1f2476bb30871e5407aa185",
              "version_minor": 0,
              "version_major": 2
            },
            "text/plain": [
              "HBox(children=(FloatProgress(value=1.0, bar_style='info', max=1.0), HTML(value='')))"
            ]
          },
          "metadata": {
            "tags": []
          }
        },
        {
          "output_type": "stream",
          "text": [
            "Extracting ./data/cifar-10-python.tar.gz to ./data\n",
            "Files already downloaded and verified\n",
            "Files already downloaded and verified\n"
          ],
          "name": "stdout"
        }
      ]
    },
    {
      "cell_type": "markdown",
      "metadata": {
        "id": "APBg9kXALZgy"
      },
      "source": [
        "##Display the images\n",
        "Using the trainloader we will now get a random batch of 4 training images and plot them to see what CIFAR-10 images look like."
      ]
    },
    {
      "cell_type": "code",
      "metadata": {
        "id": "C_SUfM-HLget",
        "outputId": "73a25042-02bb-407d-ddd3-009c24747420",
        "colab": {
          "base_uri": "https://localhost:8080/",
          "height": 186
        }
      },
      "source": [
        "def convert_to_imshow_format(image):\n",
        "    # first convert back to [0,1] range from [-1,1] range\n",
        "    image = image / 2 + 0.5\n",
        "    image = image.numpy()\n",
        "    # convert from CHW to HWC\n",
        "    # from 3x32x32 to 32x32x3\n",
        "    return image.transpose(1,2,0)\n",
        "\n",
        "trainloader = DataLoader(cifar10_train, batch_size=4,\n",
        "                                          shuffle=True, num_workers=2)\n",
        "\n",
        "# can change to testloader to see four test images\n",
        "data_iter = iter(trainloader)\n",
        "images, labels = data_iter.next()\n",
        "\n",
        "fig, axes = plt.subplots(1, len(images), figsize=(12,2.5))\n",
        "for idx, image in enumerate(images):\n",
        "    axes[idx].imshow(convert_to_imshow_format(image))\n",
        "    axes[idx].set_title(classes[labels[idx]])\n",
        "    axes[idx].set_xticks([])\n",
        "    axes[idx].set_yticks([])"
      ],
      "execution_count": 4,
      "outputs": [
        {
          "output_type": "display_data",
          "data": {
            "image/png": "[encoded data removed]",
            "text/plain": [
              "<Figure size 864x180 with 4 Axes>"
            ]
          },
          "metadata": {
            "tags": []
          }
        }
      ]
    },
    {
      "cell_type": "markdown",
      "metadata": {
        "id": "FiookQItIL_p",
        "tags": [
          "pdf-ignore"
        ]
      },
      "source": [
        "Note that if CUDA is not enabled, `torch.cuda.is_available()` will return False and this notebook will fallback to CPU mode. In Google Colab, go into the Runtime Menu and select CHange Runtime Type to select GPU.\n",
        "\n",
        "The global variables `dtype` and `device` will control the data types throughout this assignment. We will be using `torch.float = torch.float32` for data and `torch.long = torch.int64` for labels.\n",
        "\n",
        "Please refer to https://pytorch.org/docs/stable/tensor_attributes.html#torch-dtype for more details about data types."
      ]
    },
    {
      "cell_type": "code",
      "metadata": {
        "id": "blz1sXlkIL_q",
        "tags": [
          "pdf-ignore-input"
        ],
        "outputId": "61af8439-5dbd-4d03-d60b-bb6a5ed6e6b2",
        "colab": {
          "base_uri": "https://localhost:8080/",
          "height": 34
        }
      },
      "source": [
        "dtype = torch.float\n",
        "ltype = torch.long\n",
        "\n",
        "if torch.cuda.is_available():\n",
        "  device = torch.device('cuda:0')\n",
        "else:\n",
        "  device = torch.device('cpu')\n",
        "\n",
        "# Constant to control how frequently we print train loss\n",
        "print_every = 100\n",
        "\n",
        "print('using device:', device)"
      ],
      "execution_count": 5,
      "outputs": [
        {
          "output_type": "stream",
          "text": [
            "using device: cuda:0\n"
          ],
          "name": "stdout"
        }
      ]
    },
    {
      "cell_type": "markdown",
      "metadata": {
        "id": "arcbqxO4AmAx"
      },
      "source": [
        "Before we start, we define the flatten function for convenience."
      ]
    },
    {
      "cell_type": "code",
      "metadata": {
        "id": "xAhc4L8dzwbM"
      },
      "source": [
        "def flatten(x, start_dim=1, end_dim=-1):\n",
        "  return x.flatten(start_dim=start_dim, end_dim=end_dim)"
      ],
      "execution_count": 6,
      "outputs": []
    },
    {
      "cell_type": "markdown",
      "metadata": {
        "id": "mazLauPlIL_5"
      },
      "source": [
        "# Part II. Barebones PyTorch\n",
        "\n",
        "PyTorch ships with high-level APIs to help us define model architectures conveniently. In this section, we will start with the barebone PyTorch elements to understand the autograd engine better. After this exercise, you will come to appreciate the high-level model API more.\n",
        "\n",
        "We will start with a simple fully-connected ReLU network with two hidden layers and no biases for CIFAR classification. \n",
        "This implementation computes the forward pass using operations on PyTorch Tensors, and uses PyTorch autograd to compute gradients. It is important that you understand every line, because you will write a harder version after the example.\n",
        "\n",
        "When we create a PyTorch Tensor with `requires_grad=True`, then operations involving that Tensor will not just compute values; they will also build up a computational graph in the background, allowing us to easily backpropagate through the graph to compute gradients of some Tensors with respect to a downstream loss. Concretely, if `x` is a Tensor with `x.requires_grad == True` then after backpropagation `x.grad` will be another Tensor holding the gradient of `x` with respect to the scalar loss at the end."
      ]
    },
    {
      "cell_type": "markdown",
      "metadata": {
        "id": "3rPnppVkIMAB",
        "tags": [
          "pdf-ignore"
        ]
      },
      "source": [
        "### Barebones PyTorch: Two-Layer Network\n",
        "\n",
        "Here we define a function `two_layer_fc` which performs the forward pass of a two-layer fully-connected ReLU network on a batch of image data. After defining the forward pass we check that it doesn't crash and that it produces outputs of the right shape by running zeros through the network.\n",
        "\n",
        "You don't have to write any code here, but it's important that you read and understand the implementation."
      ]
    },
    {
      "cell_type": "code",
      "metadata": {
        "id": "D6PqRQwlIMAC",
        "tags": [
          "pdf-ignore-input"
        ],
        "outputId": "3be004ac-de27-483f-b3e2-9e7cf5e6ba04",
        "colab": {
          "base_uri": "https://localhost:8080/",
          "height": 34
        }
      },
      "source": [
        "def two_layer_fc(x, params):\n",
        "  \"\"\"\n",
        "  A fully-connected neural networks; the architecture is:\n",
        "  NN is fully connected -> ReLU -> fully connected layer.\n",
        "  Note that this function only defines the forward pass; \n",
        "  PyTorch will take care of the backward pass for us.\n",
        "  \n",
        "  The input to the network will be a minibatch of data, of shape\n",
        "  (N, d1, ..., dM) where d1 * ... * dM = D. The hidden layer will have H units,\n",
        "  and the output layer will produce scores for C classes.\n",
        "  \n",
        "  Inputs:\n",
        "  - x: A PyTorch Tensor of shape (N, d1, ..., dM) giving a minibatch of\n",
        "    input data.\n",
        "  - params: A list [w1, w2] of PyTorch Tensors giving weights for the network;\n",
        "    w1 has shape (H, D) and w2 has shape (C, H).\n",
        "  \n",
        "  Returns:\n",
        "  - scores: A PyTorch Tensor of shape (N, C) giving classification scores for\n",
        "    the input data x.\n",
        "  \"\"\"\n",
        "  # first we flatten the image\n",
        "  x = flatten(x)  # shape: [batch_size, C x H x W]\n",
        "  \n",
        "  w1, b1, w2, b2 = params\n",
        "  \n",
        "  # Forward pass: compute predicted y using operations on Tensors. Since w1 and\n",
        "  # w2 have requires_grad=True, operations involving these Tensors will cause\n",
        "  # PyTorch to build a computational graph, allowing automatic computation of\n",
        "  # gradients. Since we are no longer implementing the backward pass by hand we\n",
        "  # don't need to keep references to intermediate values.\n",
        "  # Note that F.linear(x, w, b) is equivalent to x.mm(w.t()) + b\n",
        "  # For ReLU, you can also use `.clamp(min=0)`, equivalent to `F.relu()`\n",
        "  x = F.relu(F.linear(x, w1, b1))\n",
        "  x = F.linear(x, w2, b2)\n",
        "  scores = x\n",
        "  return scores\n",
        "    \n",
        "\n",
        "def two_layer_fc_test():\n",
        "  hidden_layer_size = 42\n",
        "  x = torch.zeros((64, 3, 16, 16), dtype=dtype)  # minibatch size 64, feature dimension 3*16*16\n",
        "  w1 = torch.zeros((hidden_layer_size, 3*16*16), dtype=dtype)\n",
        "  b1 = torch.zeros((hidden_layer_size,), dtype=dtype)\n",
        "  w2 = torch.zeros((10, hidden_layer_size), dtype=dtype)\n",
        "  b2 = torch.zeros((10,), dtype=dtype)\n",
        "  scores = two_layer_fc(x, [w1, b1, w2, b2])\n",
        "  print('Output size:', list(scores.size()))  \n",
        "two_layer_fc_test()"
      ],
      "execution_count": 7,
      "outputs": [
        {
          "output_type": "stream",
          "text": [
            "Output size: [64, 10]\n"
          ],
          "name": "stdout"
        }
      ]
    },
    {
      "cell_type": "markdown",
      "metadata": {
        "id": "ltThdbKuM2Jd"
      },
      "source": [
        "The output should be [64, 10]"
      ]
    },
    {
      "cell_type": "markdown",
      "metadata": {
        "id": "muCDvYEKIMAJ"
      },
      "source": [
        "### Barebones PyTorch: Three-Layer ConvNet\n",
        "\n",
        "Here you will complete the implementation of the function `three_layer_convnet`, which will perform the forward pass of a three-layer convolutional network. Like above, we can immediately test our implementation by passing zeros through the network. The network should have the following architecture:\n",
        "\n",
        "1. A convolutional layer (with bias) with `channel_1` filters, each with shape `KW1 x KH1`, and zero-padding of two\n",
        "2. ReLU nonlinearity\n",
        "3. A convolutional layer (with bias) with `channel_2` filters, each with shape `KW2 x KH2`, and zero-padding of one\n",
        "4. ReLU nonlinearity\n",
        "5. Fully-connected layer with bias, producing scores for C classes.\n",
        "\n",
        "Note that we have **no softmax activation** here after our fully-connected layer: this is because PyTorch's cross entropy loss performs a softmax activation for you, and by bundling that step in makes computation more efficient.\n",
        "\n",
        "**HINT**: For convolutions: https://pytorch.org/docs/stable/nn.functional.html#torch.nn.functional.conv2d; pay attention to the shapes of convolutional filters!"
      ]
    },
    {
      "cell_type": "code",
      "metadata": {
        "id": "FHWVtcaEIMAM"
      },
      "source": [
        "def three_layer_convnet(x, params):\n",
        "  \"\"\"\n",
        "  Performs the forward pass of a three-layer convolutional network with the\n",
        "  architecture defined above.\n",
        "\n",
        "  Inputs:\n",
        "  - x: A PyTorch Tensor of shape (N, C, H, W) giving a minibatch of images\n",
        "  - params: A list of PyTorch Tensors giving the weights and biases for the\n",
        "    network; should contain the following:\n",
        "    - conv_w1: PyTorch Tensor of shape (channel_1, C, KH1, KW1) giving weights\n",
        "      for the first convolutional layer\n",
        "    - conv_b1: PyTorch Tensor of shape (channel_1,) giving biases for the first\n",
        "      convolutional layer\n",
        "    - conv_w2: PyTorch Tensor of shape (channel_2, channel_1, KH2, KW2) giving\n",
        "      weights for the second convolutional layer\n",
        "    - conv_b2: PyTorch Tensor of shape (channel_2,) giving biases for the second\n",
        "      convolutional layer\n",
        "    - fc_w: PyTorch Tensor giving weights for the fully-connected layer. Can you\n",
        "      figure out what the shape should be?\n",
        "    - fc_b: PyTorch Tensor giving biases for the fully-connected layer. Can you\n",
        "      figure out what the shape should be?\n",
        "  \n",
        "  Returns:\n",
        "  - scores: PyTorch Tensor of shape (N, C) giving classification scores for x\n",
        "  \"\"\"\n",
        "  conv_w1, conv_b1, conv_w2, conv_b2, fc_w, fc_b = params\n",
        "  scores = None\n",
        "  ##############################################################################\n",
        "  # TODO: Implement the forward pass for the three-layer ConvNet.              #\n",
        "  # Hint: F.linear, F.conv2d, F.relu, flatten                                  #\n",
        "  ##############################################################################\n",
        "  # Replace \"pass\" statement with your code\n",
        "\n",
        "  conv1 = F.conv2d(x, weight=conv_w1, bias=conv_b1, padding=2)\n",
        "  relu1 = F.relu(conv1)\n",
        "  conv2 = F.conv2d(relu1, weight=conv_w2, bias=conv_b2, padding=1)\n",
        "  relu2 = F.relu(conv2)\n",
        "  flatt = flatten(relu2)\n",
        "  \n",
        "  scores = F.linear(flatt, fc_w, fc_b)\n",
        "\n",
        "\n",
        "\n",
        "  ################################################################################\n",
        "  #                                 END OF YOUR CODE                             #\n",
        "  ################################################################################\n",
        "  return scores"
      ],
      "execution_count": 8,
      "outputs": []
    },
    {
      "cell_type": "markdown",
      "metadata": {
        "id": "Z7Cg9qvTIMAR"
      },
      "source": [
        "After defining the forward pass of the ConvNet above, run the following cell to test your implementation.\n",
        "\n",
        "When you run this function, scores should have shape (64, 10)."
      ]
    },
    {
      "cell_type": "code",
      "metadata": {
        "id": "1kEMMi4QIMAa",
        "tags": [
          "pdf-ignore-input"
        ],
        "outputId": "69b6da61-6bc3-4e16-f7bd-818cbfa7e67e",
        "colab": {
          "base_uri": "https://localhost:8080/",
          "height": 34
        }
      },
      "source": [
        "def three_layer_convnet_test():\n",
        "  x = torch.zeros((64, 3, 32, 32), dtype=dtype)  # minibatch size 64, image size [3, 32, 32]\n",
        "\n",
        "  conv_w1 = torch.zeros((6, 3, 5, 5), dtype=dtype)  # [out_channel, in_channel, kernel_H, kernel_W]\n",
        "  conv_b1 = torch.zeros((6,))  # out_channel\n",
        "  conv_w2 = torch.zeros((9, 6, 3, 3), dtype=dtype)  # [out_channel, in_channel, kernel_H, kernel_W]\n",
        "  conv_b2 = torch.zeros((9,))  # out_channel\n",
        "\n",
        "  # you must calculate the shape of the tensor after two conv layers, before the fully-connected layer\n",
        "  fc_w = torch.zeros((10, 9 * 32 * 32))\n",
        "  fc_b = torch.zeros(10)\n",
        "\n",
        "  scores = three_layer_convnet(x, [conv_w1, conv_b1, conv_w2, conv_b2, fc_w, fc_b])\n",
        "  print('Output size:', list(scores.size()))  # you should see [64, 10]\n",
        "three_layer_convnet_test()"
      ],
      "execution_count": 9,
      "outputs": [
        {
          "output_type": "stream",
          "text": [
            "Output size: [64, 10]\n"
          ],
          "name": "stdout"
        }
      ]
    },
    {
      "cell_type": "markdown",
      "metadata": {
        "id": "WBStmY2yIMAh"
      },
      "source": [
        "### Barebones PyTorch: Kaiming Initialization\n",
        "In this part, we are going to use [Kaiming initialization](https://arxiv.org/abs/1502.01852) which was developed for the leaky ReLU function or Parametric Rectified Linear Unit (PReLU) in the paper.\n",
        "\n",
        "Fortunately, PyTorch already provides a function, so we will use this:\n",
        "[torch.nn.init.kaiming_normal_](https://pytorch.org/docs/stable/nn.init.html#torch.nn.init.kaiming_normal_)\n",
        "\n",
        "By default, `gain = 2`, because this function assumes that ReLU activation follows.\n",
        "This is true in the linear and convolutional layers in the models you are going to implement, except for the last fully-connected layer:\n",
        "in principle, we should give `gain = 1` because ReLU is not applied there.\n",
        "However, as stated in the [original paper](https://arxiv.org/abs/1502.01852), since the factor 1/2 does not matter if it just exists on one layer, we are going to keep using `gain = 2` for simplicity.\n",
        "\n",
        "For more details on initialization methods provided by PyTorch, see https://pytorch.org/docs/stable/nn.init.html."
      ]
    },
    {
      "cell_type": "code",
      "metadata": {
        "id": "_rf9JRh5IMAj",
        "tags": [
          "pdf-ignore-input"
        ],
        "outputId": "4c7f132e-c878-4e93-82b8-42ddd2d30d27",
        "colab": {
          "base_uri": "https://localhost:8080/",
          "height": 119
        }
      },
      "source": [
        "# to ensure consistent results, we will set the value of the random seed.\n",
        "fix_random_seed(0)\n",
        "\n",
        "# create a weight of shape [3 x 5]\n",
        "print(nn.init.kaiming_normal_(torch.empty(3,5, dtype=dtype, device=device)))\n",
        "print(nn.init.zeros_(torch.empty(3,5, dtype=dtype, device=device)))"
      ],
      "execution_count": 10,
      "outputs": [
        {
          "output_type": "stream",
          "text": [
            "tensor([[-0.5848, -0.2690, -1.6721,  0.0918, -0.0764],\n",
            "        [-0.3667, -0.3939, -0.2077, -0.6796, -0.2297],\n",
            "        [-1.0569,  1.4328,  0.1971, -0.1165,  0.8137]], device='cuda:0')\n",
            "tensor([[0., 0., 0., 0., 0.],\n",
            "        [0., 0., 0., 0., 0.],\n",
            "        [0., 0., 0., 0., 0.]], device='cuda:0')\n"
          ],
          "name": "stdout"
        }
      ]
    },
    {
      "cell_type": "markdown",
      "metadata": {
        "id": "jsx8n1tRP7zX"
      },
      "source": [
        "Expected values:\n",
        "```\n",
        "tensor([[-0.5848, -0.2690, -1.6721,  0.0918, -0.0764],\n",
        "        [-0.3667, -0.3939, -0.2077, -0.6796, -0.2297],\n",
        "        [-1.0569,  1.4328,  0.1971, -0.1165,  0.8137]], device='cuda:0')\n",
        "```\n",
        "\n",
        "```\n",
        "tensor([[0., 0., 0., 0., 0.],\n",
        "        [0., 0., 0., 0., 0.],\n",
        "        [0., 0., 0., 0., 0.]], device='cuda:0')\n",
        "```\n"
      ]
    },
    {
      "cell_type": "markdown",
      "metadata": {
        "id": "akQqCObPIMAo"
      },
      "source": [
        "### Barebones PyTorch: Check Accuracy\n",
        "When training the model we will use the following function to check the accuracy of our model on the training or validation sets.\n",
        "\n",
        "When checking accuracy we don't need to compute any gradients; as a result we don't need PyTorch to build a computational graph for us when we compute scores. To prevent a graph from being built we scope our computation under a `torch.no_grad()` context manager."
      ]
    },
    {
      "cell_type": "code",
      "metadata": {
        "id": "l4xAUWASIMAq",
        "tags": [
          "pdf-ignore-input"
        ]
      },
      "source": [
        "def check_accuracy_part2(loader, model_fn, params):\n",
        "  \"\"\"\n",
        "  Check the accuracy of a classification model.\n",
        "  \n",
        "  Inputs:\n",
        "  - loader: A DataLoader for the data split we want to check\n",
        "  - model_fn: A function that performs the forward pass of the model,\n",
        "    with the signature scores = model_fn(x, params)\n",
        "  - params: List of PyTorch Tensors giving parameters of the model\n",
        "  \n",
        "  Returns: Nothing, but prints the accuracy of the model\n",
        "  \"\"\"\n",
        "  split = 'val' if loader.dataset.train else 'test'\n",
        "  print('Checking accuracy on the %s set' % split)\n",
        "  num_correct, num_samples = 0, 0\n",
        "  with torch.no_grad():\n",
        "    for x, y in loader:\n",
        "      x = x.to(device=device, dtype=dtype)  # move to device, e.g. GPU\n",
        "      y = y.to(device=device, dtype=ltype)\n",
        "      scores = model_fn(x, params)\n",
        "      _, preds = scores.max(1)\n",
        "      num_correct += (preds == y).sum()\n",
        "      num_samples += preds.size(0)\n",
        "    acc = float(num_correct) / num_samples\n",
        "    print('Got %d / %d correct (%.2f%%)' % (num_correct, num_samples, 100 * acc))"
      ],
      "execution_count": 11,
      "outputs": []
    },
    {
      "cell_type": "markdown",
      "metadata": {
        "id": "8LvPbM4WIMAv"
      },
      "source": [
        "### BareBones PyTorch: Training Loop\n",
        "We can now set up a basic training loop to train our network. We will train the model using stochastic gradient descent without momentum. We will use `torch.nn.functional.cross_entropy` to compute the loss; you can [read about it here](https://pytorch.org/docs/stable/nn.html#crossentropyloss).\n",
        "\n",
        "The training loop takes as input the neural network function, a list of initialized parameters (`[w1, w2]` in our example), and learning rate."
      ]
    },
    {
      "cell_type": "code",
      "metadata": {
        "id": "WYGBD0YZIMAx",
        "tags": [
          "pdf-ignore-input"
        ]
      },
      "source": [
        "def train_part2(model_fn, params, learning_rate):\n",
        "  \"\"\"\n",
        "  Train a model on CIFAR-10.\n",
        "  \n",
        "  Inputs:\n",
        "  - model_fn: A Python function that performs the forward pass of the model.\n",
        "    It should have the signature scores = model_fn(x, params) where x is a\n",
        "    PyTorch Tensor of image data, params is a list of PyTorch Tensors giving\n",
        "    model weights, and scores is a PyTorch Tensor of shape (N, C) giving\n",
        "    scores for the elements in x.\n",
        "  - params: List of PyTorch Tensors giving weights for the model\n",
        "  - learning_rate: Python scalar giving the learning rate to use for SGD\n",
        "  \n",
        "  Returns: Nothing\n",
        "  \"\"\"\n",
        "  for t, (x, y) in enumerate(loader_train):\n",
        "    # Move the data to the proper device (GPU or CPU)\n",
        "    x = x.to(device=device, dtype=dtype)\n",
        "    y = y.to(device=device, dtype=ltype)\n",
        "\n",
        "    # Forward pass: compute scores and loss\n",
        "    scores = model_fn(x, params)\n",
        "    loss = F.cross_entropy(scores, y)\n",
        "\n",
        "    # Backward pass: PyTorch figures out which Tensors in the computational\n",
        "    # graph has requires_grad=True and uses backpropagation to compute the\n",
        "    # gradient of the loss with respect to these Tensors, and stores the\n",
        "    # gradients in the .grad attribute of each Tensor.\n",
        "    loss.backward()\n",
        "\n",
        "    # Update parameters. We don't want to backpropagate through the\n",
        "    # parameter updates, so we scope the updates under a torch.no_grad()\n",
        "    # context manager to prevent a computational graph from being built.\n",
        "    with torch.no_grad():\n",
        "      for w in params:\n",
        "        if w.requires_grad:\n",
        "          w -= learning_rate * w.grad\n",
        "\n",
        "          # Manually zero the gradients after running the backward pass\n",
        "          w.grad.zero_()\n",
        "\n",
        "    if t % print_every == 0 or t == len(loader_train)-1:\n",
        "      print('Iteration %d, loss = %.4f' % (t, loss.item()))\n",
        "      check_accuracy_part2(loader_val, model_fn, params)\n",
        "      print()"
      ],
      "execution_count": 12,
      "outputs": []
    },
    {
      "cell_type": "markdown",
      "metadata": {
        "id": "gkTNXK9cIMA6"
      },
      "source": [
        "### BareBones PyTorch: Train a Two-Layer Network\n",
        "Now we are ready to run the training loop. We need to explicitly allocate tensors for the fully connected weights, `w1` and `w2`. \n",
        "\n",
        "Each minibatch of CIFAR has 64 examples, so the tensor shape is `[64, 3, 32, 32]`. \n",
        "\n",
        "After flattening, `x` shape should be `[64, 3 * 32 * 32]`. This will be the size of the second dimension of `w1`. \n",
        "The first dimension of `w1` is the hidden layer size, which will also be the second dimension of `w2`. \n",
        "\n",
        "Finally, the output of the network is a 10-dimensional vector that represents the probability distribution over 10 classes. \n",
        "\n",
        "You don't need to tune any hyperparameters but you should see accuracies above 40% after training for one epoch."
      ]
    },
    {
      "cell_type": "code",
      "metadata": {
        "id": "OSBSy0JTIMA8",
        "outputId": "677dcf09-1cc0-4d15-f522-076dac940146",
        "colab": {
          "base_uri": "https://localhost:8080/",
          "height": 629
        }
      },
      "source": [
        "fix_random_seed(0)\n",
        "\n",
        "C, H, W = 3, 32, 32\n",
        "num_classes = 10\n",
        "\n",
        "hidden_layer_size = 4000\n",
        "learning_rate = 1e-2\n",
        "\n",
        "w1 = nn.init.kaiming_normal_(torch.empty(hidden_layer_size, C*H*W, dtype=dtype, device=device))\n",
        "w1.requires_grad = True\n",
        "b1 = nn.init.zeros_(torch.empty(hidden_layer_size, dtype=dtype, device=device))\n",
        "b1.requires_grad = True\n",
        "w2 = nn.init.kaiming_normal_(torch.empty(num_classes, hidden_layer_size, dtype=dtype, device=device))\n",
        "w2.requires_grad = True\n",
        "b2 = nn.init.zeros_(torch.empty(num_classes, dtype=dtype, device=device))\n",
        "b2.requires_grad = True\n",
        "\n",
        "train_part2(two_layer_fc, [w1, b1, w2, b2], learning_rate)"
      ],
      "execution_count": 13,
      "outputs": [
        {
          "output_type": "stream",
          "text": [
            "Iteration 0, loss = 2.5128\n",
            "Checking accuracy on the val set\n",
            "Got 120 / 1000 correct (12.00%)\n",
            "\n",
            "Iteration 100, loss = 1.8290\n",
            "Checking accuracy on the val set\n",
            "Got 363 / 1000 correct (36.30%)\n",
            "\n",
            "Iteration 200, loss = 1.8024\n",
            "Checking accuracy on the val set\n",
            "Got 393 / 1000 correct (39.30%)\n",
            "\n",
            "Iteration 300, loss = 1.6530\n",
            "Checking accuracy on the val set\n",
            "Got 407 / 1000 correct (40.70%)\n",
            "\n",
            "Iteration 400, loss = 1.5863\n",
            "Checking accuracy on the val set\n",
            "Got 414 / 1000 correct (41.40%)\n",
            "\n",
            "Iteration 500, loss = 1.8132\n",
            "Checking accuracy on the val set\n",
            "Got 421 / 1000 correct (42.10%)\n",
            "\n",
            "Iteration 600, loss = 1.7136\n",
            "Checking accuracy on the val set\n",
            "Got 423 / 1000 correct (42.30%)\n",
            "\n",
            "Iteration 700, loss = 1.8214\n",
            "Checking accuracy on the val set\n",
            "Got 435 / 1000 correct (43.50%)\n",
            "\n",
            "Iteration 765, loss = 1.5174\n",
            "Checking accuracy on the val set\n",
            "Got 446 / 1000 correct (44.60%)\n",
            "\n"
          ],
          "name": "stdout"
        }
      ]
    },
    {
      "cell_type": "markdown",
      "metadata": {
        "id": "7K_n_BZPIMBB"
      },
      "source": [
        "### BareBones PyTorch: Training a ConvNet\n",
        "\n",
        "In the below you should use the functions defined above to train a three-layer convolutional network on CIFAR. The network should have the following architecture:\n",
        "\n",
        "1. Convolutional layer (with bias) with 32 5x5 filters, with zero-padding of 2\n",
        "2. ReLU\n",
        "3. Convolutional layer (with bias) with 16 3x3 filters, with zero-padding of 1\n",
        "4. ReLU\n",
        "5. Fully-connected layer (with bias) to compute scores for 10 classes\n",
        "\n",
        "You should initialize your weight matrices using the `random_weight` function defined above, and you should initialize your bias vectors using the `zero_weight` function above.\n",
        "\n",
        "You don't need to tune any hyperparameters, but if everything works correctly you should achieve an accuracy above 45% after one epoch."
      ]
    },
    {
      "cell_type": "code",
      "metadata": {
        "id": "wBRWytEzIMBC",
        "outputId": "3884d35d-ab88-4c79-be81-11316d5d2876",
        "colab": {
          "base_uri": "https://localhost:8080/",
          "height": 629
        }
      },
      "source": [
        "fix_random_seed(0)\n",
        "\n",
        "C, H, W = 3, 32, 32\n",
        "num_classes = 10\n",
        "\n",
        "channel_1 = 32\n",
        "channel_2 = 16\n",
        "kernel_size_1 = 5\n",
        "kernel_size_2 = 3\n",
        "\n",
        "learning_rate = 3e-3\n",
        "\n",
        "conv_w1 = None\n",
        "conv_b1 = None\n",
        "conv_w2 = None\n",
        "conv_b2 = None\n",
        "fc_w = None\n",
        "fc_b = None\n",
        "\n",
        "################################################################################\n",
        "# TODO: Define and initialize the parameters of a three-layer ConvNet          #\n",
        "#       using nn.init.kaiming_normal_.                                         #\n",
        "################################################################################\n",
        "# Replace \"pass\" statement with your code\n",
        "\n",
        "conv_w1 = nn.init.kaiming_normal_(torch.empty(channel_1,3,5,5, dtype=dtype, device=device))\n",
        "conv_w1.requires_grad = True\n",
        "conv_b1 = nn.init.zeros_(torch.empty(channel_1, dtype=dtype, device=device))\n",
        "conv_b1.requires_grad = True\n",
        "\n",
        "conv_w2 = nn.init.kaiming_normal_(torch.empty(channel_2,channel_1,3,3, dtype=dtype, device=device))\n",
        "conv_w2.requires_grad = True\n",
        "conv_b2 = nn.init.zeros_(torch.empty(channel_2, dtype=dtype, device=device))\n",
        "conv_b2.requires_grad = True\n",
        "\n",
        "fc_w = nn.init.kaiming_normal_(torch.empty(num_classes,channel_2*32*32,  dtype=dtype, device=device))\n",
        "fc_w.requires_grad = True\n",
        "fc_b = nn.init.zeros_(torch.empty(num_classes, dtype=dtype, device=device))\n",
        "fc_b.requires_grad = True\n",
        "\n",
        "################################################################################\n",
        "#                                 END OF YOUR CODE                             #\n",
        "################################################################################\n",
        "\n",
        "params = [conv_w1, conv_b1, conv_w2, conv_b2, fc_w, fc_b]\n",
        "train_part2(three_layer_convnet, params, learning_rate)"
      ],
      "execution_count": 14,
      "outputs": [
        {
          "output_type": "stream",
          "text": [
            "Iteration 0, loss = 2.3693\n",
            "Checking accuracy on the val set\n",
            "Got 91 / 1000 correct (9.10%)\n",
            "\n",
            "Iteration 100, loss = 2.0174\n",
            "Checking accuracy on the val set\n",
            "Got 299 / 1000 correct (29.90%)\n",
            "\n",
            "Iteration 200, loss = 1.9350\n",
            "Checking accuracy on the val set\n",
            "Got 357 / 1000 correct (35.70%)\n",
            "\n",
            "Iteration 300, loss = 1.8102\n",
            "Checking accuracy on the val set\n",
            "Got 396 / 1000 correct (39.60%)\n",
            "\n",
            "Iteration 400, loss = 1.7527\n",
            "Checking accuracy on the val set\n",
            "Got 414 / 1000 correct (41.40%)\n",
            "\n",
            "Iteration 500, loss = 1.8291\n",
            "Checking accuracy on the val set\n",
            "Got 419 / 1000 correct (41.90%)\n",
            "\n",
            "Iteration 600, loss = 1.6657\n",
            "Checking accuracy on the val set\n",
            "Got 433 / 1000 correct (43.30%)\n",
            "\n",
            "Iteration 700, loss = 1.8734\n",
            "Checking accuracy on the val set\n",
            "Got 455 / 1000 correct (45.50%)\n",
            "\n",
            "Iteration 765, loss = 1.4827\n",
            "Checking accuracy on the val set\n",
            "Got 421 / 1000 correct (42.10%)\n",
            "\n"
          ],
          "name": "stdout"
        }
      ]
    },
    {
      "cell_type": "markdown",
      "metadata": {
        "id": "YXGdsYInIMBH"
      },
      "source": [
        "# Part III. PyTorch Module API\n",
        "\n",
        "Barebone PyTorch requires that we track all the parameter tensors by hand. This is fine for small networks with a few tensors, but it would be extremely inconvenient and error-prone to track tens or hundreds of tensors in larger networks.\n",
        "\n",
        "PyTorch provides the `nn.Module` API for you to define arbitrary network architectures, while tracking every learnable parameters for you. In Part II, we implemented SGD ourselves. PyTorch also provides the `torch.optim` package that implements all the common optimizers, such as RMSProp, Adagrad, and Adam. It even supports approximate second-order methods like L-BFGS! You can refer to the [doc](http://pytorch.org/docs/master/optim.html) for the exact specifications of each optimizer.\n",
        "\n",
        "To use the Module API, follow the steps below:\n",
        "\n",
        "1. Subclass `nn.Module`. Give your network class an intuitive name like `TwoLayerFC`. \n",
        "\n",
        "2. In the constructor `__init__()`, define all the layers you need as class attributes. Layer objects like `nn.Linear` and `nn.Conv2d` are themselves `nn.Module` subclasses and contain learnable parameters, so that you don't have to instantiate the raw tensors yourself. `nn.Module` will track these internal parameters for you. Refer to the [doc](http://pytorch.org/docs/master/nn.html) to learn more about the dozens of builtin layers. **Warning**: don't forget to call the `super().__init__()` first!\n",
        "\n",
        "3. In the `forward()` method, define the *connectivity* of your network. You should use the attributes defined in `__init__` as function calls that take tensor as input and output the \"transformed\" tensor. Do *not* create any new layers with learnable parameters in `forward()`! All of them must be declared upfront in `__init__`. \n",
        "\n",
        "After you define your Module subclass, you can instantiate it as an object and call it just like the NN forward function in part II.\n",
        "\n",
        "### Module API: Two-Layer Network\n",
        "Here is a concrete example of a 2-layer fully connected network.\n",
        "We use `nn.init.kaiming_normal_` to initialize weights using Kaiming initialization, and `nn.init.kaiming_zeros_` to initialize biases."
      ]
    },
    {
      "cell_type": "code",
      "metadata": {
        "id": "2Ue0_Cf1IMBJ",
        "outputId": "86a34869-f07c-4414-a823-0b846c162946",
        "colab": {
          "base_uri": "https://localhost:8080/",
          "height": 119
        }
      },
      "source": [
        "class TwoLayerFC(nn.Module):\n",
        "  def __init__(self, input_size, hidden_size, num_classes):\n",
        "    super().__init__()\n",
        "    # assign layer objects to class attributes\n",
        "    self.fc1 = nn.Linear(input_size, hidden_size)\n",
        "    self.fc2 = nn.Linear(hidden_size, num_classes)\n",
        "    # nn.init package contains convenient initialization methods\n",
        "    # https://pytorch.org/docs/stable/nn.init.html#torch.nn.init.kaiming_normal_ \n",
        "    nn.init.kaiming_normal_(self.fc1.weight)\n",
        "    nn.init.kaiming_normal_(self.fc2.weight)\n",
        "    nn.init.zeros_(self.fc1.bias)\n",
        "    nn.init.zeros_(self.fc2.bias)\n",
        "  \n",
        "  def forward(self, x):\n",
        "    # forward always defines connectivity\n",
        "    x = flatten(x)\n",
        "    scores = self.fc2(F.relu(self.fc1(x)))\n",
        "    return scores\n",
        "\n",
        "def test_TwoLayerFC():\n",
        "  input_size = 3*16*16\n",
        "  x = torch.zeros((64, input_size), dtype=dtype)  # minibatch size 64, feature dimension 3*16*16\n",
        "  model = TwoLayerFC(input_size, 42, 10)\n",
        "  scores = model(x)\n",
        "  print('Architecture:')\n",
        "  print(model) # printing `nn.Module` shows the architecture of the module.\n",
        "  print('Output size:', list(scores.size()))  # you should see [64, 10]\n",
        "test_TwoLayerFC()"
      ],
      "execution_count": 15,
      "outputs": [
        {
          "output_type": "stream",
          "text": [
            "Architecture:\n",
            "TwoLayerFC(\n",
            "  (fc1): Linear(in_features=768, out_features=42, bias=True)\n",
            "  (fc2): Linear(in_features=42, out_features=10, bias=True)\n",
            ")\n",
            "Output size: [64, 10]\n"
          ],
          "name": "stdout"
        }
      ]
    },
    {
      "cell_type": "markdown",
      "metadata": {
        "id": "CruYc2HJIMBP"
      },
      "source": [
        "### Module API: Three-Layer ConvNet\n",
        "It's your turn to implement a 3-layer ConvNet followed by a fully connected layer. The network architecture should be the same as in Part II:\n",
        "\n",
        "1. Convolutional layer with `channel_1` 5x5 filters with zero-padding of 2\n",
        "2. ReLU\n",
        "3. Convolutional layer with `channel_2` 3x3 filters with zero-padding of 1\n",
        "4. ReLU\n",
        "5. Fully-connected layer to `num_classes` classes\n",
        "\n",
        "We assume that the size of the input of this network is `H = W = 32`, and there is no pooing; this information is required when computing the number of input channels in the last fully-connected layer.\n",
        "You should initialize the weight matrices of the model using Kaiming normal initialization, and zero out the bias vectors.\n",
        "\n",
        "**HINT**: [torch.nn.Conv2d](https://pytorch.org/docs/stable/nn.html#conv2d), [torch.nn.init.kaiming_normal_](https://pytorch.org/docs/stable/nn.init.html#torch.nn.init.kaiming_normal_), [torch.nn.init.zeros_](https://pytorch.org/docs/stable/nn.init.html#torch.nn.init.zeros_)\n",
        "\n",
        "After you implement the three-layer ConvNet, the `test_ThreeLayerConvNet` function will run your implementation; it should print `(64, 10)` for the shape of the output scores."
      ]
    },
    {
      "cell_type": "code",
      "metadata": {
        "id": "R58EqBTYIMBU",
        "outputId": "6c5c2c0f-9c57-4c2b-e862-fb98ebe09904",
        "colab": {
          "base_uri": "https://localhost:8080/",
          "height": 119
        }
      },
      "source": [
        "class ThreeLayerConvNet(nn.Module):\n",
        "  def __init__(self, in_channel, channel_1, channel_2, num_classes):\n",
        "    super().__init__()\n",
        "    ########################################################################\n",
        "    # TODO: Set up the layers you need for a three-layer ConvNet with the  #\n",
        "    # architecture defined above.                                          #\n",
        "    ########################################################################\n",
        "    # Replace \"pass\" statement with your code\n",
        "    \n",
        "    self.conv_1 = nn.Conv2d(in_channel, channel_1, (5,5), padding=2)\n",
        "    nn.init.kaiming_normal_(self.conv_1.weight)\n",
        "    nn.init.zeros_(self.conv_1.bias)\n",
        "\n",
        "\n",
        "    self.conv_2 = nn.Conv2d(channel_1, channel_2, (3,3), padding=1)\n",
        "    nn.init.kaiming_normal_(self.conv_2.weight)\n",
        "    nn.init.zeros_(self.conv_2.bias)\n",
        "\n",
        "\n",
        "\n",
        "    self.fc = nn.Linear(channel_2*32*32, num_classes)\n",
        "    nn.init.kaiming_normal_(self.fc.weight)\n",
        "    nn.init.zeros_(self.fc.bias)\n",
        "\n",
        "\n",
        "\n",
        "    ########################################################################\n",
        "    #                           END OF YOUR CODE                           #     \n",
        "    ########################################################################\n",
        "\n",
        "  def forward(self, x):\n",
        "    scores = None\n",
        "    ########################################################################\n",
        "    # TODO: Implement the forward function for a 3-layer ConvNet. you      #\n",
        "    # should use the layers you defined in __init__ and specify the        #\n",
        "    # connectivity of those layers in forward()                            #\n",
        "    ########################################################################\n",
        "    # Replace \"pass\" statement with your code\n",
        "    \n",
        "    relu1 = F.relu(self.conv_1(x))\n",
        "    relu2 = F.relu(self.conv_2(relu1))\n",
        "    scores = self.fc(flatten(relu2))\n",
        "\n",
        "\n",
        "    ########################################################################\n",
        "    #                            END OF YOUR CODE                          #\n",
        "    ########################################################################\n",
        "    return scores\n",
        "\n",
        "\n",
        "def test_ThreeLayerConvNet():\n",
        "  x = torch.zeros((64, 3, 32, 32), dtype=dtype)  # minibatch size 64, image size [3, 32, 32]\n",
        "  model = ThreeLayerConvNet(in_channel=3, channel_1=12, channel_2=8, num_classes=10)\n",
        "  scores = model(x)\n",
        "  print(model) # printing `nn.Module` shows the architecture of the module.\n",
        "  print('Output size:', list(scores.size()))  # you should see [64, 10]\n",
        "test_ThreeLayerConvNet()"
      ],
      "execution_count": 16,
      "outputs": [
        {
          "output_type": "stream",
          "text": [
            "ThreeLayerConvNet(\n",
            "  (conv_1): Conv2d(3, 12, kernel_size=(5, 5), stride=(1, 1), padding=(2, 2))\n",
            "  (conv_2): Conv2d(12, 8, kernel_size=(3, 3), stride=(1, 1), padding=(1, 1))\n",
            "  (fc): Linear(in_features=8192, out_features=10, bias=True)\n",
            ")\n",
            "Output size: [64, 10]\n"
          ],
          "name": "stdout"
        }
      ]
    },
    {
      "cell_type": "markdown",
      "metadata": {
        "id": "3efFpwV_IMBZ"
      },
      "source": [
        "### Module API: Check Accuracy\n",
        "Given the validation or test set, we can check the classification accuracy of a neural network. \n",
        "\n",
        "This version is slightly different from the one in part II. You don't manually pass in the parameters anymore."
      ]
    },
    {
      "cell_type": "code",
      "metadata": {
        "id": "LpgKJLVbIMBb"
      },
      "source": [
        "def check_accuracy_part34(loader, model):\n",
        "  if loader.dataset.train:\n",
        "    print('Checking accuracy on validation set')\n",
        "  else:\n",
        "    print('Checking accuracy on test set')   \n",
        "  num_correct = 0\n",
        "  num_samples = 0\n",
        "  model.eval()  # set model to evaluation mode\n",
        "  with torch.no_grad():\n",
        "    for x, y in loader:\n",
        "      x = x.to(device=device, dtype=dtype)  # move to device, e.g. GPU\n",
        "      y = y.to(device=device, dtype=ltype)\n",
        "      scores = model(x)\n",
        "      _, preds = scores.max(1)\n",
        "      num_correct += (preds == y).sum()\n",
        "      num_samples += preds.size(0)\n",
        "    acc = float(num_correct) / num_samples\n",
        "    print('Got %d / %d correct (%.2f)' % (num_correct, num_samples, 100 * acc))\n",
        "  return acc"
      ],
      "execution_count": 17,
      "outputs": []
    },
    {
      "cell_type": "markdown",
      "metadata": {
        "id": "-tmOMi8SIMBj"
      },
      "source": [
        "### Module API: Training Loop\n",
        "We also use a slightly different training loop. Rather than updating the values of the weights ourselves, we use an Optimizer object from the `torch.optim` package, which abstract the notion of an optimization algorithm and provides implementations of most of the algorithms commonly used to optimize neural networks."
      ]
    },
    {
      "cell_type": "code",
      "metadata": {
        "id": "HLJjvtu1IMBm"
      },
      "source": [
        "def adjust_learning_rate(optimizer, lrd, epoch, schedule):\n",
        "  \"\"\"\n",
        "  Multiply lrd to the learning rate if epoch is in schedule\n",
        "  \n",
        "  Inputs:\n",
        "  - optimizer: An Optimizer object we will use to train the model\n",
        "  - lrd: learning rate decay; a factor multiplied at scheduled epochs\n",
        "  - epochs: the current epoch number\n",
        "  - schedule: the list of epochs that requires learning rate update\n",
        "  \n",
        "  Returns: Nothing, but learning rate might be updated\n",
        "  \"\"\"\n",
        "  if epoch in schedule:\n",
        "    for param_group in optimizer.param_groups:\n",
        "      print('lr decay from {} to {}'.format(param_group['lr'], param_group['lr'] * lrd))\n",
        "      param_group['lr'] *= lrd\n",
        "\n",
        "def train_part345(model, optimizer, epochs=1, learning_rate_decay=.1, schedule=[], verbose=True):\n",
        "  \"\"\"\n",
        "  Train a model on CIFAR-10 using the PyTorch Module API.\n",
        "  \n",
        "  Inputs:\n",
        "  - model: A PyTorch Module giving the model to train.\n",
        "  - optimizer: An Optimizer object we will use to train the model\n",
        "  - epochs: (Optional) A Python integer giving the number of epochs to train for\n",
        "  \n",
        "  Returns: Nothing, but prints model accuracies during training.\n",
        "  \"\"\"\n",
        "  model = model.to(device=device)  # move the model parameters to CPU/GPU\n",
        "  num_iters = epochs * len(loader_train)\n",
        "  if verbose:\n",
        "    num_prints = num_iters // print_every + 1\n",
        "  else:\n",
        "    num_prints = epochs\n",
        "  acc_history = torch.zeros(num_prints, dtype=torch.float)\n",
        "  iter_history = torch.zeros(num_prints, dtype=torch.long)\n",
        "  for e in range(epochs):\n",
        "    \n",
        "    adjust_learning_rate(optimizer, learning_rate_decay, e, schedule)\n",
        "    \n",
        "    for t, (x, y) in enumerate(loader_train):\n",
        "      model.train()  # put model to training mode\n",
        "      x = x.to(device=device, dtype=dtype)  # move to device, e.g. GPU\n",
        "      y = y.to(device=device, dtype=ltype)\n",
        "\n",
        "      scores = model(x)\n",
        "      loss = F.cross_entropy(scores, y)\n",
        "\n",
        "      # Zero out all of the gradients for the variables which the optimizer\n",
        "      # will update.\n",
        "      optimizer.zero_grad()\n",
        "\n",
        "      # This is the backwards pass: compute the gradient of the loss with\n",
        "      # respect to each  parameter of the model.\n",
        "      loss.backward()\n",
        "\n",
        "      # Actually update the parameters of the model using the gradients\n",
        "      # computed by the backwards pass.\n",
        "      optimizer.step()\n",
        "\n",
        "      tt = t + e * len(loader_train)\n",
        "\n",
        "      if verbose and (tt % print_every == 0 or (e == epochs-1 and t == len(loader_train)-1)):\n",
        "        print('Epoch %d, Iteration %d, loss = %.4f' % (e, tt, loss.item()))\n",
        "        acc = check_accuracy_part34(loader_val, model)\n",
        "        acc_history[tt // print_every] = acc\n",
        "        iter_history[tt // print_every] = tt\n",
        "        print()\n",
        "      elif not verbose and (t == len(loader_train)-1):\n",
        "        print('Epoch %d, Iteration %d, loss = %.4f' % (e, tt, loss.item()))\n",
        "        acc = check_accuracy_part34(loader_val, model)\n",
        "        acc_history[e] = acc\n",
        "        iter_history[e] = tt\n",
        "        print()\n",
        "  return acc_history, iter_history"
      ],
      "execution_count": 18,
      "outputs": []
    },
    {
      "cell_type": "markdown",
      "metadata": {
        "id": "uFQs2WWKIMBu"
      },
      "source": [
        "### Module API: Train a Two-Layer Network\n",
        "Now we are ready to run the training loop. In contrast to part II, we don't explicitly allocate parameter tensors anymore.\n",
        "\n",
        "Simply pass the input size, hidden layer size, and number of classes (i.e. output size) to the constructor of `TwoLayerFC`. \n",
        "\n",
        "You also need to define an optimizer that tracks all the learnable parameters inside `TwoLayerFC`.\n",
        "\n",
        "You don't need to tune any hyperparameters, but you should see model accuracies above 40% after training for one epoch."
      ]
    },
    {
      "cell_type": "code",
      "metadata": {
        "id": "v4Od-a6_IMBv",
        "outputId": "68c6f767-a6a0-4a73-b1c4-08c13f6f88a1",
        "colab": {
          "base_uri": "https://localhost:8080/",
          "height": 629
        }
      },
      "source": [
        "fix_random_seed(0)\n",
        "\n",
        "C, H, W = 3, 32, 32\n",
        "num_classes = 10\n",
        "\n",
        "hidden_layer_size = 4000\n",
        "learning_rate = 1e-2\n",
        "weight_decay = 1e-4\n",
        "\n",
        "model = TwoLayerFC(C*H*W, hidden_layer_size, num_classes)\n",
        "\n",
        "optimizer = optim.SGD(model.parameters(), lr=learning_rate,\n",
        "                      weight_decay=weight_decay)\n",
        "\n",
        "_ = train_part345(model, optimizer)"
      ],
      "execution_count": 19,
      "outputs": [
        {
          "output_type": "stream",
          "text": [
            "Epoch 0, Iteration 0, loss = 2.4992\n",
            "Checking accuracy on validation set\n",
            "Got 117 / 1000 correct (11.70)\n",
            "\n",
            "Epoch 0, Iteration 100, loss = 1.8428\n",
            "Checking accuracy on validation set\n",
            "Got 371 / 1000 correct (37.10)\n",
            "\n",
            "Epoch 0, Iteration 200, loss = 1.7653\n",
            "Checking accuracy on validation set\n",
            "Got 406 / 1000 correct (40.60)\n",
            "\n",
            "Epoch 0, Iteration 300, loss = 1.7861\n",
            "Checking accuracy on validation set\n",
            "Got 416 / 1000 correct (41.60)\n",
            "\n",
            "Epoch 0, Iteration 400, loss = 1.7674\n",
            "Checking accuracy on validation set\n",
            "Got 434 / 1000 correct (43.40)\n",
            "\n",
            "Epoch 0, Iteration 500, loss = 1.6357\n",
            "Checking accuracy on validation set\n",
            "Got 432 / 1000 correct (43.20)\n",
            "\n",
            "Epoch 0, Iteration 600, loss = 1.6868\n",
            "Checking accuracy on validation set\n",
            "Got 442 / 1000 correct (44.20)\n",
            "\n",
            "Epoch 0, Iteration 700, loss = 1.6795\n",
            "Checking accuracy on validation set\n",
            "Got 453 / 1000 correct (45.30)\n",
            "\n",
            "Epoch 0, Iteration 765, loss = 1.6214\n",
            "Checking accuracy on validation set\n",
            "Got 446 / 1000 correct (44.60)\n",
            "\n"
          ],
          "name": "stdout"
        }
      ]
    },
    {
      "cell_type": "markdown",
      "metadata": {
        "id": "J_35SZYHIMB4"
      },
      "source": [
        "### Module API: Train a Three-Layer ConvNet\n",
        "You should now use the Module API to train a three-layer ConvNet on CIFAR. This should look very similar to training the two-layer network! You don't need to tune any hyperparameters, but you should achieve above above 45% after training for one epoch.\n",
        "\n",
        "You should train the model using stochastic gradient descent without momentum, with L2 weight decay of 1e-4."
      ]
    },
    {
      "cell_type": "code",
      "metadata": {
        "id": "-bIRiwOJIMB6",
        "outputId": "390817ca-3171-499a-f3a4-3ddf0d9f6d30",
        "colab": {
          "base_uri": "https://localhost:8080/",
          "height": 629
        }
      },
      "source": [
        "fix_random_seed(0)\n",
        "\n",
        "C = 3\n",
        "num_classes = 10\n",
        "\n",
        "channel_1 = 32\n",
        "channel_2 = 16\n",
        "\n",
        "learning_rate = 3e-3\n",
        "weight_decay = 1e-4\n",
        "\n",
        "model = None\n",
        "optimizer = None\n",
        "################################################################################\n",
        "# TODO: Instantiate your ThreeLayerConvNet model and a corresponding optimizer.#\n",
        "################################################################################\n",
        "# Replace \"pass\" statement with your code\n",
        "model = ThreeLayerConvNet(3, channel_1, channel_2, 10)\n",
        "optimizer = optim.SGD(model.parameters(), lr=learning_rate)\n",
        "\n",
        "\n",
        "################################################################################\n",
        "#                                 END OF YOUR CODE                             \n",
        "################################################################################\n",
        "\n",
        "_ = train_part345(model, optimizer)"
      ],
      "execution_count": 20,
      "outputs": [
        {
          "output_type": "stream",
          "text": [
            "Epoch 0, Iteration 0, loss = 2.4762\n",
            "Checking accuracy on validation set\n",
            "Got 115 / 1000 correct (11.50)\n",
            "\n",
            "Epoch 0, Iteration 100, loss = 1.9676\n",
            "Checking accuracy on validation set\n",
            "Got 315 / 1000 correct (31.50)\n",
            "\n",
            "Epoch 0, Iteration 200, loss = 1.8069\n",
            "Checking accuracy on validation set\n",
            "Got 354 / 1000 correct (35.40)\n",
            "\n",
            "Epoch 0, Iteration 300, loss = 1.7578\n",
            "Checking accuracy on validation set\n",
            "Got 397 / 1000 correct (39.70)\n",
            "\n",
            "Epoch 0, Iteration 400, loss = 1.5157\n",
            "Checking accuracy on validation set\n",
            "Got 387 / 1000 correct (38.70)\n",
            "\n",
            "Epoch 0, Iteration 500, loss = 1.6749\n",
            "Checking accuracy on validation set\n",
            "Got 421 / 1000 correct (42.10)\n",
            "\n",
            "Epoch 0, Iteration 600, loss = 1.4207\n",
            "Checking accuracy on validation set\n",
            "Got 422 / 1000 correct (42.20)\n",
            "\n",
            "Epoch 0, Iteration 700, loss = 1.6752\n",
            "Checking accuracy on validation set\n",
            "Got 425 / 1000 correct (42.50)\n",
            "\n",
            "Epoch 0, Iteration 765, loss = 1.6903\n",
            "Checking accuracy on validation set\n",
            "Got 434 / 1000 correct (43.40)\n",
            "\n"
          ],
          "name": "stdout"
        }
      ]
    },
    {
      "cell_type": "markdown",
      "metadata": {
        "id": "qeTdi4-xIMB_"
      },
      "source": [
        "# Part IV. PyTorch Sequential API\n",
        "\n",
        "Part III introduced the PyTorch Module API, which allows you to define arbitrary learnable layers and their connectivity. \n",
        "\n",
        "For simple models like a stack of feed forward layers, you still need to go through 3 steps: subclass `nn.Module`, assign layers to class attributes in `__init__`, and call each layer one by one in `forward()`. Is there a more convenient way? \n",
        "\n",
        "Fortunately, PyTorch provides a container Module called `nn.Sequential`, which merges the above steps into one. It is not as flexible as `nn.Module`, because you cannot specify more complex topology than a feed-forward stack, but it's good enough for many use cases.\n",
        "\n",
        "Before we start, We need to wrap `flatten` function in a module in order to stack it in `nn.Sequential`.\n",
        "As of 1.3.0, PyTorch supports `nn.Flatten`, so this is not required in the latest version.\n",
        "However, let's use the following `Flatten` class for backward compatibility for now."
      ]
    },
    {
      "cell_type": "code",
      "metadata": {
        "id": "eoBUeHDDeM1j"
      },
      "source": [
        "class Flatten(nn.Module):\n",
        "  def forward(self, x):\n",
        "    return flatten(x)"
      ],
      "execution_count": 21,
      "outputs": []
    },
    {
      "cell_type": "markdown",
      "metadata": {
        "id": "ZZq-3hjxeYr4"
      },
      "source": [
        "### Sequential API: Two-Layer Network\n",
        "Let's see how to rewrite our two-layer fully connected network example with `nn.Sequential`, and train it using the training loop defined above.\n",
        "Here, let's skip weight initialization for simplicity;\n",
        "with a more advanced optimizer than the naive SGD, the default initialization provided in `torch.nn` is good enough for shallow networks.\n",
        "\n",
        "Again, you don't need to tune any hyperparameters here, but you should achieve above 40% accuracy after one epoch of training."
      ]
    },
    {
      "cell_type": "code",
      "metadata": {
        "id": "9smkhciWIMCC",
        "outputId": "ee7dc0c1-e332-497a-8fae-61747b99b6b5",
        "colab": {
          "base_uri": "https://localhost:8080/",
          "height": 748
        }
      },
      "source": [
        "fix_random_seed(0)\n",
        "\n",
        "C, H, W = 3, 32, 32\n",
        "num_classes = 10\n",
        "\n",
        "hidden_layer_size = 4000\n",
        "learning_rate = 1e-2\n",
        "momentum = 0.5\n",
        "\n",
        "# To give a specific name to each module, use OrderedDict.\n",
        "model = nn.Sequential(OrderedDict([\n",
        "  ('flatten', Flatten()),\n",
        "  ('fc1', nn.Linear(C*H*W, hidden_layer_size)),\n",
        "  ('relu1', nn.ReLU()),\n",
        "  ('fc2', nn.Linear(hidden_layer_size, num_classes)),\n",
        "]))\n",
        "\n",
        "print('Architecture:')\n",
        "print(model) # printing `nn.Module` shows the architecture of the module.\n",
        "\n",
        "# you can use Nesterov momentum in optim.SGD\n",
        "optimizer = optim.SGD(model.parameters(), lr=learning_rate, \n",
        "                      weight_decay=weight_decay,\n",
        "                      momentum=momentum, nesterov=True)\n",
        "\n",
        "_ = train_part345(model, optimizer)"
      ],
      "execution_count": 22,
      "outputs": [
        {
          "output_type": "stream",
          "text": [
            "Architecture:\n",
            "Sequential(\n",
            "  (flatten): Flatten()\n",
            "  (fc1): Linear(in_features=3072, out_features=4000, bias=True)\n",
            "  (relu1): ReLU()\n",
            "  (fc2): Linear(in_features=4000, out_features=10, bias=True)\n",
            ")\n",
            "Epoch 0, Iteration 0, loss = 2.3223\n",
            "Checking accuracy on validation set\n",
            "Got 118 / 1000 correct (11.80)\n",
            "\n",
            "Epoch 0, Iteration 100, loss = 1.8905\n",
            "Checking accuracy on validation set\n",
            "Got 360 / 1000 correct (36.00)\n",
            "\n",
            "Epoch 0, Iteration 200, loss = 1.8279\n",
            "Checking accuracy on validation set\n",
            "Got 394 / 1000 correct (39.40)\n",
            "\n",
            "Epoch 0, Iteration 300, loss = 1.7356\n",
            "Checking accuracy on validation set\n",
            "Got 418 / 1000 correct (41.80)\n",
            "\n",
            "Epoch 0, Iteration 400, loss = 1.6520\n",
            "Checking accuracy on validation set\n",
            "Got 412 / 1000 correct (41.20)\n",
            "\n",
            "Epoch 0, Iteration 500, loss = 1.6080\n",
            "Checking accuracy on validation set\n",
            "Got 429 / 1000 correct (42.90)\n",
            "\n",
            "Epoch 0, Iteration 600, loss = 1.6194\n",
            "Checking accuracy on validation set\n",
            "Got 431 / 1000 correct (43.10)\n",
            "\n",
            "Epoch 0, Iteration 700, loss = 1.6369\n",
            "Checking accuracy on validation set\n",
            "Got 453 / 1000 correct (45.30)\n",
            "\n",
            "Epoch 0, Iteration 765, loss = 1.5274\n",
            "Checking accuracy on validation set\n",
            "Got 457 / 1000 correct (45.70)\n",
            "\n"
          ],
          "name": "stdout"
        }
      ]
    },
    {
      "cell_type": "markdown",
      "metadata": {
        "id": "5YMYfFUGIMCH"
      },
      "source": [
        "### Sequential API: Three-Layer ConvNet\n",
        "Here you should use `nn.Sequential` to define and train a three-layer ConvNet with the same architecture we used in Part III:\n",
        "\n",
        "1. Convolutional layer (with bias) with 32 5x5 filters, with zero-padding of 2\n",
        "2. ReLU\n",
        "3. Convolutional layer (with bias) with 16 3x3 filters, with zero-padding of 1\n",
        "4. ReLU\n",
        "5. Fully-connected layer (with bias) to compute scores for 10 classes\n",
        "\n",
        "You don't have to re-initialize your weight matrices and bias vectors.\n",
        "\n",
        "You should optimize your model using stochastic gradient descent with Nesterov momentum 0.5, with L2 weight decay of 1e-4..\n",
        "\n",
        "Again, you don't need to tune any hyperparameters but you should see accuracy above 50% after one epoch of training."
      ]
    },
    {
      "cell_type": "code",
      "metadata": {
        "id": "Q2To2-mtIMCJ",
        "outputId": "b8d43bcd-8b32-4d19-a7e1-122369dc2fcc",
        "colab": {
          "base_uri": "https://localhost:8080/",
          "height": 782
        }
      },
      "source": [
        "fix_random_seed(0)\n",
        "\n",
        "C, H, W = 3, 32, 32\n",
        "num_classes = 10\n",
        "\n",
        "channel_1 = 32\n",
        "channel_2 = 16\n",
        "kernel_size_1 = 5\n",
        "pad_size_1 = 2\n",
        "kernel_size_2 = 3\n",
        "pad_size_2 = 1\n",
        "\n",
        "learning_rate = 1e-2\n",
        "momentum = 0.5\n",
        "\n",
        "model = None\n",
        "optimizer = None\n",
        "################################################################################\n",
        "# TODO: Rewrite the 3-layer ConvNet with bias from Part III with the           #\n",
        "# Sequential API.                                                              #\n",
        "################################################################################\n",
        "# Replace \"pass\" statement with your code\n",
        "\n",
        "model = nn.Sequential(\n",
        "    nn.Conv2d(3,channel_1,5, padding=2),\n",
        "    nn.ReLU(),\n",
        "    nn.Conv2d(channel_1,channel_2,3, padding=1),\n",
        "    nn.ReLU(),\n",
        "    Flatten(),\n",
        "    nn.Linear(channel_2*32*32,10)\n",
        "    \n",
        ")\n",
        "\n",
        "optimizer = optim.SGD(model.parameters(), lr=learning_rate, \n",
        "                      momentum=momentum, nesterov=True)\n",
        "\n",
        "################################################################################\n",
        "#                                 END OF YOUR CODE                             #\n",
        "################################################################################\n",
        "\n",
        "print('Architecture:')\n",
        "print(model) # printing `nn.Module` shows the architecture of the module.\n",
        "_ = train_part345(model, optimizer)"
      ],
      "execution_count": 23,
      "outputs": [
        {
          "output_type": "stream",
          "text": [
            "Architecture:\n",
            "Sequential(\n",
            "  (0): Conv2d(3, 32, kernel_size=(5, 5), stride=(1, 1), padding=(2, 2))\n",
            "  (1): ReLU()\n",
            "  (2): Conv2d(32, 16, kernel_size=(3, 3), stride=(1, 1), padding=(1, 1))\n",
            "  (3): ReLU()\n",
            "  (4): Flatten()\n",
            "  (5): Linear(in_features=16384, out_features=10, bias=True)\n",
            ")\n",
            "Epoch 0, Iteration 0, loss = 2.2974\n",
            "Checking accuracy on validation set\n",
            "Got 109 / 1000 correct (10.90)\n",
            "\n",
            "Epoch 0, Iteration 100, loss = 1.8564\n",
            "Checking accuracy on validation set\n",
            "Got 354 / 1000 correct (35.40)\n",
            "\n",
            "Epoch 0, Iteration 200, loss = 1.6308\n",
            "Checking accuracy on validation set\n",
            "Got 432 / 1000 correct (43.20)\n",
            "\n",
            "Epoch 0, Iteration 300, loss = 1.8914\n",
            "Checking accuracy on validation set\n",
            "Got 457 / 1000 correct (45.70)\n",
            "\n",
            "Epoch 0, Iteration 400, loss = 1.6073\n",
            "Checking accuracy on validation set\n",
            "Got 467 / 1000 correct (46.70)\n",
            "\n",
            "Epoch 0, Iteration 500, loss = 1.5210\n",
            "Checking accuracy on validation set\n",
            "Got 496 / 1000 correct (49.60)\n",
            "\n",
            "Epoch 0, Iteration 600, loss = 1.6322\n",
            "Checking accuracy on validation set\n",
            "Got 500 / 1000 correct (50.00)\n",
            "\n",
            "Epoch 0, Iteration 700, loss = 1.3807\n",
            "Checking accuracy on validation set\n",
            "Got 510 / 1000 correct (51.00)\n",
            "\n",
            "Epoch 0, Iteration 765, loss = 1.3652\n",
            "Checking accuracy on validation set\n",
            "Got 514 / 1000 correct (51.40)\n",
            "\n"
          ],
          "name": "stdout"
        }
      ]
    },
    {
      "cell_type": "markdown",
      "metadata": {
        "id": "CM6FuhGPIMCO"
      },
      "source": [
        "# Part V. ResNet for CIFAR-10\n",
        "\n",
        "In this section, you are going to implement [ResNet](https://arxiv.org/abs/1512.03385), one of the state-of-the-art CNN architecture.\n",
        "Specifically, you are going to implement a variation of ResNet called [PreResNet](https://arxiv.org/abs/1603.05027), which locates activation before each convolutional layer (so called pre-activation). Be sure to read the papers as you will have to answer questions at the end of the report.\n",
        "You are going to first implement a plain building block, residual block, and then bottleneck block for really deep networks.\n",
        "Finally, you will implement your own ResNet using those blocks.\n",
        "\n",
        "**Papers**\n",
        "\n",
        "1.   Kaiming He and Xiangyu Zhang and Shaoqing Ren and Jian Sun, \"Deep Residual Learning for Image Recognition\", arXiv:1512.03385, 2015.\n",
        "2.   Kaiming He and Xiangyu Zhang and Shaoqing Ren and Jian Sun, \"Identity Mappings in Deep Residual Networks,\" arXiv:1603.05027, 2016.\n",
        "\n",
        "Throughout this part, we will follow the PyTorch default weight initialization for conciseness."
      ]
    },
    {
      "cell_type": "markdown",
      "metadata": {
        "id": "f8pgYlKN9NLH"
      },
      "source": [
        "## Plain block\n",
        "\n",
        "First, let's implement a plain block without residual connection.\n",
        "PreResNet has a different order of layers from the previously implemented ones;\n",
        "BatchNorm and ReLU precedes Conv.\n",
        "The name of PreResNet comes form this pre-activation architecture.\n",
        "Here, for downsampling, we don't introduce MaxPool layers explicitly, but use stride 2 in the first Conv layer in the block.\n",
        "\n",
        "Concretely, a plain block accepts a feature map of shape $C_{in} \\times H_{in} \\times W_{out}$ and produces a feature map of shape $C_{out} \\times H_{out} \\times W_{out}$. If the block performs downsampling, then $W_{out}=W_{in}/2$ and $H_{out}=H_{in}/2$; otherwise $H_{out}=H_{in}$ and $W_{out}=W_{in}$. The plain block consists of the following six layers in order:\n",
        "\n",
        "1. Spatial Batch normalization\n",
        "2. ReLU\n",
        "3. Convolutional layer with `Cout` 3x3 filters, zero-padding of 1, and stride 2 if downsampling; otherwise stride 1\n",
        "4. Spatial Batch normalization\n",
        "5. ReLU\n",
        "6. Convolutional layer with `Cout` 3x3 filters, with zero-padding of 1\n"
      ]
    },
    {
      "cell_type": "code",
      "metadata": {
        "id": "-c4QBBj5-A3R"
      },
      "source": [
        "class PlainBlock(nn.Module):\n",
        "  def __init__(self, Cin, Cout, downsample=False):\n",
        "    super().__init__()\n",
        "\n",
        "    self.net = None\n",
        "    ############################################################################\n",
        "    # TODO: Implement plain block.                                             #\n",
        "    # Hint: Wrap your layers by nn.Sequential() to output a single module.     #\n",
        "    #       You don't have use OrderedDict.                                    #\n",
        "    # Inputs:                                                                  #\n",
        "    # - Cin: number of input channels                                          #\n",
        "    # - Cout: number of output channels                                        #\n",
        "    # - downsample: add downsampling (a conv with stride=2) if True            #\n",
        "    # Store the result in self.net.                                            #\n",
        "    ############################################################################\n",
        "    # Replace \"pass\" statement with your code\n",
        "    \n",
        "    step_3 = None\n",
        "    if (downsample==True):\n",
        "      step_3 = nn.Conv2d(Cin, Cout, (3,3), stride=2, padding=1)\n",
        "    else:\n",
        "      step_3 = nn.Conv2d(Cin, Cout, (3,3), stride=1, padding=1)\n",
        "\n",
        "    self.net = nn.Sequential(\n",
        "        nn.BatchNorm2d(Cin, track_running_stats=False),\n",
        "        nn.ReLU(),\n",
        "        step_3,\n",
        "        nn.BatchNorm2d(Cout),\n",
        "        nn.ReLU(),\n",
        "        nn.Conv2d(Cout, Cout, (3,3), padding=1)\n",
        "    )\n",
        "    \n",
        "    ############################################################################\n",
        "    #                                 END OF YOUR CODE                         #\n",
        "    ############################################################################\n",
        "\n",
        "  def forward(self, x):\n",
        "    return self.net(x)"
      ],
      "execution_count": 24,
      "outputs": []
    },
    {
      "cell_type": "code",
      "metadata": {
        "id": "SofEF-vyAekS",
        "outputId": "c6d55975-c5ab-4cae-ceb3-b76c7039ff6f",
        "colab": {
          "base_uri": "https://localhost:8080/",
          "height": 51
        }
      },
      "source": [
        "data = torch.zeros(2, 3, 5, 6)\n",
        "model = PlainBlock(3, 10)\n",
        "if list(model(data).shape) == [2, 10, 5, 6]:\n",
        "  print('The output of PlainBlock without downsampling has a *correct* dimension!')\n",
        "else:\n",
        "  print('The output of PlainBlock without downsampling has an *incorrect* dimension! expected:', [2, 10, 5, 6], 'got:', list(model(data).shape))\n",
        "\n",
        "data = torch.zeros(2, 3, 5, 6)\n",
        "model = PlainBlock(3, 10, downsample=True)\n",
        "if list(model(data).shape) == [2, 10, 3, 3]:\n",
        "  print('The output of PlainBlock with downsampling has a *correct* dimension!')\n",
        "else:\n",
        "  print('The output of PlainBlock with downsampling has an *incorrect* dimension! expected:', [2, 10, 3, 3], 'got:', list(model(data).shape))"
      ],
      "execution_count": 25,
      "outputs": [
        {
          "output_type": "stream",
          "text": [
            "The output of PlainBlock without downsampling has a *correct* dimension!\n",
            "The output of PlainBlock with downsampling has a *correct* dimension!\n"
          ],
          "name": "stdout"
        }
      ]
    },
    {
      "cell_type": "markdown",
      "metadata": {
        "id": "ASV5NdNADo3F"
      },
      "source": [
        "## Residual block\n",
        "\n",
        "Next, let's implement a residual block.\n",
        "A residual block adds a residual connection to a plain block. Let $\\mathcal{F}$ be a plain block; then the residual version  $\\mathcal{R}$ of the plain block $\\mathcal{F}$ computes:\n",
        "\n",
        "$\\mathcal{R}(x) = \\mathcal{F}(x) + x$\n",
        "\n",
        "However, this implementation will only work if the output from the plain block $\\mathcal{F}(x)$ has the same shape as the input $x$. Based on the plain block that we implemented above, there are two cases where the output of the plain block can have a different shape than the input:\n",
        "\n",
        "1. The number of output channels $C_{out}$ is different from the number of input channels $C_{in}$\n",
        "2. The plain block $\\mathcal{F}$ performs spatial downsampling\n",
        "\n",
        "To deal with these cases, we need generalize our definition of the residual block and add a *shortcut connection* $\\mathcal{G}$:\n",
        "\n",
        "$\\mathcal{R}(x) = \\mathcal{F}(x) + \\mathcal{G}(x)$\n",
        "\n",
        "There are three cases for the shortcut connection $\\mathcal{G}$:\n",
        "\n",
        "1. If $C_{in}=C_{out}$ and $\\mathcal{F}$ does not perform downsampling, then $\\mathcal{F}(x)$ will have the same shape as $x$, so $\\mathcal{G}$ is the identity function: $\\mathcal{G}(x) = x$\n",
        "2. If $C_{in} \\neq C_{out}$ and $\\mathcal{F}$ does not downsample, then $\\mathcal{G}$ is a 1x1 convolution with $C_out$ filters and stride 1.\n",
        "3. If $\\mathcal{F}$ downsamples, then $\\mathcal{G}$ is a 1x1 convolution with $C_{out}$ filters and stride 2.\n",
        "\n",
        "In the code below, implement a residual block using the plain block we just defined:"
      ]
    },
    {
      "cell_type": "code",
      "metadata": {
        "id": "jzqJCUx6Do3I"
      },
      "source": [
        "class ResidualBlock(nn.Module):\n",
        "  def __init__(self, Cin, Cout, downsample=False):\n",
        "    super().__init__()\n",
        "\n",
        "    self.block = None # F\n",
        "    self.shortcut = None # G\n",
        "    ############################################################################\n",
        "    # TODO: Implement residual block using plain block. Hint: nn.Identity()    #\n",
        "    # Inputs:                                                                  #\n",
        "    # - Cin: number of input channels                                          #\n",
        "    # - Cout: number of output channels                                        #\n",
        "    # - downsample: add downsampling (a conv with stride=2) if True            #\n",
        "    # Store the main block in self.block and the shortcut in self.shortcut.    #\n",
        "    ############################################################################\n",
        "    # Replace \"pass\" statement with your code\n",
        "    if downsample == True:\n",
        "      self.shortcut = nn.Conv2d(Cin, Cout, kernel_size=1, stride=2, bias=False)\n",
        "    else:\n",
        "      if Cin == Cout:\n",
        "        self.shortcut = nn.Identity()\n",
        "      else:\n",
        "        self.shortcut =nn.Conv2d(Cin, Cout, kernel_size=1, stride=1, bias=False)\n",
        "    \n",
        "    self.block = PlainBlock(Cin, Cout, downsample)\n",
        "\n",
        "    ############################################################################\n",
        "    #                                 END OF YOUR CODE                         #\n",
        "    ############################################################################\n",
        "  \n",
        "  def forward(self, x):\n",
        "    return self.block(x) + self.shortcut(x)"
      ],
      "execution_count": 26,
      "outputs": []
    },
    {
      "cell_type": "code",
      "metadata": {
        "id": "TMJ3-eI3Do3M",
        "outputId": "865bd9ac-fb53-40f2-cc1b-5a0f298fc824",
        "colab": {
          "base_uri": "https://localhost:8080/",
          "height": 51
        }
      },
      "source": [
        "data = torch.zeros(2, 3, 5, 6)\n",
        "model = ResidualBlock(3, 10)\n",
        "if list(model(data).shape) == [2, 10, 5, 6]:\n",
        "  print('The output of ResidualBlock without downsampling has a *correct* dimension!')\n",
        "else:\n",
        "  print('The output of ResidualBlock without downsampling has an *incorrect* dimension! expected:', [2, 10, 5, 6], 'got:', list(model(data).shape))\n",
        "\n",
        "data = torch.zeros(2, 3, 5, 6)\n",
        "model = ResidualBlock(3, 10, downsample=True)\n",
        "if list(model(data).shape) == [2, 10, 3, 3]:\n",
        "  print('The output of ResidualBlock with downsampling has a *correct* dimension!')\n",
        "else:\n",
        "  print('The output of ResidualBlock with downsampling has an *incorrect* dimension! expected:', [2, 10, 3, 3], 'got:', list(model(data).shape))"
      ],
      "execution_count": 27,
      "outputs": [
        {
          "output_type": "stream",
          "text": [
            "The output of ResidualBlock without downsampling has a *correct* dimension!\n",
            "The output of ResidualBlock with downsampling has a *correct* dimension!\n"
          ],
          "name": "stdout"
        }
      ]
    },
    {
      "cell_type": "markdown",
      "metadata": {
        "id": "wrEzQeTBvNso"
      },
      "source": [
        "## Residual stage\n",
        "\n",
        "So far, you implemented micro layers, which consists of several convolutional laters.\n",
        "To efficiently build a deep neural network, we define a macro layer by repeating the micro layers.\n",
        "\n",
        "For your convenience, we provide the implementation below."
      ]
    },
    {
      "cell_type": "code",
      "metadata": {
        "id": "NhgWE6qTvVW6"
      },
      "source": [
        "class ResNetStage(nn.Module):\n",
        "  def __init__(self, Cin, Cout, num_blocks, downsample=True,\n",
        "               block=ResidualBlock):\n",
        "    super().__init__()\n",
        "    blocks = [block(Cin, Cout, downsample)]\n",
        "    for _ in range(num_blocks - 1):\n",
        "      blocks.append(block(Cout, Cout))\n",
        "    self.net = nn.Sequential(*blocks)\n",
        "  \n",
        "  def forward(self, x):\n",
        "    return self.net(x)"
      ],
      "execution_count": 28,
      "outputs": []
    },
    {
      "cell_type": "code",
      "metadata": {
        "id": "I21i5J3AnbhM",
        "outputId": "fc627ece-2ca7-4d34-b3ee-423bbf9d14f4",
        "colab": {
          "base_uri": "https://localhost:8080/",
          "height": 969
        }
      },
      "source": [
        "print('Plain block stage:')\n",
        "print(ResNetStage(3, 4, 2, block=PlainBlock))\n",
        "print('Residual block stage:')\n",
        "print(ResNetStage(3, 4, 2, block=ResidualBlock))"
      ],
      "execution_count": 29,
      "outputs": [
        {
          "output_type": "stream",
          "text": [
            "Plain block stage:\n",
            "ResNetStage(\n",
            "  (net): Sequential(\n",
            "    (0): PlainBlock(\n",
            "      (net): Sequential(\n",
            "        (0): BatchNorm2d(3, eps=1e-05, momentum=0.1, affine=True, track_running_stats=False)\n",
            "        (1): ReLU()\n",
            "        (2): Conv2d(3, 4, kernel_size=(3, 3), stride=(2, 2), padding=(1, 1))\n",
            "        (3): BatchNorm2d(4, eps=1e-05, momentum=0.1, affine=True, track_running_stats=True)\n",
            "        (4): ReLU()\n",
            "        (5): Conv2d(4, 4, kernel_size=(3, 3), stride=(1, 1), padding=(1, 1))\n",
            "      )\n",
            "    )\n",
            "    (1): PlainBlock(\n",
            "      (net): Sequential(\n",
            "        (0): BatchNorm2d(4, eps=1e-05, momentum=0.1, affine=True, track_running_stats=False)\n",
            "        (1): ReLU()\n",
            "        (2): Conv2d(4, 4, kernel_size=(3, 3), stride=(1, 1), padding=(1, 1))\n",
            "        (3): BatchNorm2d(4, eps=1e-05, momentum=0.1, affine=True, track_running_stats=True)\n",
            "        (4): ReLU()\n",
            "        (5): Conv2d(4, 4, kernel_size=(3, 3), stride=(1, 1), padding=(1, 1))\n",
            "      )\n",
            "    )\n",
            "  )\n",
            ")\n",
            "Residual block stage:\n",
            "ResNetStage(\n",
            "  (net): Sequential(\n",
            "    (0): ResidualBlock(\n",
            "      (shortcut): Conv2d(3, 4, kernel_size=(1, 1), stride=(2, 2), bias=False)\n",
            "      (block): PlainBlock(\n",
            "        (net): Sequential(\n",
            "          (0): BatchNorm2d(3, eps=1e-05, momentum=0.1, affine=True, track_running_stats=False)\n",
            "          (1): ReLU()\n",
            "          (2): Conv2d(3, 4, kernel_size=(3, 3), stride=(2, 2), padding=(1, 1))\n",
            "          (3): BatchNorm2d(4, eps=1e-05, momentum=0.1, affine=True, track_running_stats=True)\n",
            "          (4): ReLU()\n",
            "          (5): Conv2d(4, 4, kernel_size=(3, 3), stride=(1, 1), padding=(1, 1))\n",
            "        )\n",
            "      )\n",
            "    )\n",
            "    (1): ResidualBlock(\n",
            "      (shortcut): Identity()\n",
            "      (block): PlainBlock(\n",
            "        (net): Sequential(\n",
            "          (0): BatchNorm2d(4, eps=1e-05, momentum=0.1, affine=True, track_running_stats=False)\n",
            "          (1): ReLU()\n",
            "          (2): Conv2d(4, 4, kernel_size=(3, 3), stride=(1, 1), padding=(1, 1))\n",
            "          (3): BatchNorm2d(4, eps=1e-05, momentum=0.1, affine=True, track_running_stats=True)\n",
            "          (4): ReLU()\n",
            "          (5): Conv2d(4, 4, kernel_size=(3, 3), stride=(1, 1), padding=(1, 1))\n",
            "        )\n",
            "      )\n",
            "    )\n",
            "  )\n",
            ")\n"
          ],
          "name": "stdout"
        }
      ]
    },
    {
      "cell_type": "markdown",
      "metadata": {
        "id": "7l3-PNR9mlIb"
      },
      "source": [
        "## Residual stem\n",
        "\n",
        "A \"stem\" layer is required at the beginning of the network, which increases the number of channels while keeping the other dimensions.\n",
        "\n",
        "For your convenience, we provide the implementation below."
      ]
    },
    {
      "cell_type": "code",
      "metadata": {
        "id": "eUvbubymmlIc"
      },
      "source": [
        "class ResNetStem(nn.Module):\n",
        "  def __init__(self, Cin=3, Cout=8):\n",
        "    super().__init__()\n",
        "    layers = [\n",
        "        nn.Conv2d(Cin, Cout, kernel_size=3, padding=1, stride=1),\n",
        "        nn.ReLU(),\n",
        "    ]\n",
        "    self.net = nn.Sequential(*layers)\n",
        "    \n",
        "  def forward(self, x):\n",
        "    return self.net(x)"
      ],
      "execution_count": 30,
      "outputs": []
    },
    {
      "cell_type": "code",
      "metadata": {
        "id": "UGzh0oVxm2Aw",
        "outputId": "2a4679e7-f856-4159-ed56-7bbc799ee314",
        "colab": {
          "base_uri": "https://localhost:8080/",
          "height": 34
        }
      },
      "source": [
        "data = torch.zeros(2, 3, 5, 6)\n",
        "model = ResNetStem(3, 10)\n",
        "if list(model(data).shape) == [2, 10, 5, 6]:\n",
        "  print('The output of ResidualBlock without downsampling has a *correct* dimension!')\n",
        "else:\n",
        "  print('The output of ResidualBlock without downsampling has an *incorrect* dimension! expected:', [2, 10, 5, 6], 'got:', list(model(data).shape))"
      ],
      "execution_count": 31,
      "outputs": [
        {
          "output_type": "stream",
          "text": [
            "The output of ResidualBlock without downsampling has a *correct* dimension!\n"
          ],
          "name": "stdout"
        }
      ]
    },
    {
      "cell_type": "markdown",
      "metadata": {
        "id": "QGzn4Gp_sYBp"
      },
      "source": [
        "## ResNet class\n",
        "\n",
        "Now, it is time to design the ResNet class using the blocks you implemented above!\n",
        "\n",
        "For general applicability, the class will get a dictionary of the architecture specification as an input, and parse it to build a CNN.\n",
        "\n",
        "Here we provide a couple of examples of specification;\n",
        "`networks` is a collection of pre-defined network specifications, where each can be called by `get_resnet(key)`, where key is the name of the network, e.g., `get_resnet('resnet32')` will return a ResNet with 32 layers.\n",
        "\n",
        "Each specification consists of multiple tuples which correspond to a macro block (`ResNetStage`), and the values in each tuple implies `(num_in_channels, num_out_channels, num_blocks, do_downsample)`.\n",
        "\n",
        "To avoid dependency on the size of the input, ResNet has an average pooling at the end of the convolutional part, such that the size of the input tensor to the linear layer is always `(batch_size, stage_args[-1][1])`.\n",
        "You may want to add an average pooling layer (`nn.AvgPool2d`), but it requires to know the size of the input.\n",
        "Can you relax this requirement?\n",
        "\n",
        "**Hint**: You can perform average pooling in `forward`."
      ]
    },
    {
      "cell_type": "code",
      "metadata": {
        "id": "1iOOBoSgs-0X"
      },
      "source": [
        "# example of specifications\n",
        "networks = {\n",
        "  'plain32': {\n",
        "    'block': PlainBlock,\n",
        "    'stage_args': [\n",
        "      (8, 8, 5, False),\n",
        "      (8, 16, 5, True),\n",
        "      (16, 32, 5, True),\n",
        "    ]\n",
        "  },\n",
        "  'resnet32': {\n",
        "    'block': ResidualBlock,\n",
        "    'stage_args': [\n",
        "      (8, 8, 5, False),\n",
        "      (8, 16, 5, True),\n",
        "      (16, 32, 5, True),\n",
        "    ]\n",
        "  },\n",
        "}"
      ],
      "execution_count": 32,
      "outputs": []
    },
    {
      "cell_type": "code",
      "metadata": {
        "id": "nVSeEzB7scmW"
      },
      "source": [
        "class ResNet(nn.Module):\n",
        "  def __init__(self, stage_args, Cin=3, block=ResidualBlock, num_classes=10):\n",
        "    super().__init__()\n",
        "\n",
        "    self.cnn = None\n",
        "    ############################################################################\n",
        "    # TODO: Implement the convolutional part of ResNet using ResNetStem,       #\n",
        "    #       ResNetStage, and wrap the modules by nn.Sequential.                #\n",
        "    # Store the model in self.cnn.                                             #\n",
        "    ############################################################################\n",
        "    # Replace \"pass\" statement with your code\n",
        "    \n",
        "    layer_1 = ResNetStem()\n",
        "    \n",
        "    a = []\n",
        "    for i in stage_args:\n",
        "      a.append(ResNetStage(i[0], i[1], i[2], block=block))   \n",
        "      layer_2 = nn.Sequential(*a)\n",
        "    \n",
        "    self.cnn = nn.Sequential(layer_1, layer_2)\n",
        "    \n",
        "\n",
        "    ############################################################################\n",
        "    #                                 END OF YOUR CODE                         #\n",
        "    ############################################################################\n",
        "    self.fc = nn.Linear(stage_args[-1][1], num_classes)\n",
        "  \n",
        "  def forward(self, x):\n",
        "    scores = None\n",
        "    ############################################################################\n",
        "    # TODO: Implement the forward function of ResNet.                          #\n",
        "    # Store the output in `scores`.                                            #\n",
        "    ############################################################################\n",
        "    # Replace \"pass\" statement with your code\n",
        "    \n",
        "    x = self.cnn(x)\n",
        "    a = x.size()\n",
        "\n",
        "    pool = nn.AvgPool2d(a[2])\n",
        "    \n",
        "    scores = pool(x).T\n",
        "\n",
        "    scores = self.fc(t)\n",
        "\n",
        "  \n",
        "    ############################################################################\n",
        "    #                                 END OF YOUR CODE                         #\n",
        "    ############################################################################\n",
        "    return scores\n",
        "\n",
        "def get_resnet(name):\n",
        "  return ResNet(**networks[name])"
      ],
      "execution_count": 33,
      "outputs": []
    },
    {
      "cell_type": "markdown",
      "metadata": {
        "id": "uqhp641H0P9Z"
      },
      "source": [
        "'## Train your model!\n",
        "\n",
        "Now let's train a few epochs of plain and residual networks with 32 layers on CIFAR.\n",
        "You will see that deep non-residual networks don't converge well. Make sure that you are saving results after each mini-batch so that you can plot the training error and accuracy over time.\n",
        "\n",
        "**Caution: This takes a long time! Use the GPUS**\n",
        "\n",
        "**Disclaimer: The performance of PreResNet-32 you will see here (~ 80%) would be lower than the best performance this model can achieve, because the convergence requires much more training.**"
      ]
    },
    {
      "cell_type": "code",
      "metadata": {
        "id": "hRyYVBn60A58",
        "outputId": "6fb33c41-8dc5-4be9-fee9-1385f8ce3b47",
        "colab": {
          "base_uri": "https://localhost:8080/",
          "height": 426
        }
      },
      "source": [
        "# def init_module(model):\n",
        "#   for m in model.modules():\n",
        "#     if isinstance(m, nn.Conv2d) or isinstance(m, nn.Linear):\n",
        "#       nn.init.kaiming_normal_(m.weight.data)\n",
        "#       if m.bias is not None: nn.init.zeros_(m.bias.data)\n",
        "#     elif isinstance(m, nn.BatchNorm2d):\n",
        "#       nn.init.ones_(m.weight.data)\n",
        "#       if m.bias is not None: nn.init.zeros_(m.bias.data)\n",
        "\n",
        "names = ['plain32', 'resnet32']\n",
        "acc_history_dict = {}\n",
        "iter_history_dict = {}\n",
        "for name in names:\n",
        "  fix_random_seed(0)\n",
        "  print(name, '\\n')\n",
        "  model = get_resnet(name)\n",
        "#   init_module(model)\n",
        "  \n",
        "  optimizer = optim.SGD(model.parameters(), lr=1e-2, momentum=.9, weight_decay=1e-4)\n",
        "\n",
        "  acc_history, iter_history = train_part345(model, optimizer, epochs=10, schedule=[6, 8], verbose=False)\n",
        "  acc_history_dict[name] = acc_history\n",
        "  iter_history_dict[name] = iter_history"
      ],
      "execution_count": 34,
      "outputs": [
        {
          "output_type": "stream",
          "text": [
            "plain32 \n",
            "\n"
          ],
          "name": "stdout"
        },
        {
          "output_type": "error",
          "ename": "NameError",
          "evalue": "ignored",
          "traceback": [
            "\u001b[0;31m---------------------------------------------------------------------------\u001b[0m",
            "\u001b[0;31mNameError\u001b[0m                                 Traceback (most recent call last)",
            "\u001b[0;32m<ipython-input-34-e1080524aab8>\u001b[0m in \u001b[0;36m<module>\u001b[0;34m()\u001b[0m\n\u001b[1;32m     19\u001b[0m   \u001b[0moptimizer\u001b[0m \u001b[0;34m=\u001b[0m \u001b[0moptim\u001b[0m\u001b[0;34m.\u001b[0m\u001b[0mSGD\u001b[0m\u001b[0;34m(\u001b[0m\u001b[0mmodel\u001b[0m\u001b[0;34m.\u001b[0m\u001b[0mparameters\u001b[0m\u001b[0;34m(\u001b[0m\u001b[0;34m)\u001b[0m\u001b[0;34m,\u001b[0m \u001b[0mlr\u001b[0m\u001b[0;34m=\u001b[0m\u001b[0;36m1e-2\u001b[0m\u001b[0;34m,\u001b[0m \u001b[0mmomentum\u001b[0m\u001b[0;34m=\u001b[0m\u001b[0;36m.9\u001b[0m\u001b[0;34m,\u001b[0m \u001b[0mweight_decay\u001b[0m\u001b[0;34m=\u001b[0m\u001b[0;36m1e-4\u001b[0m\u001b[0;34m)\u001b[0m\u001b[0;34m\u001b[0m\u001b[0;34m\u001b[0m\u001b[0m\n\u001b[1;32m     20\u001b[0m \u001b[0;34m\u001b[0m\u001b[0m\n\u001b[0;32m---> 21\u001b[0;31m   \u001b[0macc_history\u001b[0m\u001b[0;34m,\u001b[0m \u001b[0miter_history\u001b[0m \u001b[0;34m=\u001b[0m \u001b[0mtrain_part345\u001b[0m\u001b[0;34m(\u001b[0m\u001b[0mmodel\u001b[0m\u001b[0;34m,\u001b[0m \u001b[0moptimizer\u001b[0m\u001b[0;34m,\u001b[0m \u001b[0mepochs\u001b[0m\u001b[0;34m=\u001b[0m\u001b[0;36m10\u001b[0m\u001b[0;34m,\u001b[0m \u001b[0mschedule\u001b[0m\u001b[0;34m=\u001b[0m\u001b[0;34m[\u001b[0m\u001b[0;36m6\u001b[0m\u001b[0;34m,\u001b[0m \u001b[0;36m8\u001b[0m\u001b[0;34m]\u001b[0m\u001b[0;34m,\u001b[0m \u001b[0mverbose\u001b[0m\u001b[0;34m=\u001b[0m\u001b[0;32mFalse\u001b[0m\u001b[0;34m)\u001b[0m\u001b[0;34m\u001b[0m\u001b[0;34m\u001b[0m\u001b[0m\n\u001b[0m\u001b[1;32m     22\u001b[0m   \u001b[0macc_history_dict\u001b[0m\u001b[0;34m[\u001b[0m\u001b[0mname\u001b[0m\u001b[0;34m]\u001b[0m \u001b[0;34m=\u001b[0m \u001b[0macc_history\u001b[0m\u001b[0;34m\u001b[0m\u001b[0;34m\u001b[0m\u001b[0m\n\u001b[1;32m     23\u001b[0m   \u001b[0miter_history_dict\u001b[0m\u001b[0;34m[\u001b[0m\u001b[0mname\u001b[0m\u001b[0;34m]\u001b[0m \u001b[0;34m=\u001b[0m \u001b[0miter_history\u001b[0m\u001b[0;34m\u001b[0m\u001b[0;34m\u001b[0m\u001b[0m\n",
            "\u001b[0;32m<ipython-input-18-0552dc2f5e34>\u001b[0m in \u001b[0;36mtrain_part345\u001b[0;34m(model, optimizer, epochs, learning_rate_decay, schedule, verbose)\u001b[0m\n\u001b[1;32m     44\u001b[0m       \u001b[0my\u001b[0m \u001b[0;34m=\u001b[0m \u001b[0my\u001b[0m\u001b[0;34m.\u001b[0m\u001b[0mto\u001b[0m\u001b[0;34m(\u001b[0m\u001b[0mdevice\u001b[0m\u001b[0;34m=\u001b[0m\u001b[0mdevice\u001b[0m\u001b[0;34m,\u001b[0m \u001b[0mdtype\u001b[0m\u001b[0;34m=\u001b[0m\u001b[0mltype\u001b[0m\u001b[0;34m)\u001b[0m\u001b[0;34m\u001b[0m\u001b[0;34m\u001b[0m\u001b[0m\n\u001b[1;32m     45\u001b[0m \u001b[0;34m\u001b[0m\u001b[0m\n\u001b[0;32m---> 46\u001b[0;31m       \u001b[0mscores\u001b[0m \u001b[0;34m=\u001b[0m \u001b[0mmodel\u001b[0m\u001b[0;34m(\u001b[0m\u001b[0mx\u001b[0m\u001b[0;34m)\u001b[0m\u001b[0;34m\u001b[0m\u001b[0;34m\u001b[0m\u001b[0m\n\u001b[0m\u001b[1;32m     47\u001b[0m       \u001b[0mloss\u001b[0m \u001b[0;34m=\u001b[0m \u001b[0mF\u001b[0m\u001b[0;34m.\u001b[0m\u001b[0mcross_entropy\u001b[0m\u001b[0;34m(\u001b[0m\u001b[0mscores\u001b[0m\u001b[0;34m,\u001b[0m \u001b[0my\u001b[0m\u001b[0;34m)\u001b[0m\u001b[0;34m\u001b[0m\u001b[0;34m\u001b[0m\u001b[0m\n\u001b[1;32m     48\u001b[0m \u001b[0;34m\u001b[0m\u001b[0m\n",
            "\u001b[0;32m/usr/local/lib/python3.6/dist-packages/torch/nn/modules/module.py\u001b[0m in \u001b[0;36m_call_impl\u001b[0;34m(self, *input, **kwargs)\u001b[0m\n\u001b[1;32m    720\u001b[0m             \u001b[0mresult\u001b[0m \u001b[0;34m=\u001b[0m \u001b[0mself\u001b[0m\u001b[0;34m.\u001b[0m\u001b[0m_slow_forward\u001b[0m\u001b[0;34m(\u001b[0m\u001b[0;34m*\u001b[0m\u001b[0minput\u001b[0m\u001b[0;34m,\u001b[0m \u001b[0;34m**\u001b[0m\u001b[0mkwargs\u001b[0m\u001b[0;34m)\u001b[0m\u001b[0;34m\u001b[0m\u001b[0;34m\u001b[0m\u001b[0m\n\u001b[1;32m    721\u001b[0m         \u001b[0;32melse\u001b[0m\u001b[0;34m:\u001b[0m\u001b[0;34m\u001b[0m\u001b[0;34m\u001b[0m\u001b[0m\n\u001b[0;32m--> 722\u001b[0;31m             \u001b[0mresult\u001b[0m \u001b[0;34m=\u001b[0m \u001b[0mself\u001b[0m\u001b[0;34m.\u001b[0m\u001b[0mforward\u001b[0m\u001b[0;34m(\u001b[0m\u001b[0;34m*\u001b[0m\u001b[0minput\u001b[0m\u001b[0;34m,\u001b[0m \u001b[0;34m**\u001b[0m\u001b[0mkwargs\u001b[0m\u001b[0;34m)\u001b[0m\u001b[0;34m\u001b[0m\u001b[0;34m\u001b[0m\u001b[0m\n\u001b[0m\u001b[1;32m    723\u001b[0m         for hook in itertools.chain(\n\u001b[1;32m    724\u001b[0m                 \u001b[0m_global_forward_hooks\u001b[0m\u001b[0;34m.\u001b[0m\u001b[0mvalues\u001b[0m\u001b[0;34m(\u001b[0m\u001b[0;34m)\u001b[0m\u001b[0;34m,\u001b[0m\u001b[0;34m\u001b[0m\u001b[0;34m\u001b[0m\u001b[0m\n",
            "\u001b[0;32m<ipython-input-33-6acc02e9bfb6>\u001b[0m in \u001b[0;36mforward\u001b[0;34m(self, x)\u001b[0m\n\u001b[1;32m     41\u001b[0m     \u001b[0mscores\u001b[0m \u001b[0;34m=\u001b[0m \u001b[0mpool\u001b[0m\u001b[0;34m(\u001b[0m\u001b[0mx\u001b[0m\u001b[0;34m)\u001b[0m\u001b[0;34m.\u001b[0m\u001b[0mT\u001b[0m\u001b[0;34m\u001b[0m\u001b[0;34m\u001b[0m\u001b[0m\n\u001b[1;32m     42\u001b[0m \u001b[0;34m\u001b[0m\u001b[0m\n\u001b[0;32m---> 43\u001b[0;31m     \u001b[0mscores\u001b[0m \u001b[0;34m=\u001b[0m \u001b[0mself\u001b[0m\u001b[0;34m.\u001b[0m\u001b[0mfc\u001b[0m\u001b[0;34m(\u001b[0m\u001b[0mt\u001b[0m\u001b[0;34m)\u001b[0m\u001b[0;34m\u001b[0m\u001b[0;34m\u001b[0m\u001b[0m\n\u001b[0m\u001b[1;32m     44\u001b[0m \u001b[0;34m\u001b[0m\u001b[0m\n\u001b[1;32m     45\u001b[0m \u001b[0;34m\u001b[0m\u001b[0m\n",
            "\u001b[0;31mNameError\u001b[0m: name 't' is not defined"
          ]
        }
      ]
    },
    {
      "cell_type": "code",
      "metadata": {
        "id": "-u89CIFfzWWR",
        "outputId": "592f0804-9d9d-4c64-f2a0-7fc6a322f853",
        "colab": {
          "base_uri": "https://localhost:8080/",
          "height": 714
        }
      },
      "source": [
        "plt.title('Val accuracies')\n",
        "for name in names:\n",
        "  plt.plot(iter_history_dict[name], acc_history_dict[name], '-o')\n",
        "plt.legend(names, loc='upper left')\n",
        "plt.xlabel('iterations')\n",
        "plt.ylabel('accuracy')\n",
        "plt.gcf().set_size_inches(9, 4)\n",
        "plt.show()"
      ],
      "execution_count": 35,
      "outputs": [
        {
          "output_type": "error",
          "ename": "KeyError",
          "evalue": "ignored",
          "traceback": [
            "\u001b[0;31m---------------------------------------------------------------------------\u001b[0m",
            "\u001b[0;31mKeyError\u001b[0m                                  Traceback (most recent call last)",
            "\u001b[0;32m<ipython-input-35-ff77b7627bbb>\u001b[0m in \u001b[0;36m<module>\u001b[0;34m()\u001b[0m\n\u001b[1;32m      1\u001b[0m \u001b[0mplt\u001b[0m\u001b[0;34m.\u001b[0m\u001b[0mtitle\u001b[0m\u001b[0;34m(\u001b[0m\u001b[0;34m'Val accuracies'\u001b[0m\u001b[0;34m)\u001b[0m\u001b[0;34m\u001b[0m\u001b[0;34m\u001b[0m\u001b[0m\n\u001b[1;32m      2\u001b[0m \u001b[0;32mfor\u001b[0m \u001b[0mname\u001b[0m \u001b[0;32min\u001b[0m \u001b[0mnames\u001b[0m\u001b[0;34m:\u001b[0m\u001b[0;34m\u001b[0m\u001b[0;34m\u001b[0m\u001b[0m\n\u001b[0;32m----> 3\u001b[0;31m   \u001b[0mplt\u001b[0m\u001b[0;34m.\u001b[0m\u001b[0mplot\u001b[0m\u001b[0;34m(\u001b[0m\u001b[0miter_history_dict\u001b[0m\u001b[0;34m[\u001b[0m\u001b[0mname\u001b[0m\u001b[0;34m]\u001b[0m\u001b[0;34m,\u001b[0m \u001b[0macc_history_dict\u001b[0m\u001b[0;34m[\u001b[0m\u001b[0mname\u001b[0m\u001b[0;34m]\u001b[0m\u001b[0;34m,\u001b[0m \u001b[0;34m'-o'\u001b[0m\u001b[0;34m)\u001b[0m\u001b[0;34m\u001b[0m\u001b[0;34m\u001b[0m\u001b[0m\n\u001b[0m\u001b[1;32m      4\u001b[0m \u001b[0mplt\u001b[0m\u001b[0;34m.\u001b[0m\u001b[0mlegend\u001b[0m\u001b[0;34m(\u001b[0m\u001b[0mnames\u001b[0m\u001b[0;34m,\u001b[0m \u001b[0mloc\u001b[0m\u001b[0;34m=\u001b[0m\u001b[0;34m'upper left'\u001b[0m\u001b[0;34m)\u001b[0m\u001b[0;34m\u001b[0m\u001b[0;34m\u001b[0m\u001b[0m\n\u001b[1;32m      5\u001b[0m \u001b[0mplt\u001b[0m\u001b[0;34m.\u001b[0m\u001b[0mxlabel\u001b[0m\u001b[0;34m(\u001b[0m\u001b[0;34m'iterations'\u001b[0m\u001b[0;34m)\u001b[0m\u001b[0;34m\u001b[0m\u001b[0;34m\u001b[0m\u001b[0m\n",
            "\u001b[0;31mKeyError\u001b[0m: 'plain32'"
          ]
        },
        {
          "output_type": "display_data",
          "data": {
            "image/png": "[encoded data removed]",
            "text/plain": [
              "<Figure size 720x576 with 1 Axes>"
            ]
          },
          "metadata": {
            "tags": [],
            "needs_background": "light"
          }
        }
      ]
    },
    {
      "cell_type": "markdown",
      "metadata": {
        "id": "7Z31mvHGQT3y"
      },
      "source": [
        "## Residual bottleneck block\n",
        "\n",
        "A bottleneck block is often useful for better efficiency, especially when importing a model to mobile devices.\n",
        "The residual bottleneck block is similar to the standard residual block, but the plain block part has a different architecture:\n",
        "it consists of 3 convolutional layers, and the first two convolutional layers have a smaller number of channels.\n",
        "\n",
        "Here is the specification of the bottleneck block:\n",
        "\n",
        "1. Spatial Batch normalization\n",
        "2. ReLU\n",
        "3. Convolutional layer with `Cout // 4` 1x1 filters, stride 2 if downsampling; otherwise stride 1\n",
        "4. Spatial Batch normalization\n",
        "5. ReLU\n",
        "6. Convolutional layer with `Cout // 4` 3x3 filters, with zero-padding of 1\n",
        "7. Spatial Batch normalization\n",
        "8. ReLU\n",
        "9. Convolutional layer with `Cout` 1x1 filters\n",
        "\n",
        "Don't forget to add the residual connection!"
      ]
    },
    {
      "cell_type": "code",
      "metadata": {
        "id": "7pUtZoVsQT31"
      },
      "source": [
        "class ResidualBottleneckBlock(nn.Module):\n",
        "  def __init__(self, Cin, Cout, downsample=False):\n",
        "    super().__init__()\n",
        "\n",
        "    self.block = None\n",
        "    self.shortcut = None\n",
        "    ############################################################################\n",
        "    # TODO: Implement residual bottleneck block.                               #\n",
        "    # Inputs:                                                                  #\n",
        "    # - Cin: number of input channels                                          #\n",
        "    # - Cout: number of output channels                                        #\n",
        "    # - downsample: add downsampling (a conv with stride=2) if True            #\n",
        "    # Store the main block in self.block and the shortcut in self.shortcut.    #\n",
        "    ############################################################################\n",
        "    # Replace \"pass\" statement with your code\n",
        "\n",
        "    if downsample == True:\n",
        "      self.shortcut = nn.Conv2d(Cin, Cout, kernel_size=1, stride=2, bias=False)\n",
        "    else:\n",
        "      if Cin == Cout:\n",
        "        self.shortcut = nn.Identity()\n",
        "      else:\n",
        "        self.shortcut =nn.Conv2d(Cin, Cout, kernel_size=1, stride=1, bias=False)\n",
        "    \n",
        "    step_3 = None\n",
        "    if (downsample == True):\n",
        "      step_3 = nn.Conv2d(Cin, Cout, (1,1), stride=2)\n",
        "    else:\n",
        "      step_3 = nn.Conv2d(Cin, Cout, (1,1), stride=1)\n",
        "\n",
        "    self.block = nn.Sequential(\n",
        "        nn.BatchNorm2d(Cin, track_running_stats=False),\n",
        "        nn.ReLU(),\n",
        "        step_3,\n",
        "        nn.BatchNorm2d(Cout),\n",
        "        nn.ReLU(),\n",
        "        nn.Conv2d(Cout, Cout, (3,3), padding=1),\n",
        "        nn.BatchNorm2d(Cout),\n",
        "        nn.ReLU(),\n",
        "        nn.Conv2d(Cout, Cout, (1,1))\n",
        "    )\n",
        "\n",
        "\n",
        "    ############################################################################\n",
        "    #                                 END OF YOUR CODE                         #\n",
        "    ############################################################################\n",
        "\n",
        "  def forward(self, x):\n",
        "    return self.block(x) + self.shortcut(x)"
      ],
      "execution_count": 36,
      "outputs": []
    },
    {
      "cell_type": "code",
      "metadata": {
        "id": "vqETnXH5QT37",
        "outputId": "0ddfc846-e215-481a-b46d-1e76d8478b48",
        "colab": {
          "base_uri": "https://localhost:8080/",
          "height": 51
        }
      },
      "source": [
        "data = torch.zeros(2, 3, 5, 6)\n",
        "model = ResidualBottleneckBlock(3, 10)\n",
        "if list(model(data).shape) == [2, 10, 5, 6]:\n",
        "  print('The output of ResidualBlock without downsampling has a *correct* dimension!')\n",
        "else:\n",
        "  print('The output of ResidualBlock without downsampling has an *incorrect* dimension! expected:', [2, 10, 5, 6], 'got:', list(model(data).shape))\n",
        "\n",
        "data = torch.zeros(2, 3, 5, 6)\n",
        "model = ResidualBottleneckBlock(3, 10, downsample=True)\n",
        "if list(model(data).shape) == [2, 10, 3, 3]:\n",
        "  print('The output of ResidualBlock with downsampling has a *correct* dimension!')\n",
        "else:\n",
        "  print('The output of ResidualBlock with downsampling has an *incorrect* dimension! expected:', [2, 10, 3, 3], 'got:', list(model(data).shape))"
      ],
      "execution_count": 37,
      "outputs": [
        {
          "output_type": "stream",
          "text": [
            "The output of ResidualBlock without downsampling has a *correct* dimension!\n",
            "The output of ResidualBlock with downsampling has a *correct* dimension!\n"
          ],
          "name": "stdout"
        }
      ]
    },
    {
      "cell_type": "markdown",
      "metadata": {
        "id": "QnRc5hiHudMP"
      },
      "source": [
        "By running the following script, you can check the architecture of ResNet-47 with bottlenecks.\n",
        "\n",
        "Caution: it is long!"
      ]
    },
    {
      "cell_type": "code",
      "metadata": {
        "id": "md6xmG-Aucrx",
        "outputId": "5b098cfa-3304-4f1c-bdfe-6402fa42e9f4",
        "colab": {
          "base_uri": "https://localhost:8080/",
          "height": 1000
        }
      },
      "source": [
        "# example of specification\n",
        "networks.update({\n",
        "  'resnet47': {\n",
        "    'block': ResidualBottleneckBlock,\n",
        "    'stage_args': [\n",
        "      (32, 32, 5, False),\n",
        "      (32, 64, 5, True),\n",
        "      (64, 128, 5, True),\n",
        "    ],\n",
        "  },\n",
        "})\n",
        "\n",
        "print(get_resnet('resnet47'))"
      ],
      "execution_count": 38,
      "outputs": [
        {
          "output_type": "stream",
          "text": [
            "ResNet(\n",
            "  (cnn): Sequential(\n",
            "    (0): ResNetStem(\n",
            "      (net): Sequential(\n",
            "        (0): Conv2d(3, 8, kernel_size=(3, 3), stride=(1, 1), padding=(1, 1))\n",
            "        (1): ReLU()\n",
            "      )\n",
            "    )\n",
            "    (1): Sequential(\n",
            "      (0): ResNetStage(\n",
            "        (net): Sequential(\n",
            "          (0): ResidualBottleneckBlock(\n",
            "            (shortcut): Conv2d(32, 32, kernel_size=(1, 1), stride=(2, 2), bias=False)\n",
            "            (block): Sequential(\n",
            "              (0): BatchNorm2d(32, eps=1e-05, momentum=0.1, affine=True, track_running_stats=False)\n",
            "              (1): ReLU()\n",
            "              (2): Conv2d(32, 32, kernel_size=(1, 1), stride=(2, 2))\n",
            "              (3): BatchNorm2d(32, eps=1e-05, momentum=0.1, affine=True, track_running_stats=True)\n",
            "              (4): ReLU()\n",
            "              (5): Conv2d(32, 32, kernel_size=(3, 3), stride=(1, 1), padding=(1, 1))\n",
            "              (6): BatchNorm2d(32, eps=1e-05, momentum=0.1, affine=True, track_running_stats=True)\n",
            "              (7): ReLU()\n",
            "              (8): Conv2d(32, 32, kernel_size=(1, 1), stride=(1, 1))\n",
            "            )\n",
            "          )\n",
            "          (1): ResidualBottleneckBlock(\n",
            "            (shortcut): Identity()\n",
            "            (block): Sequential(\n",
            "              (0): BatchNorm2d(32, eps=1e-05, momentum=0.1, affine=True, track_running_stats=False)\n",
            "              (1): ReLU()\n",
            "              (2): Conv2d(32, 32, kernel_size=(1, 1), stride=(1, 1))\n",
            "              (3): BatchNorm2d(32, eps=1e-05, momentum=0.1, affine=True, track_running_stats=True)\n",
            "              (4): ReLU()\n",
            "              (5): Conv2d(32, 32, kernel_size=(3, 3), stride=(1, 1), padding=(1, 1))\n",
            "              (6): BatchNorm2d(32, eps=1e-05, momentum=0.1, affine=True, track_running_stats=True)\n",
            "              (7): ReLU()\n",
            "              (8): Conv2d(32, 32, kernel_size=(1, 1), stride=(1, 1))\n",
            "            )\n",
            "          )\n",
            "          (2): ResidualBottleneckBlock(\n",
            "            (shortcut): Identity()\n",
            "            (block): Sequential(\n",
            "              (0): BatchNorm2d(32, eps=1e-05, momentum=0.1, affine=True, track_running_stats=False)\n",
            "              (1): ReLU()\n",
            "              (2): Conv2d(32, 32, kernel_size=(1, 1), stride=(1, 1))\n",
            "              (3): BatchNorm2d(32, eps=1e-05, momentum=0.1, affine=True, track_running_stats=True)\n",
            "              (4): ReLU()\n",
            "              (5): Conv2d(32, 32, kernel_size=(3, 3), stride=(1, 1), padding=(1, 1))\n",
            "              (6): BatchNorm2d(32, eps=1e-05, momentum=0.1, affine=True, track_running_stats=True)\n",
            "              (7): ReLU()\n",
            "              (8): Conv2d(32, 32, kernel_size=(1, 1), stride=(1, 1))\n",
            "            )\n",
            "          )\n",
            "          (3): ResidualBottleneckBlock(\n",
            "            (shortcut): Identity()\n",
            "            (block): Sequential(\n",
            "              (0): BatchNorm2d(32, eps=1e-05, momentum=0.1, affine=True, track_running_stats=False)\n",
            "              (1): ReLU()\n",
            "              (2): Conv2d(32, 32, kernel_size=(1, 1), stride=(1, 1))\n",
            "              (3): BatchNorm2d(32, eps=1e-05, momentum=0.1, affine=True, track_running_stats=True)\n",
            "              (4): ReLU()\n",
            "              (5): Conv2d(32, 32, kernel_size=(3, 3), stride=(1, 1), padding=(1, 1))\n",
            "              (6): BatchNorm2d(32, eps=1e-05, momentum=0.1, affine=True, track_running_stats=True)\n",
            "              (7): ReLU()\n",
            "              (8): Conv2d(32, 32, kernel_size=(1, 1), stride=(1, 1))\n",
            "            )\n",
            "          )\n",
            "          (4): ResidualBottleneckBlock(\n",
            "            (shortcut): Identity()\n",
            "            (block): Sequential(\n",
            "              (0): BatchNorm2d(32, eps=1e-05, momentum=0.1, affine=True, track_running_stats=False)\n",
            "              (1): ReLU()\n",
            "              (2): Conv2d(32, 32, kernel_size=(1, 1), stride=(1, 1))\n",
            "              (3): BatchNorm2d(32, eps=1e-05, momentum=0.1, affine=True, track_running_stats=True)\n",
            "              (4): ReLU()\n",
            "              (5): Conv2d(32, 32, kernel_size=(3, 3), stride=(1, 1), padding=(1, 1))\n",
            "              (6): BatchNorm2d(32, eps=1e-05, momentum=0.1, affine=True, track_running_stats=True)\n",
            "              (7): ReLU()\n",
            "              (8): Conv2d(32, 32, kernel_size=(1, 1), stride=(1, 1))\n",
            "            )\n",
            "          )\n",
            "        )\n",
            "      )\n",
            "      (1): ResNetStage(\n",
            "        (net): Sequential(\n",
            "          (0): ResidualBottleneckBlock(\n",
            "            (shortcut): Conv2d(32, 64, kernel_size=(1, 1), stride=(2, 2), bias=False)\n",
            "            (block): Sequential(\n",
            "              (0): BatchNorm2d(32, eps=1e-05, momentum=0.1, affine=True, track_running_stats=False)\n",
            "              (1): ReLU()\n",
            "              (2): Conv2d(32, 64, kernel_size=(1, 1), stride=(2, 2))\n",
            "              (3): BatchNorm2d(64, eps=1e-05, momentum=0.1, affine=True, track_running_stats=True)\n",
            "              (4): ReLU()\n",
            "              (5): Conv2d(64, 64, kernel_size=(3, 3), stride=(1, 1), padding=(1, 1))\n",
            "              (6): BatchNorm2d(64, eps=1e-05, momentum=0.1, affine=True, track_running_stats=True)\n",
            "              (7): ReLU()\n",
            "              (8): Conv2d(64, 64, kernel_size=(1, 1), stride=(1, 1))\n",
            "            )\n",
            "          )\n",
            "          (1): ResidualBottleneckBlock(\n",
            "            (shortcut): Identity()\n",
            "            (block): Sequential(\n",
            "              (0): BatchNorm2d(64, eps=1e-05, momentum=0.1, affine=True, track_running_stats=False)\n",
            "              (1): ReLU()\n",
            "              (2): Conv2d(64, 64, kernel_size=(1, 1), stride=(1, 1))\n",
            "              (3): BatchNorm2d(64, eps=1e-05, momentum=0.1, affine=True, track_running_stats=True)\n",
            "              (4): ReLU()\n",
            "              (5): Conv2d(64, 64, kernel_size=(3, 3), stride=(1, 1), padding=(1, 1))\n",
            "              (6): BatchNorm2d(64, eps=1e-05, momentum=0.1, affine=True, track_running_stats=True)\n",
            "              (7): ReLU()\n",
            "              (8): Conv2d(64, 64, kernel_size=(1, 1), stride=(1, 1))\n",
            "            )\n",
            "          )\n",
            "          (2): ResidualBottleneckBlock(\n",
            "            (shortcut): Identity()\n",
            "            (block): Sequential(\n",
            "              (0): BatchNorm2d(64, eps=1e-05, momentum=0.1, affine=True, track_running_stats=False)\n",
            "              (1): ReLU()\n",
            "              (2): Conv2d(64, 64, kernel_size=(1, 1), stride=(1, 1))\n",
            "              (3): BatchNorm2d(64, eps=1e-05, momentum=0.1, affine=True, track_running_stats=True)\n",
            "              (4): ReLU()\n",
            "              (5): Conv2d(64, 64, kernel_size=(3, 3), stride=(1, 1), padding=(1, 1))\n",
            "              (6): BatchNorm2d(64, eps=1e-05, momentum=0.1, affine=True, track_running_stats=True)\n",
            "              (7): ReLU()\n",
            "              (8): Conv2d(64, 64, kernel_size=(1, 1), stride=(1, 1))\n",
            "            )\n",
            "          )\n",
            "          (3): ResidualBottleneckBlock(\n",
            "            (shortcut): Identity()\n",
            "            (block): Sequential(\n",
            "              (0): BatchNorm2d(64, eps=1e-05, momentum=0.1, affine=True, track_running_stats=False)\n",
            "              (1): ReLU()\n",
            "              (2): Conv2d(64, 64, kernel_size=(1, 1), stride=(1, 1))\n",
            "              (3): BatchNorm2d(64, eps=1e-05, momentum=0.1, affine=True, track_running_stats=True)\n",
            "              (4): ReLU()\n",
            "              (5): Conv2d(64, 64, kernel_size=(3, 3), stride=(1, 1), padding=(1, 1))\n",
            "              (6): BatchNorm2d(64, eps=1e-05, momentum=0.1, affine=True, track_running_stats=True)\n",
            "              (7): ReLU()\n",
            "              (8): Conv2d(64, 64, kernel_size=(1, 1), stride=(1, 1))\n",
            "            )\n",
            "          )\n",
            "          (4): ResidualBottleneckBlock(\n",
            "            (shortcut): Identity()\n",
            "            (block): Sequential(\n",
            "              (0): BatchNorm2d(64, eps=1e-05, momentum=0.1, affine=True, track_running_stats=False)\n",
            "              (1): ReLU()\n",
            "              (2): Conv2d(64, 64, kernel_size=(1, 1), stride=(1, 1))\n",
            "              (3): BatchNorm2d(64, eps=1e-05, momentum=0.1, affine=True, track_running_stats=True)\n",
            "              (4): ReLU()\n",
            "              (5): Conv2d(64, 64, kernel_size=(3, 3), stride=(1, 1), padding=(1, 1))\n",
            "              (6): BatchNorm2d(64, eps=1e-05, momentum=0.1, affine=True, track_running_stats=True)\n",
            "              (7): ReLU()\n",
            "              (8): Conv2d(64, 64, kernel_size=(1, 1), stride=(1, 1))\n",
            "            )\n",
            "          )\n",
            "        )\n",
            "      )\n",
            "      (2): ResNetStage(\n",
            "        (net): Sequential(\n",
            "          (0): ResidualBottleneckBlock(\n",
            "            (shortcut): Conv2d(64, 128, kernel_size=(1, 1), stride=(2, 2), bias=False)\n",
            "            (block): Sequential(\n",
            "              (0): BatchNorm2d(64, eps=1e-05, momentum=0.1, affine=True, track_running_stats=False)\n",
            "              (1): ReLU()\n",
            "              (2): Conv2d(64, 128, kernel_size=(1, 1), stride=(2, 2))\n",
            "              (3): BatchNorm2d(128, eps=1e-05, momentum=0.1, affine=True, track_running_stats=True)\n",
            "              (4): ReLU()\n",
            "              (5): Conv2d(128, 128, kernel_size=(3, 3), stride=(1, 1), padding=(1, 1))\n",
            "              (6): BatchNorm2d(128, eps=1e-05, momentum=0.1, affine=True, track_running_stats=True)\n",
            "              (7): ReLU()\n",
            "              (8): Conv2d(128, 128, kernel_size=(1, 1), stride=(1, 1))\n",
            "            )\n",
            "          )\n",
            "          (1): ResidualBottleneckBlock(\n",
            "            (shortcut): Identity()\n",
            "            (block): Sequential(\n",
            "              (0): BatchNorm2d(128, eps=1e-05, momentum=0.1, affine=True, track_running_stats=False)\n",
            "              (1): ReLU()\n",
            "              (2): Conv2d(128, 128, kernel_size=(1, 1), stride=(1, 1))\n",
            "              (3): BatchNorm2d(128, eps=1e-05, momentum=0.1, affine=True, track_running_stats=True)\n",
            "              (4): ReLU()\n",
            "              (5): Conv2d(128, 128, kernel_size=(3, 3), stride=(1, 1), padding=(1, 1))\n",
            "              (6): BatchNorm2d(128, eps=1e-05, momentum=0.1, affine=True, track_running_stats=True)\n",
            "              (7): ReLU()\n",
            "              (8): Conv2d(128, 128, kernel_size=(1, 1), stride=(1, 1))\n",
            "            )\n",
            "          )\n",
            "          (2): ResidualBottleneckBlock(\n",
            "            (shortcut): Identity()\n",
            "            (block): Sequential(\n",
            "              (0): BatchNorm2d(128, eps=1e-05, momentum=0.1, affine=True, track_running_stats=False)\n",
            "              (1): ReLU()\n",
            "              (2): Conv2d(128, 128, kernel_size=(1, 1), stride=(1, 1))\n",
            "              (3): BatchNorm2d(128, eps=1e-05, momentum=0.1, affine=True, track_running_stats=True)\n",
            "              (4): ReLU()\n",
            "              (5): Conv2d(128, 128, kernel_size=(3, 3), stride=(1, 1), padding=(1, 1))\n",
            "              (6): BatchNorm2d(128, eps=1e-05, momentum=0.1, affine=True, track_running_stats=True)\n",
            "              (7): ReLU()\n",
            "              (8): Conv2d(128, 128, kernel_size=(1, 1), stride=(1, 1))\n",
            "            )\n",
            "          )\n",
            "          (3): ResidualBottleneckBlock(\n",
            "            (shortcut): Identity()\n",
            "            (block): Sequential(\n",
            "              (0): BatchNorm2d(128, eps=1e-05, momentum=0.1, affine=True, track_running_stats=False)\n",
            "              (1): ReLU()\n",
            "              (2): Conv2d(128, 128, kernel_size=(1, 1), stride=(1, 1))\n",
            "              (3): BatchNorm2d(128, eps=1e-05, momentum=0.1, affine=True, track_running_stats=True)\n",
            "              (4): ReLU()\n",
            "              (5): Conv2d(128, 128, kernel_size=(3, 3), stride=(1, 1), padding=(1, 1))\n",
            "              (6): BatchNorm2d(128, eps=1e-05, momentum=0.1, affine=True, track_running_stats=True)\n",
            "              (7): ReLU()\n",
            "              (8): Conv2d(128, 128, kernel_size=(1, 1), stride=(1, 1))\n",
            "            )\n",
            "          )\n",
            "          (4): ResidualBottleneckBlock(\n",
            "            (shortcut): Identity()\n",
            "            (block): Sequential(\n",
            "              (0): BatchNorm2d(128, eps=1e-05, momentum=0.1, affine=True, track_running_stats=False)\n",
            "              (1): ReLU()\n",
            "              (2): Conv2d(128, 128, kernel_size=(1, 1), stride=(1, 1))\n",
            "              (3): BatchNorm2d(128, eps=1e-05, momentum=0.1, affine=True, track_running_stats=True)\n",
            "              (4): ReLU()\n",
            "              (5): Conv2d(128, 128, kernel_size=(3, 3), stride=(1, 1), padding=(1, 1))\n",
            "              (6): BatchNorm2d(128, eps=1e-05, momentum=0.1, affine=True, track_running_stats=True)\n",
            "              (7): ReLU()\n",
            "              (8): Conv2d(128, 128, kernel_size=(1, 1), stride=(1, 1))\n",
            "            )\n",
            "          )\n",
            "        )\n",
            "      )\n",
            "    )\n",
            "  )\n",
            "  (fc): Linear(in_features=128, out_features=10, bias=True)\n",
            ")\n"
          ],
          "name": "stdout"
        }
      ]
    },
    {
      "cell_type": "markdown",
      "metadata": {
        "id": "9WFAlqRO_cpq"
      },
      "source": [
        "# Part VI. Questions to answer\n",
        "\n",
        "1. Explain and present the network architecture and the problems ResNet and PreResNet aimed to solve.\n",
        "2. Discuss your training and testing results. What happened? are the results acceptable, or high bias or high variance?\n",
        "3. If you were designing a novel network block for use in a network, how would you use Pytorch with your new block to create a network model?\n"
      ]
    },
    {
      "cell_type": "markdown",
      "metadata": {
        "id": "94qbq3UnmbwT"
      },
      "source": [
        "1. Plain Network and Residual network were presented. Residual networks are used directly when the input and output have the same dimensions. And it differs when dimensions differ. And plain network is related to downsampling. It differs if it performs downsampling or not. \n",
        "\n",
        "\n",
        "2. I think the results are high bias, since small number of accuracy for training.\n",
        "\n",
        "\n",
        "\n",
        "3.  I will use nn.Sequential to apply a fully-connected and convolutional network. And, I will apply plain-44 block, ResNet-44 block, since they have reasonable results in paper'Deep Residual Learning for Image Recognition'."
      ]
    }
  ]
}